{
  "nbformat": 4,
  "nbformat_minor": 0,
  "metadata": {
    "colab": {
      "provenance": [],
      "authorship_tag": "ABX9TyNDYz7oqzj3isyEAPOi3W65",
      "include_colab_link": true
    },
    "kernelspec": {
      "name": "python3",
      "display_name": "Python 3"
    },
    "language_info": {
      "name": "python"
    }
  },
  "cells": [
    {
      "cell_type": "markdown",
      "metadata": {
        "id": "view-in-github",
        "colab_type": "text"
      },
      "source": [
        "<a href=\"https://colab.research.google.com/github/Yunho-seo/education_center5/blob/main/11_numpy.ipynb\" target=\"_parent\"><img src=\"https://colab.research.google.com/assets/colab-badge.svg\" alt=\"Open In Colab\"/></a>"
      ]
    },
    {
      "cell_type": "code",
      "execution_count": 1,
      "metadata": {
        "colab": {
          "base_uri": "https://localhost:8080/"
        },
        "id": "fzdwfWMiAjYk",
        "outputId": "242ee42b-b740-48e7-afde-3e61a60f3fb3"
      },
      "outputs": [
        {
          "output_type": "stream",
          "name": "stdout",
          "text": [
            "1.22.4\n",
            "[[1. 0. 0. 0. 0.]\n",
            " [0. 1. 0. 0. 0.]\n",
            " [0. 0. 1. 0. 0.]\n",
            " [0. 0. 0. 1. 0.]\n",
            " [0. 0. 0. 0. 1.]]\n"
          ]
        },
        {
          "output_type": "execute_result",
          "data": {
            "text/plain": [
              "array([[1., 0., 0., 0., 0.],\n",
              "       [0., 1., 0., 0., 0.],\n",
              "       [0., 0., 1., 0., 0.],\n",
              "       [0., 0., 0., 1., 0.],\n",
              "       [0., 0., 0., 0., 1.]])"
            ]
          },
          "metadata": {},
          "execution_count": 1
        }
      ],
      "source": [
        "import numpy as np\n",
        "print(np.__version__)\n",
        "print(np.eye(5))  # 단위행렬\n",
        "np.identity(5)    # +의 항등원 : 0, *의 항등원 : 1, 행렬의 항등원 : 단위행렬렬"
      ]
    },
    {
      "cell_type": "code",
      "source": [
        "# n차원 행렬 == 다차원 행렬\n",
        "# 행 우선 : C-Style , 열 우선 : Fortran\n",
        "#  ndarray : NumPy의 N차원 배열 객체\n",
        "first = np.ndarray(shape=(2, 2), dtype=float, order='F')  # numpy는 행, 열 어떤 것이던지 사용이 가능하다.\n",
        "first.fill(10)\n",
        "first"
      ],
      "metadata": {
        "colab": {
          "base_uri": "https://localhost:8080/"
        },
        "id": "KtFgqSTvBSWo",
        "outputId": "ebae7c0d-8086-4fba-b06c-ac2fdf1b1979"
      },
      "execution_count": 4,
      "outputs": [
        {
          "output_type": "execute_result",
          "data": {
            "text/plain": [
              "array([[10., 10.],\n",
              "       [10., 10.]])"
            ]
          },
          "metadata": {},
          "execution_count": 4
        }
      ]
    },
    {
      "cell_type": "code",
      "source": [
        "# for문 뒤에 range(시작값, 종료값, 증감값)\n",
        "# for( 초기값, 한계값, 증감값 )\n",
        "print(np.arange(10))  # ndarray를 리턴한다.\n",
        "array = np.arange(10).reshape(5, 2)\n",
        "print('원배열 : \\n', array)\n",
        "\n",
        "b = np.ones_like(array, float)  # 차수만 빌려 온다.\n",
        "print('\\n동일 사이즈행렬 : \\n', b)\n",
        "\n",
        "array = np.arange(8)\n",
        "c = np.ones_like(array)  # 1로 채움\n",
        "print('\\nMatrix c : \\n', c)"
      ],
      "metadata": {
        "colab": {
          "base_uri": "https://localhost:8080/"
        },
        "id": "xuLHAY1fBSY-",
        "outputId": "8a373cac-5abf-45d2-baa0-785c9a44b4d5"
      },
      "execution_count": 5,
      "outputs": [
        {
          "output_type": "stream",
          "name": "stdout",
          "text": [
            "[0 1 2 3 4 5 6 7 8 9]\n",
            "원배열 : \n",
            " [[0 1]\n",
            " [2 3]\n",
            " [4 5]\n",
            " [6 7]\n",
            " [8 9]]\n",
            "\n",
            "동일 사이즈행렬 : \n",
            " [[1. 1.]\n",
            " [1. 1.]\n",
            " [1. 1.]\n",
            " [1. 1.]\n",
            " [1. 1.]]\n",
            "\n",
            "Matrix c : \n",
            " [1 1 1 1 1 1 1 1]\n"
          ]
        }
      ]
    },
    {
      "cell_type": "code",
      "source": [
        "c = np.arange(10)\n",
        "print(c)\n",
        "print(type(c))   # 타입\n",
        "c_copy = c[0:5]  # slice 부분집합 (뒤는 포함되지 않음) (0~4)\n",
        "print(c_copy)\n",
        "\n",
        "c_copy[0:2] = 100\n",
        "print(c)\n",
        "print(c_copy)  # 원본이 수정"
      ],
      "metadata": {
        "colab": {
          "base_uri": "https://localhost:8080/"
        },
        "id": "1y2sJ3uhFzgJ",
        "outputId": "061d747d-40b9-4569-87bd-638ed332c23b"
      },
      "execution_count": 7,
      "outputs": [
        {
          "output_type": "stream",
          "name": "stdout",
          "text": [
            "[0 1 2 3 4 5 6 7 8 9]\n",
            "<class 'numpy.ndarray'>\n",
            "[0 1 2 3 4]\n",
            "[100 100   2   3   4   5   6   7   8   9]\n",
            "[100 100   2   3   4]\n"
          ]
        }
      ]
    },
    {
      "cell_type": "code",
      "source": [
        "e = np.arange(24).reshape(2, 3, 4)  # (면, 행, 열) => 2면 3행 4열 : 3x4 행렬이 2개 있다.\n",
        "print(e)\n",
        "print(e.flatten())  # flatten() : 1차원으로 변형\n",
        "e = np.arange(24).reshape(1, 2, 3, 4)  # 차원수의 확장\n",
        "print('차원 확대')\n",
        "print(e)\n",
        "print('차원 축소')\n",
        "\n",
        "e = e.reshape(-1, 4)  # -1 : 나머지 다 / 4차원을 2차원으로 바꾸기\n",
        "print(e)\n",
        "print(e[1])"
      ],
      "metadata": {
        "colab": {
          "base_uri": "https://localhost:8080/"
        },
        "id": "QM6TnCliFziH",
        "outputId": "38dfb37c-8089-447d-bd4f-90ee46b022ed"
      },
      "execution_count": 8,
      "outputs": [
        {
          "output_type": "stream",
          "name": "stdout",
          "text": [
            "[[[ 0  1  2  3]\n",
            "  [ 4  5  6  7]\n",
            "  [ 8  9 10 11]]\n",
            "\n",
            " [[12 13 14 15]\n",
            "  [16 17 18 19]\n",
            "  [20 21 22 23]]]\n",
            "[ 0  1  2  3  4  5  6  7  8  9 10 11 12 13 14 15 16 17 18 19 20 21 22 23]\n",
            "차원 확대\n",
            "[[[[ 0  1  2  3]\n",
            "   [ 4  5  6  7]\n",
            "   [ 8  9 10 11]]\n",
            "\n",
            "  [[12 13 14 15]\n",
            "   [16 17 18 19]\n",
            "   [20 21 22 23]]]]\n",
            "차원 축소\n",
            "[[ 0  1  2  3]\n",
            " [ 4  5  6  7]\n",
            " [ 8  9 10 11]\n",
            " [12 13 14 15]\n",
            " [16 17 18 19]\n",
            " [20 21 22 23]]\n",
            "[4 5 6 7]\n"
          ]
        }
      ]
    },
    {
      "cell_type": "code",
      "source": [
        "def pprint(arr):\n",
        "  print(\"type:{}\".format(type(arr)))\n",
        "  #       차수                 차원                    데이터타입   (배열의 3대 요소)\n",
        "  print(f\"shape : {arr.shape}, dimension : {arr.ndim}, dtype : {arr.dtype}\")\n",
        "  print(\"배열 데이터:\\n\", arr)\n",
        "arr = [1, 2, 3]\n",
        "a = np.array([1, 2, 3])  # 리스트(list)로 데이터 생성\n",
        "pprint(a)"
      ],
      "metadata": {
        "colab": {
          "base_uri": "https://localhost:8080/"
        },
        "id": "ZUPTTn_fFzj5",
        "outputId": "e847f84f-7025-4137-af55-34426fe8006c"
      },
      "execution_count": 9,
      "outputs": [
        {
          "output_type": "stream",
          "name": "stdout",
          "text": [
            "type:<class 'numpy.ndarray'>\n",
            "shape : (3,), dimension : 1, dtype : int64\n",
            "배열 데이터:\n",
            " [1 2 3]\n"
          ]
        }
      ]
    },
    {
      "cell_type": "code",
      "source": [
        "a = np.arange(10)\n",
        "print(type(a))\n",
        "print(a.dtype)  # 데이터 자료형 \n",
        "print(a.shape)  # 차수\n",
        "print(a.ndim)   # 차원수 (1차원)\n",
        "print(\"바이트오더\", a.dtype.byteorder)    # 변화 : big endian, little endian\n",
        "print(\"아이템 사이즈\", a.dtype.itemsize)  # 데이터의 바이트 수 (1바이트는 8비트, 8바이트는 64비트)\n",
        "print(\"타입의 이름\", a.dtype.type)\n",
        "print(a.size)  # a의 사이즈 : 10 (개수)\n",
        "print(a.astype(np.float32))  # 타입을 바꿀 수 있다.\n",
        "print(a.dtype.itemsize * a.size)  #  메모리 용량 (80 바이트)"
      ],
      "metadata": {
        "colab": {
          "base_uri": "https://localhost:8080/"
        },
        "id": "s5zKVupMFzl3",
        "outputId": "a11c66f1-5314-4773-e79b-b6859177104b"
      },
      "execution_count": 20,
      "outputs": [
        {
          "output_type": "stream",
          "name": "stdout",
          "text": [
            "<class 'numpy.ndarray'>\n",
            "int64\n",
            "(10,)\n",
            "1\n",
            "바이트오더 =\n",
            "아이템 사이즈 8\n",
            "타입의 이름 <class 'numpy.int64'>\n",
            "10\n",
            "[0. 1. 2. 3. 4. 5. 6. 7. 8. 9.]\n",
            "80\n"
          ]
        }
      ]
    },
    {
      "cell_type": "code",
      "source": [
        "# [[1, 2], [3, 4]]\n",
        "# 문제\n",
        "# 다음 2차원 리스트를 ndarray로 변환하기\n",
        "\n",
        "list = [[1, 2], [3, 4]]\n",
        "array = np.array(list)\n",
        "\n",
        "print(array)\n",
        "print(type(array))\n",
        "\n",
        "# np.array([[1, 2], [3, 4]])"
      ],
      "metadata": {
        "colab": {
          "base_uri": "https://localhost:8080/"
        },
        "id": "3twTW9lNBSbG",
        "outputId": "814a4ca9-9d31-404b-86a2-fe02f3785e7e"
      },
      "execution_count": 23,
      "outputs": [
        {
          "output_type": "stream",
          "name": "stdout",
          "text": [
            "[[1 2]\n",
            " [3 4]]\n",
            "<class 'numpy.ndarray'>\n"
          ]
        }
      ]
    },
    {
      "cell_type": "code",
      "source": [
        "# 문제\n",
        "# 다음 데이터를 arange를 이용하여 작성하기\n",
        "# a = np.array([[11, 12, 13, 14, 15],\n",
        "#               [16, 17, 18, 19, 20],\n",
        "#               [21, 22, 23, 24, 25],\n",
        "#               [26, 27, 28, 29, 30],\n",
        "#               [31, 32, 33, 34, 35]])\n",
        "\n",
        "a = np.arange(11, 36).reshape(5, 5)    \n",
        "print(a.shape)\n",
        "print(a)"
      ],
      "metadata": {
        "colab": {
          "base_uri": "https://localhost:8080/"
        },
        "id": "fllAnTuPBSdX",
        "outputId": "cfe2a074-bce0-4c68-bab0-1554eb58cd83"
      },
      "execution_count": 26,
      "outputs": [
        {
          "output_type": "stream",
          "name": "stdout",
          "text": [
            "(5, 5)\n",
            "[[11 12 13 14 15]\n",
            " [16 17 18 19 20]\n",
            " [21 22 23 24 25]\n",
            " [26 27 28 29 30]\n",
            " [31 32 33 34 35]]\n"
          ]
        }
      ]
    },
    {
      "cell_type": "code",
      "source": [
        "# 전치\n",
        "a.transpose()  # 변환 데이터를 리턴 (원본을 변경하지 않는다)"
      ],
      "metadata": {
        "colab": {
          "base_uri": "https://localhost:8080/"
        },
        "id": "YySSjdyWNK3b",
        "outputId": "ee1aa95e-4dad-483d-8353-f48442ec07de"
      },
      "execution_count": 29,
      "outputs": [
        {
          "output_type": "execute_result",
          "data": {
            "text/plain": [
              "array([[11, 16, 21, 26, 31],\n",
              "       [12, 17, 22, 27, 32],\n",
              "       [13, 18, 23, 28, 33],\n",
              "       [14, 19, 24, 29, 34],\n",
              "       [15, 20, 25, 30, 35]])"
            ]
          },
          "metadata": {},
          "execution_count": 29
        }
      ]
    },
    {
      "cell_type": "code",
      "source": [
        "a"
      ],
      "metadata": {
        "colab": {
          "base_uri": "https://localhost:8080/"
        },
        "id": "c6vuBEcmNK5R",
        "outputId": "a57d6138-9638-4791-971c-8a211e12c530"
      },
      "execution_count": 31,
      "outputs": [
        {
          "output_type": "execute_result",
          "data": {
            "text/plain": [
              "array([[11, 12, 13, 14, 15],\n",
              "       [16, 17, 18, 19, 20],\n",
              "       [21, 22, 23, 24, 25],\n",
              "       [26, 27, 28, 29, 30],\n",
              "       [31, 32, 33, 34, 35]])"
            ]
          },
          "metadata": {},
          "execution_count": 31
        }
      ]
    },
    {
      "cell_type": "code",
      "source": [
        "# 인덱싱 (Indexing)\n",
        "arr2d = np.array([[1, 2, 3], [4, 5, 6], [7, 8, 9]])  # 3x3 행렬 \n",
        "print(arr2d.dtype)  # int64(비트)가 디폴트(Default) : 8바이트 \n",
        "print(arr2d)\n",
        "print(arr2d[:2])    # 처음 행렬부터 두번째 행렬까지 (0~1)\n",
        "print()\n",
        "print(arr2d[0])     # 첫번째 행렬\n",
        "print(arr2d[0][2])  # 첫번째 행렬의 [2]번 요소\n",
        "print(arr2d[0, 2])  # arr2d[0][2]와 같음 \n",
        "print()\n",
        "print(arr2d[:2])\n",
        "print(arr2d[:2, 1:])\n",
        "print(arr2d[1, :2])  # [1]번째 행렬에서 0~1번째 요소\n",
        "print(arr2d[2, :1])  # [2]번째 행렬에서 0번째 요소\n",
        "print()\n",
        "arr2d[:2, :1] = 0    # update\n",
        "arr2d[:2, :1] = 0\n",
        "print()\n",
        "print(arr2d)\n",
        "print(arr2d.ndim)    # 차원 수\n",
        "print(arr2d.strides) # 24, 8  # 다음 행이 나오려면 24바이트를 지나가야 하고, 다음 열이 나오려면 8바이트를 지나가야 함\n",
        "# 데이터는 메모리에 1차원으로 저장"
      ],
      "metadata": {
        "colab": {
          "base_uri": "https://localhost:8080/"
        },
        "id": "6l-M3-9JNK65",
        "outputId": "29d316c2-d0bd-488f-d4a3-2fc1c26726a1"
      },
      "execution_count": 40,
      "outputs": [
        {
          "output_type": "stream",
          "name": "stdout",
          "text": [
            "int64\n",
            "[[1 2 3]\n",
            " [4 5 6]\n",
            " [7 8 9]]\n",
            "[[1 2 3]\n",
            " [4 5 6]]\n",
            "\n",
            "[1 2 3]\n",
            "3\n",
            "3\n",
            "\n",
            "[[1 2 3]\n",
            " [4 5 6]]\n",
            "[[2 3]\n",
            " [5 6]]\n",
            "[4 5]\n",
            "[7]\n",
            "\n",
            "\n",
            "[[0 2 3]\n",
            " [0 5 6]\n",
            " [7 8 9]]\n",
            "2\n",
            "(24, 8)\n"
          ]
        }
      ]
    },
    {
      "cell_type": "code",
      "source": [
        "# 요소 연산과 내적\n",
        "a = np.array([[1, 2],\n",
        "              [3, 4]])\n",
        "b = np.array([[4, 3],\n",
        "              [2, 1]])\n",
        "\n",
        "print(a+b, '\\n')\n",
        "print(a*b, '\\n')\n",
        "print(a.dot(b))  # 내적 / 행렬곱은 내적의 연속이다. 앞에 있는 행벡터를 뒤에 있는 열벡터의 숫자만큼 특성을 추출 "
      ],
      "metadata": {
        "colab": {
          "base_uri": "https://localhost:8080/"
        },
        "id": "A2oKXFCQNK8p",
        "outputId": "24d7b234-88d0-4290-e7f1-78f210172791"
      },
      "execution_count": 45,
      "outputs": [
        {
          "output_type": "stream",
          "name": "stdout",
          "text": [
            "[[5 5]\n",
            " [5 5]] \n",
            "\n",
            "[[4 6]\n",
            " [6 4]] \n",
            "\n",
            "[[ 8  5]\n",
            " [20 13]]\n"
          ]
        }
      ]
    },
    {
      "cell_type": "code",
      "source": [
        "arr3d = np.arange(1, 13).reshape(2, 2, 3)  # 1부터 12까지, 2면 2x3 행렬 / [[[1, 2, 3], [4, 5, 6]], [[7, 8, 9], [10, 11, 12]]]\n",
        "print(arr3d)\n",
        "print('첫면은', arr3d[0])  # 0면 \n",
        "print('첫면 첫행은 =', arr3d[0][0])\n",
        "print('첫면 첫행, 첫요소는 =', arr3d[0][0][0])\n",
        "\n",
        "# 문제\n",
        "# 위 데이터의 차원, 차수, 데이터타입, strides를 확인하기\n",
        "arr3d.ndim\n",
        "arr3d.shape\n",
        "arr3d.dtype\n",
        "arr3d.strides\n"
      ],
      "metadata": {
        "colab": {
          "base_uri": "https://localhost:8080/"
        },
        "id": "DCaKpwKkNK-J",
        "outputId": "1e620657-6274-447c-f7d8-b47c16f7dd9a"
      },
      "execution_count": 49,
      "outputs": [
        {
          "output_type": "stream",
          "name": "stdout",
          "text": [
            "[[[ 1  2  3]\n",
            "  [ 4  5  6]]\n",
            "\n",
            " [[ 7  8  9]\n",
            "  [10 11 12]]]\n",
            "첫면은 [[1 2 3]\n",
            " [4 5 6]]\n",
            "첫면 첫행은 = [1 2 3]\n",
            "첫면 첫행, 첫요소는 = 1\n"
          ]
        },
        {
          "output_type": "execute_result",
          "data": {
            "text/plain": [
              "(48, 24, 8)"
            ]
          },
          "metadata": {},
          "execution_count": 49
        }
      ]
    },
    {
      "cell_type": "code",
      "source": [
        "old_values = arr3d.copy()  # 명시적으로 복사\n",
        "arr3d[0] = 42\n",
        "print('값의 변경 후')\n",
        "print(arr3d)\n",
        "print('이전 값으로 복구')\n",
        "arr3d = old_values\n",
        "print(arr3d)"
      ],
      "metadata": {
        "colab": {
          "base_uri": "https://localhost:8080/"
        },
        "id": "Ri5l95L5NK_r",
        "outputId": "5f4c8925-114a-4a45-fedf-9c7aca1b4988"
      },
      "execution_count": 50,
      "outputs": [
        {
          "output_type": "stream",
          "name": "stdout",
          "text": [
            "값의 변경 후\n",
            "[[[42 42 42]\n",
            "  [42 42 42]]\n",
            "\n",
            " [[ 7  8  9]\n",
            "  [10 11 12]]]\n",
            "이전 값으로 복구\n",
            "[[[ 1  2  3]\n",
            "  [ 4  5  6]]\n",
            "\n",
            " [[ 7  8  9]\n",
            "  [10 11 12]]]\n"
          ]
        }
      ]
    },
    {
      "cell_type": "code",
      "source": [
        "Z = np.arange(36)\n",
        "print(Z)\n",
        "Z = Z.reshape((6, 6))  # 6x6 행렬\n",
        "print(Z[1:5, 1:5])  # 1부터 4까지 / 교차지점을 선택\n",
        "print(Z[[1, 2, 3], [1, 2, 3]])  # 7, 14, 21 : 1x1, 2x2, 3x3  # 순서대로 두개씩 짝을 지어서 인덱싱한다. # 리스트를 지정할 때에는 짝이 맞아야 함\n",
        "A = Z[1:5, 1:5]  # slicing view # 복사할 때에는 명시적으로 .copy를 달아 주저야 함\n",
        "A[0, 0] = 9\n",
        "print( A)\n",
        "print(Z)  # 0 ~ 35"
      ],
      "metadata": {
        "colab": {
          "base_uri": "https://localhost:8080/"
        },
        "id": "9PgwyTkmNLBQ",
        "outputId": "aad1cf33-43fb-4d12-98c4-46d3ba1422a8"
      },
      "execution_count": 53,
      "outputs": [
        {
          "output_type": "stream",
          "name": "stdout",
          "text": [
            "[ 0  1  2  3  4  5  6  7  8  9 10 11 12 13 14 15 16 17 18 19 20 21 22 23\n",
            " 24 25 26 27 28 29 30 31 32 33 34 35]\n",
            "[[ 7  8  9 10]\n",
            " [13 14 15 16]\n",
            " [19 20 21 22]\n",
            " [25 26 27 28]]\n",
            "[ 7 14 21]\n",
            "[[ 9  8  9 10]\n",
            " [13 14 15 16]\n",
            " [19 20 21 22]\n",
            " [25 26 27 28]]\n",
            "[[ 0  1  2  3  4  5]\n",
            " [ 6  9  8  9 10 11]\n",
            " [12 13 14 15 16 17]\n",
            " [18 19 20 21 22 23]\n",
            " [24 25 26 27 28 29]\n",
            " [30 31 32 33 34 35]]\n"
          ]
        }
      ]
    },
    {
      "cell_type": "code",
      "source": [
        "arr = np.arange(32).reshape((8, 4))  # 0부터 31까지, 8x4 행렬\n",
        "print(arr)\n",
        "print(arr[0, 3])  # 0번째 행렬에서 [3]번째 요소\n",
        "print(arr[0:2, 0:2])  # 0행부터 1행까지, 1번째에서 2번째 요소만 출력\n",
        "print(\"조합 인덱스\")\n",
        "print(arr[[1, 5, 7, 2], [0, 3, 1, 2]])  # 1행의 0번, 5행의 3번, 7행의 1번, 2행의 2번\n",
        "\n",
        "print(\"파이프\")\n",
        "print(arr[[1, 5, 7, 2]][[0, 3, 1]])  # [1, 5, 7, 2] 중 [0], [3], [1]번째 요소 => 1, 2, 5\n",
        "\n",
        "print(\"팬시\")\n",
        "print(arr[[1, 2, 5, 7]][:, [0, 1, 2, 3]])  # [1, 5, 7, 2] 중 행은 전체, 0번째, 1번째, 2번째, 3번째 열\n",
        "print(arr[[1, 5, 7, 2]][:, [0, 3, 1]])     # [1, 5, 7, 2] 중 행은 전체, 0번째 열, 3번째 열, 1번째 열"
      ],
      "metadata": {
        "colab": {
          "base_uri": "https://localhost:8080/"
        },
        "id": "bCfKb9CfNLDJ",
        "outputId": "3c83fe75-1610-4d5a-acd7-14513e24a611"
      },
      "execution_count": 62,
      "outputs": [
        {
          "output_type": "stream",
          "name": "stdout",
          "text": [
            "[[ 0  1  2  3]\n",
            " [ 4  5  6  7]\n",
            " [ 8  9 10 11]\n",
            " [12 13 14 15]\n",
            " [16 17 18 19]\n",
            " [20 21 22 23]\n",
            " [24 25 26 27]\n",
            " [28 29 30 31]]\n",
            "3\n",
            "[[0 1]\n",
            " [4 5]]\n",
            "조합 인덱스\n",
            "[ 4 23 29 10]\n",
            "파이프\n",
            "[[ 4  5  6  7]\n",
            " [ 8  9 10 11]\n",
            " [20 21 22 23]]\n",
            "팬시\n",
            "[[ 4  5  6  7]\n",
            " [ 8  9 10 11]\n",
            " [20 21 22 23]\n",
            " [28 29 30 31]]\n",
            "[[ 4  7  5]\n",
            " [20 23 21]\n",
            " [28 31 29]\n",
            " [ 8 11  9]]\n"
          ]
        }
      ]
    },
    {
      "cell_type": "code",
      "source": [
        "# 문제\n",
        "arr = np.arange(60).reshape((6,10))\n",
        "a = arr[:, 0:6]\n",
        "print(a)\n",
        "\n",
        "# [2, 22, 52] 추출 (빨간색)\n",
        "print(a[[0, 2, 5], [2, 2, 2]])\n",
        "\n",
        "# [1, 12, 23, 34, 45] 추출 (주황색)\n",
        "print(arr[[0,1,2,3,4],[1,2,3,4,5]])\n",
        "\n",
        "# [[30, 40, 50], [32, 42, 52], [35, 45, 55]] 추출 (파란색)\n",
        "print(arr[[3, 4, 5]][:, [0, 2, 5]])"
      ],
      "metadata": {
        "colab": {
          "base_uri": "https://localhost:8080/"
        },
        "id": "j_gtF9r7NLFK",
        "outputId": "10a8d4d3-5619-4676-9ae3-22b158b68a36"
      },
      "execution_count": 79,
      "outputs": [
        {
          "output_type": "stream",
          "name": "stdout",
          "text": [
            "[[ 0  1  2  3  4  5]\n",
            " [10 11 12 13 14 15]\n",
            " [20 21 22 23 24 25]\n",
            " [30 31 32 33 34 35]\n",
            " [40 41 42 43 44 45]\n",
            " [50 51 52 53 54 55]]\n",
            "[ 2 22 52]\n",
            "[ 1 12 23 34 45]\n",
            "[[30 32 35]\n",
            " [40 42 45]\n",
            " [50 52 55]]\n"
          ]
        }
      ]
    },
    {
      "cell_type": "code",
      "source": [
        "# 문제 (선생님 답)\n",
        "# 프로그래밍은 늘 규칙과 경우의 수를 찾아야 한다.\n",
        "arr = []\n",
        "for i in range(6):\n",
        "  ad = []\n",
        "  for j in range(6):\n",
        "    ad.append(i * 10 + j)\n",
        "  arr.append(ad)\n",
        "print(arr)\n",
        "arr = np.array(arr)"
      ],
      "metadata": {
        "colab": {
          "base_uri": "https://localhost:8080/"
        },
        "id": "5rr1LvIPfdGZ",
        "outputId": "7f220042-9e5a-44db-998a-c9315cea4305"
      },
      "execution_count": 80,
      "outputs": [
        {
          "output_type": "stream",
          "name": "stdout",
          "text": [
            "[[0, 1, 2, 3, 4, 5], [10, 11, 12, 13, 14, 15], [20, 21, 22, 23, 24, 25], [30, 31, 32, 33, 34, 35], [40, 41, 42, 43, 44, 45], [50, 51, 52, 53, 54, 55]]\n"
          ]
        }
      ]
    },
    {
      "cell_type": "code",
      "source": [
        "a = np.arange(0, 6)\n",
        "arr = np.array([a, a+10, a+20, a+30, a+40, a+50])\n",
        "arr"
      ],
      "metadata": {
        "colab": {
          "base_uri": "https://localhost:8080/"
        },
        "id": "Vk49cZtwf7iP",
        "outputId": "af925f95-ecc7-4992-869e-192556278dcd"
      },
      "execution_count": 81,
      "outputs": [
        {
          "output_type": "execute_result",
          "data": {
            "text/plain": [
              "array([[ 0,  1,  2,  3,  4,  5],\n",
              "       [10, 11, 12, 13, 14, 15],\n",
              "       [20, 21, 22, 23, 24, 25],\n",
              "       [30, 31, 32, 33, 34, 35],\n",
              "       [40, 41, 42, 43, 44, 45],\n",
              "       [50, 51, 52, 53, 54, 55]])"
            ]
          },
          "metadata": {},
          "execution_count": 81
        }
      ]
    },
    {
      "cell_type": "code",
      "source": [
        "# 주황색 : [1, 12, 23, 34, 45] 추출\n",
        "print('주황색', arr[[0, 1, 2, 3, 4], [1, 2, 3, 4, 5]])\n",
        "\n",
        "# 빨강색 : [2, 22, 52] 추출\n",
        "print('빨강색', arr[[0, 2, 5], [2, 2, 2]])\n",
        "# 브로드캐스팅 (broadcasting)\n",
        "print('빨강색', arr[[0, 2, 5], 2])\n",
        "\n",
        "# masking(boolean indexing)\n",
        "mask = np.array([1, 0, 1, 0, 0, 1], dtype = bool)\n",
        "print(arr[mask, 2])\n",
        "print(arr[[1, 0, 1, 0, 0, 1], 2])\n",
        "\n",
        "# 파란색 (팬시로 찾기)\n",
        "print('파란색(팬시로 찾기)', arr[3:6][:, [0, 2, 5]])"
      ],
      "metadata": {
        "colab": {
          "base_uri": "https://localhost:8080/"
        },
        "id": "0ZOH2LUcf7jm",
        "outputId": "38883a1a-8135-4294-bc6b-899d73ba7ff7"
      },
      "execution_count": 88,
      "outputs": [
        {
          "output_type": "stream",
          "name": "stdout",
          "text": [
            "주황색 [ 1 12 23 34 45]\n",
            "빨강색 [ 2 22 52]\n",
            "빨강색 [ 2 22 52]\n",
            "[ 2 22 52]\n",
            "[12  2 12  2  2 12]\n",
            "파란색(팬시로 찾기) [[30 32 35]\n",
            " [40 42 45]\n",
            " [50 52 55]]\n"
          ]
        }
      ]
    }
  ]
}