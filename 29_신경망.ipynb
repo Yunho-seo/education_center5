{
  "nbformat": 4,
  "nbformat_minor": 0,
  "metadata": {
    "colab": {
      "provenance": [],
      "mount_file_id": "1yj3tthvceNQFORLg8NtG2zTSSJ6A42FN",
      "authorship_tag": "ABX9TyPJ6K/sBZabcwrNVo1yOzaI",
      "include_colab_link": true
    },
    "kernelspec": {
      "name": "python3",
      "display_name": "Python 3"
    },
    "language_info": {
      "name": "python"
    }
  },
  "cells": [
    {
      "cell_type": "markdown",
      "metadata": {
        "id": "view-in-github",
        "colab_type": "text"
      },
      "source": [
        "<a href=\"https://colab.research.google.com/github/Yunho-seo/education_center5/blob/main/29_%EC%8B%A0%EA%B2%BD%EB%A7%9D.ipynb\" target=\"_parent\"><img src=\"https://colab.research.google.com/assets/colab-badge.svg\" alt=\"Open In Colab\"/></a>"
      ]
    },
    {
      "cell_type": "code",
      "execution_count": 75,
      "metadata": {
        "id": "GnxikIcWU61C"
      },
      "outputs": [],
      "source": [
        "# 다중 퍼셉트론 (MLP) 이용하여 논리 게이트를 구현\n",
        "import numpy as np\n",
        "w11 = np.array([-2, -2])  # 가중치\n",
        "w12 = np.array([2, 2])\n",
        "w2 = np.array([1, 1])\n",
        "\n",
        "b1 = 3  # 바이어스(bias) : 가중치가 0으로 되는 것을 방지하기 위해 layer마다 1개씩 존재한다.\n",
        "b2 = -1\n",
        "b3 = -1\n",
        "\n",
        "def MLP(x, w, b):  # Multi layer perceptron / 입력벡터 x, 가중치 벡터 w, 편향값 b\n",
        "  y = np.sum(w * x) + b  # x와 w의 내적에 b를 더함\n",
        "  if y <= 0:  # 결과값이 0보다 작거나 같으면 0을 반환\n",
        "    return 0  # False\n",
        "  else:\n",
        "    return 1  # True\n",
        "\n",
        "def NAND(x1, x2):\n",
        "  return MLP(np.array([x1, x2]), w11, b1)\n",
        "def OR(x1, x2):\n",
        "  return MLP(np.array([x1, x2]), w12, b2)\n",
        "def AND(x1, x2):  # 두 변수가 True일때만 True\n",
        "  return MLP(np.array([x1, x2]), w2, b3)  # np.array([1, 1]), b3 = -1\n",
        "def XOR(x1, x2):  # XOR 게이트는 다른 논리 게이트들의 조합으로 구성됨\n",
        "  return AND(NAND(x1, x2), OR(x1, x2))  # 중간에 layer가 필요하다."
      ]
    },
    {
      "cell_type": "code",
      "source": [
        "# 가중치 값과 바이어스만 조정하면, 회로도를 출력할 수 있다.\n",
        "print(\"OR 문제\")\n",
        "for x in [(0, 0), (1, 0), (0, 1), (1, 1)]:\n",
        "  y = OR(x[0], x[1])\n",
        "  print(\"입력값: \" + str(x) + \"출력값: \" + str(y))\n",
        "print(\"AND 문제\")\n",
        "for x in [(0, 0), (1, 0), (0, 1), (1, 1)]:\n",
        "  y = AND(x[0], x[1])\n",
        "  print(\"입력값: \" + str(x) + \"출력값: \" + str(y))\n",
        "print(\"NAND 문제\")\n",
        "for x in [(0, 0), (1, 0), (0, 1), (1, 1)]:\n",
        "  y = NAND(x[0], x[1])\n",
        "  print(\"입력값: \" + str(x) + \"출력값: \" + str(y))\n",
        "print(\"XOR 문제\")\n",
        "for x in [(0, 0), (1, 0), (0, 1), (1, 1)]:\n",
        "  y = XOR(x[0], x[1])\n",
        "  print(\"입력값: \" + str(x) + \"출력값: \" + str(y))"
      ],
      "metadata": {
        "colab": {
          "base_uri": "https://localhost:8080/"
        },
        "id": "8C8irbm-W5iu",
        "outputId": "2947c765-6c57-441e-a8e2-ec0f33bd22eb"
      },
      "execution_count": 76,
      "outputs": [
        {
          "output_type": "stream",
          "name": "stdout",
          "text": [
            "OR 문제\n",
            "입력값: (0, 0)출력값: 0\n",
            "입력값: (1, 0)출력값: 1\n",
            "입력값: (0, 1)출력값: 1\n",
            "입력값: (1, 1)출력값: 1\n",
            "AND 문제\n",
            "입력값: (0, 0)출력값: 0\n",
            "입력값: (1, 0)출력값: 0\n",
            "입력값: (0, 1)출력값: 0\n",
            "입력값: (1, 1)출력값: 1\n",
            "NAND 문제\n",
            "입력값: (0, 0)출력값: 1\n",
            "입력값: (1, 0)출력값: 1\n",
            "입력값: (0, 1)출력값: 1\n",
            "입력값: (1, 1)출력값: 0\n",
            "XOR 문제\n",
            "입력값: (0, 0)출력값: 0\n",
            "입력값: (1, 0)출력값: 1\n",
            "입력값: (0, 1)출력값: 1\n",
            "입력값: (1, 1)출력값: 0\n"
          ]
        }
      ]
    },
    {
      "cell_type": "code",
      "source": [
        "# 한글화\n",
        "!apt-get update -qq\n",
        "!apt-get install fonts-nanum* -qq\n",
        "import matplotlib.pyplot as plt\n",
        "import matplotlib.font_manager as fm\n",
        "fe = fm.FontEntry(\n",
        "    fname = r'/usr/share/fonts/truetype/nanum/NanumGothic.ttf', name='NanumGothic')\n",
        "fm.fontManager.ttflist.insert(0, fe)\n",
        "plt.rcParams.update({'font.size':18, 'font.family':'NanumGothic'})"
      ],
      "metadata": {
        "id": "3fpy1b_8W5w2"
      },
      "execution_count": null,
      "outputs": []
    },
    {
      "cell_type": "code",
      "source": [
        "# 데이터 X와 레이블 y를 시각화 \n",
        "def plot_iris(X, y, model, title, xmin=-2.5, xmax=2.5, ymin=-2.5, ymax=2.5):  # X는 데이터의 특성, y는 데이터 레이블\n",
        "  XX, YY = np.meshgrid(np.arange(xmin, xmax, (xmax - xmin) / 1000),  # XX, YY라는 격자 좌표, meshgrid()로 x, y 좌표 생성\n",
        "                       np.arange(ymin, ymax, (ymax - ymin) / 1000))  # X 데이터와 Y 데이터의 조합\n",
        "  ZZ = np.reshape(model.predict(np.array([XX.ravel(), YY.ravel()]).T), XX.shape)  # 각 좌표에 대한 예측값 계산 후 변환\n",
        "  plt.contourf(XX, YY, ZZ, alpha = 0.5)  # 분류선을 출력 / 등고선 그래프\n",
        "  plt.scatter(X[y == 0, 0], X[y == 0, 1], c = 'r', marker = 'o', label = '0', s = 100)  # y값이 0인 데이터는 빨간 원\n",
        "  plt.scatter(X[y == 1, 0], X[y == 1, 1], c = 'g', marker = 's', label = '1', s = 100)  # X값이 1인 데이터는 초록 네모\n",
        "  plt.xlim(xmin, xmax)\n",
        "  plt.ylim(ymin, ymax)\n",
        "  plt.title(title)\n",
        "  plt.show()"
      ],
      "metadata": {
        "id": "A7r1kd48W5y-"
      },
      "execution_count": 78,
      "outputs": []
    },
    {
      "cell_type": "code",
      "source": [
        "# Linear Regression 선형\n",
        "# 회귀에서 비선형을 다루려면, 데이터를 고차원으로 변환하여야 함\n",
        "# 신경망에서는 매번 내적 계산시마다 activation function을 달아 비선형으로 매핑(mapping)한다.\n",
        "# sigmoid(0 ~ 1 사이 값), tanh(-1 ~ 1 사이 값), relu(양수는 그대로, 음수는 0)"
      ],
      "metadata": {
        "id": "vVZdBYZseUWd"
      },
      "execution_count": 79,
      "outputs": []
    },
    {
      "cell_type": "code",
      "source": [
        "import numpy as np\n",
        "import matplotlib.pyplot as plt\n",
        "from sklearn.neural_network import MLPClassifier\n",
        "from sklearn.datasets import make_moons\n",
        "from sklearn.model_selection import train_test_split\n",
        "\n",
        "X, y = make_moons(n_samples = 100, noise = 0.25, random_state = 3)\n",
        "print(X.shape)\n",
        "print(y.shape)\n",
        "X_train, X_test, y_train, y_test = train_test_split(X, y, stratify = y,\n",
        "                                                    random_state = 42)\n",
        "mlp = MLPClassifier(max_iter = 3000, random_state = 0).fit(X_train, y_train)\n",
        "# adam : learning-rate (학습률) + momentum (지그재그 이동을 방지 : 가던 방향을 고려) 지원 \n",
        "# 처음에는 크게 오차가 작아지면, 점점 작게 조절한다. (작은 데이터로도 fitting이 가능)\n",
        "# alpha : L2 regularization(규제) - 과적합을 방지\n",
        "# batch_size 여러개의 sample 결과값을 한꺼번에 조절 : 지역해에 빠지는 것을 방지\n",
        "# 평균으로 한번 오차를 조절하는 방법 : batch 학습법\n",
        "# adaptive 적응적.\n",
        "# momentum, nesterovs_momentum (진행 방향의 끝에서 주어진 방향으로 이동)\n",
        "# early_stopping : 과적합 방지 오차가 늘어나면, 일정기간 참다가 종료한다.\n",
        "plot_iris(X_train, y_train, mlp, \"ANN\")\n",
        "plt.xlabel(\"특성 0\")\n",
        "plt.ylabel(\"특성 1\")"
      ],
      "metadata": {
        "colab": {
          "base_uri": "https://localhost:8080/",
          "height": 987
        },
        "id": "54XoSJTgW509",
        "outputId": "8b029b64-56f9-40c9-fc79-d8b926e52519"
      },
      "execution_count": 80,
      "outputs": [
        {
          "output_type": "stream",
          "name": "stdout",
          "text": [
            "(100, 2)\n",
            "(100,)\n"
          ]
        },
        {
          "output_type": "display_data",
          "data": {
            "text/plain": [
              "<Figure size 640x480 with 1 Axes>"
            ],
            "image/png": "[encoded data removed]"
          },
          "metadata": {}
        },
        {
          "output_type": "execute_result",
          "data": {
            "text/plain": [
              "Text(0, 0.5, '특성 1')"
            ]
          },
          "metadata": {},
          "execution_count": 80
        },
        {
          "output_type": "display_data",
          "data": {
            "text/plain": [
              "<Figure size 640x480 with 1 Axes>"
            ],
            "image/png": "[encoded data removed]"
          },
          "metadata": {}
        }
      ]
    },
    {
      "cell_type": "code",
      "source": [
        "mlp.coefs_  # MLPClassifier 모델의 가중치 / 리스트 형태"
      ],
      "metadata": {
        "id": "bS-DjHcJW53Y"
      },
      "execution_count": null,
      "outputs": []
    },
    {
      "cell_type": "code",
      "source": [
        "mlp.get_params()  # MLPClassifier 모델의 default parameter / 매개변수명을 키(key)fh, 설정값을 값(value)으로 가짐"
      ],
      "metadata": {
        "colab": {
          "base_uri": "https://localhost:8080/"
        },
        "id": "f-3REWkEW55m",
        "outputId": "dafdd08f-fc21-4824-da5e-bc7b3fdc0251"
      },
      "execution_count": 82,
      "outputs": [
        {
          "output_type": "execute_result",
          "data": {
            "text/plain": [
              "{'activation': 'relu',\n",
              " 'alpha': 0.0001,\n",
              " 'batch_size': 'auto',\n",
              " 'beta_1': 0.9,\n",
              " 'beta_2': 0.999,\n",
              " 'early_stopping': False,\n",
              " 'epsilon': 1e-08,\n",
              " 'hidden_layer_sizes': (100,),\n",
              " 'learning_rate': 'constant',\n",
              " 'learning_rate_init': 0.001,\n",
              " 'max_fun': 15000,\n",
              " 'max_iter': 3000,\n",
              " 'momentum': 0.9,\n",
              " 'n_iter_no_change': 10,\n",
              " 'nesterovs_momentum': True,\n",
              " 'power_t': 0.5,\n",
              " 'random_state': 0,\n",
              " 'shuffle': True,\n",
              " 'solver': 'adam',\n",
              " 'tol': 0.0001,\n",
              " 'validation_fraction': 0.1,\n",
              " 'verbose': False,\n",
              " 'warm_start': False}"
            ]
          },
          "metadata": {},
          "execution_count": 82
        }
      ]
    },
    {
      "cell_type": "code",
      "source": [
        "# MLPClassifier 모델을 사용하여 다층 퍼셉트론 학습과 결정 경계를 시각화\n",
        "# slover : 최적화에 사용할 lbfgs 알고리즘\n",
        "mlp = MLPClassifier(solver = 'lbfgs', random_state = 0, hidden_layer_sizes = [20, 20])  # 두개의 은닉층과 각각 20개의 유닛\n",
        "mlp.fit(X_train, y_train)  # 모델을 훈련셋에 학습 (X_train은 훈련 데이터의 입력특성, y_train은 훈련 데이터의 클래스 레이블)\n",
        "plot_iris(X_train, y_train, mlp, \"ANN\")  # 훈련셋 데이터와 MLP 분류기의 결정 경계를 시각화 (x, y축에 레이블 추가)\n",
        "plt.xlabel(\"특성 0\")  # x 축 레이블\n",
        "plt.ylabel(\"특성 1\")  # y 축 레이블\n",
        "\n",
        "# hidden_layer_sizes = [30, 10]이라면,\n",
        "# 75 x 2  2 x 30  30 x 10  10 x 10"
      ],
      "metadata": {
        "colab": {
          "base_uri": "https://localhost:8080/",
          "height": 950
        },
        "id": "z-dyVlvyW571",
        "outputId": "01b9d138-b2dc-4114-8e39-c1deb4d78e0a"
      },
      "execution_count": 83,
      "outputs": [
        {
          "output_type": "display_data",
          "data": {
            "text/plain": [
              "<Figure size 640x480 with 1 Axes>"
            ],
            "image/png": "[encoded data removed]"
          },
          "metadata": {}
        },
        {
          "output_type": "execute_result",
          "data": {
            "text/plain": [
              "Text(0, 0.5, '특성 1')"
            ]
          },
          "metadata": {},
          "execution_count": 83
        },
        {
          "output_type": "display_data",
          "data": {
            "text/plain": [
              "<Figure size 640x480 with 1 Axes>"
            ],
            "image/png": "[encoded data removed]"
          },
          "metadata": {}
        }
      ]
    },
    {
      "cell_type": "code",
      "source": [
        "X_train.shape"
      ],
      "metadata": {
        "colab": {
          "base_uri": "https://localhost:8080/"
        },
        "id": "ok77g9rHW5-G",
        "outputId": "f3cc2963-53dc-4f2d-cd9a-62d3b1ae8b55"
      },
      "execution_count": 84,
      "outputs": [
        {
          "output_type": "execute_result",
          "data": {
            "text/plain": [
              "(75, 2)"
            ]
          },
          "metadata": {},
          "execution_count": 84
        }
      ]
    },
    {
      "cell_type": "code",
      "source": [
        "# ndarray를 리스트(list)로 묶어 놓음\n",
        "mlp.coefs_[0].shape  # (2, 20)\n",
        "# 이진 분류문제\n",
        "# (75, 2) (2, 20) => 75 x 20 (20, 20) => 75 x 20 (20 x 1) => binary인 경우 출력층으로 1개가 나간다.\n",
        "#"
      ],
      "metadata": {
        "colab": {
          "base_uri": "https://localhost:8080/"
        },
        "id": "Mxq49SGIi9q5",
        "outputId": "209018e7-9638-4eda-c1bb-bdcc8d0e503f"
      },
      "execution_count": 85,
      "outputs": [
        {
          "output_type": "execute_result",
          "data": {
            "text/plain": [
              "(2, 20)"
            ]
          },
          "metadata": {},
          "execution_count": 85
        }
      ]
    },
    {
      "cell_type": "code",
      "source": [
        "mlp.coefs_[1].shape  # (20, 20)"
      ],
      "metadata": {
        "colab": {
          "base_uri": "https://localhost:8080/"
        },
        "id": "2MfuC4cMjB7I",
        "outputId": "a52c7605-303c-4551-8e3b-508d564e8411"
      },
      "execution_count": 86,
      "outputs": [
        {
          "output_type": "execute_result",
          "data": {
            "text/plain": [
              "(20, 20)"
            ]
          },
          "metadata": {},
          "execution_count": 86
        }
      ]
    },
    {
      "cell_type": "code",
      "source": [
        "mlp.coefs_[2].shape  # (20, 1)"
      ],
      "metadata": {
        "colab": {
          "base_uri": "https://localhost:8080/"
        },
        "id": "I09MCuT_jROI",
        "outputId": "d9e834ec-683b-47fd-d459-ec57057429e3"
      },
      "execution_count": 87,
      "outputs": [
        {
          "output_type": "execute_result",
          "data": {
            "text/plain": [
              "(20, 1)"
            ]
          },
          "metadata": {},
          "execution_count": 87
        }
      ]
    },
    {
      "cell_type": "code",
      "source": [
        "mlp = MLPClassifier(solver = 'lbfgs', max_iter = 500,  # max_iter() : 학습 epoch의 최대 횟수\n",
        "                    random_state = 0, hidden_layer_sizes = [10, 10])  # 두개의 은닉층을 가지고, 각각 10개의 유닛을 가짐\n",
        "mlp.fit(X_train, y_train)\n",
        "plot_iris(X_train, y_train, mlp, \"ANN\")\n",
        "# 가중치 사이즈 계산하기\n",
        "# (75x2) (2x10) (10x10) (10x1)"
      ],
      "metadata": {
        "colab": {
          "base_uri": "https://localhost:8080/",
          "height": 470
        },
        "id": "WvIB7OyTjUNY",
        "outputId": "cd1ff1f1-8ca8-48a3-859f-d729a1cc0d9c"
      },
      "execution_count": 88,
      "outputs": [
        {
          "output_type": "display_data",
          "data": {
            "text/plain": [
              "<Figure size 640x480 with 1 Axes>"
            ],
            "image/png": "[encoded data removed]"
          },
          "metadata": {}
        }
      ]
    },
    {
      "cell_type": "code",
      "source": [
        "fig, axes = plt.subplots(2, 4, figsize=(20, 8))\n",
        "# 레이어의 사이즈를 변화시킬 때, 큰 사이즈는 과적합을 유발하게 된다.\n",
        "# (75x2) (2x10) (10x10) (10x1)\n",
        "# (75x2) (2x100) (100x100) (100x1)\n",
        "# 특징을 추출하는 횟수가 증가(10번 -> 100번) -> 과적합\n",
        "# 규제를 하는 이유? 과적합을 방지하기 위해. (규제의 사이즈 감소 => 규제를 하지 않음 => 과적합)\n",
        "for axx, n_hidden_nodes in zip(axes, [10, 100]):  # axx를 통해 행(row) 단위로 서브플롯 순회\n",
        "  for ax, alpha in zip(axx, [0.1, 0.01, 0.001, 0.0001]):  # 점점 규제가 작아짐 -> 과적합\n",
        "    mlp = MLPClassifier(solver = 'lbfgs', random_state = 0, activation = 'tanh',  # tanh 활성화 함수\n",
        "        max_iter = 1000, hidden_layer_sizes = [n_hidden_nodes, n_hidden_nodes],  # 두개의 은닉층, n_hidden_nodes개의 유닛\n",
        "                         alpha = alpha)  # alpha : L2 정규화의 강도를 제어하는 값이다.\n",
        "    mlp.fit(X_train, y_train)\n",
        "    plot_iris(X_train, y_train, mlp, \"ANN\")"
      ],
      "metadata": {
        "colab": {
          "base_uri": "https://localhost:8080/",
          "height": 1000
        },
        "id": "Rws1sgfxk8jY",
        "outputId": "fdee351c-f71a-4131-c5fd-e613b4cfd0bc"
      },
      "execution_count": 89,
      "outputs": [
        {
          "output_type": "display_data",
          "data": {
            "text/plain": [
              "<Figure size 2000x800 with 8 Axes>"
            ],
            "image/png": "[encoded data removed]"
          },
          "metadata": {}
        },
        {
          "output_type": "display_data",
          "data": {
            "text/plain": [
              "<Figure size 640x480 with 1 Axes>"
            ],
            "image/png": "[encoded data removed]"
          },
          "metadata": {}
        },
        {
          "output_type": "display_data",
          "data": {
            "text/plain": [
              "<Figure size 640x480 with 1 Axes>"
            ],
            "image/png": "[encoded data removed]"
          },
          "metadata": {}
        },
        {
          "output_type": "display_data",
          "data": {
            "text/plain": [
              "<Figure size 640x480 with 1 Axes>"
            ],
            "image/png": "[encoded data removed]"
          },
          "metadata": {}
        },
        {
          "output_type": "display_data",
          "data": {
            "text/plain": [
              "<Figure size 640x480 with 1 Axes>"
            ],
            "image/png": "[encoded data removed]"
          },
          "metadata": {}
        },
        {
          "output_type": "display_data",
          "data": {
            "text/plain": [
              "<Figure size 640x480 with 1 Axes>"
            ],
            "image/png": "[encoded data removed]"
          },
          "metadata": {}
        },
        {
          "output_type": "display_data",
          "data": {
            "text/plain": [
              "<Figure size 640x480 with 1 Axes>"
            ],
            "image/png": "[encoded data removed]"
          },
          "metadata": {}
        },
        {
          "output_type": "display_data",
          "data": {
            "text/plain": [
              "<Figure size 640x480 with 1 Axes>"
            ],
            "image/png": "[encoded data removed]"
          },
          "metadata": {}
        }
      ]
    },
    {
      "cell_type": "code",
      "source": [
        "from sklearn.datasets import load_breast_cancer  # 유방암 데이터셋 \n",
        "import pandas as pd\n",
        "cancer = load_breast_cancer()  # 데이터셋을 load하고 해당 데이터셋의 특성 이름(feature name) 출력\n",
        "cancer.feature_names  # 암이 악성인지 양성인지? / 30개의 특성"
      ],
      "metadata": {
        "colab": {
          "base_uri": "https://localhost:8080/"
        },
        "id": "sqvT77gGmv-q",
        "outputId": "9165c68f-fae4-430d-ed8f-da6d534b23c7"
      },
      "execution_count": 90,
      "outputs": [
        {
          "output_type": "execute_result",
          "data": {
            "text/plain": [
              "array(['mean radius', 'mean texture', 'mean perimeter', 'mean area',\n",
              "       'mean smoothness', 'mean compactness', 'mean concavity',\n",
              "       'mean concave points', 'mean symmetry', 'mean fractal dimension',\n",
              "       'radius error', 'texture error', 'perimeter error', 'area error',\n",
              "       'smoothness error', 'compactness error', 'concavity error',\n",
              "       'concave points error', 'symmetry error',\n",
              "       'fractal dimension error', 'worst radius', 'worst texture',\n",
              "       'worst perimeter', 'worst area', 'worst smoothness',\n",
              "       'worst compactness', 'worst concavity', 'worst concave points',\n",
              "       'worst symmetry', 'worst fractal dimension'], dtype='<U23')"
            ]
          },
          "metadata": {},
          "execution_count": 90
        }
      ]
    },
    {
      "cell_type": "code",
      "source": [
        "pd.DataFrame(cancer.data).shape  # 569개의 데이터, 30개의 변수"
      ],
      "metadata": {
        "colab": {
          "base_uri": "https://localhost:8080/"
        },
        "id": "oZoIOCDVooi6",
        "outputId": "040f0702-87d1-4418-9ab4-9bbc1b18d845"
      },
      "execution_count": 91,
      "outputs": [
        {
          "output_type": "execute_result",
          "data": {
            "text/plain": [
              "(569, 30)"
            ]
          },
          "metadata": {},
          "execution_count": 91
        }
      ]
    },
    {
      "cell_type": "code",
      "source": [
        "# 정규화 여부와 신경망의 정확도 차이 \n",
        "X_train, X_test, y_train, y_test = train_test_split(\n",
        "    cancer.data, cancer.target, random_state = 0)  # 유방암 데이터셋을 훈련 세트와 테스트 세트로 나눈다.\n",
        "\n",
        "mlp = MLPClassifier(random_state = 42)  # random_state() : 난수 발생 시드 (42가 디폴트)\n",
        "mlp.fit(X_train, y_train)  # 훈련세트에 대해 모델을 학습\n",
        "print(\"훈련 세트 정확도: {:.2f}\".format(mlp.score(X_train, y_train)))\n",
        "print(\"테스트 세트 정확도: {:.2f}\".format(mlp.score(X_test, y_test)))"
      ],
      "metadata": {
        "colab": {
          "base_uri": "https://localhost:8080/"
        },
        "id": "awtbO3y2W6Ag",
        "outputId": "eb9108a3-49b8-4b0c-85b2-1359c5d5a548"
      },
      "execution_count": 92,
      "outputs": [
        {
          "output_type": "stream",
          "name": "stdout",
          "text": [
            "훈련 세트 정확도: 0.94\n",
            "테스트 세트 정확도: 0.92\n"
          ]
        }
      ]
    },
    {
      "cell_type": "code",
      "source": [
        "mlp = MLPClassifier(max_iter = 1000, alpha = 0.001, solver = 'sgd', activation = 'tanh', \n",
        "                    random_state = 0, hidden_layer_sizes = [15, 5])\n",
        "mlp.fit(X_train, y_train)\n",
        "print(\"훈련 세트 정확도 : {:.3f}\".format(mlp.score(X_train, y_train)))\n",
        "print(\"테스트 세트 정확도 : {:.3f}\".format(mlp.score(X_test, y_test)))"
      ],
      "metadata": {
        "colab": {
          "base_uri": "https://localhost:8080/"
        },
        "id": "KLCpZMyCq3DP",
        "outputId": "e93dc6f5-b1d0-46a1-e24d-3a1d6d80be6d"
      },
      "execution_count": 103,
      "outputs": [
        {
          "output_type": "stream",
          "name": "stdout",
          "text": [
            "훈련 세트 정확도 : 0.631\n",
            "테스트 세트 정확도 : 0.629\n"
          ]
        }
      ]
    },
    {
      "cell_type": "code",
      "source": [
        "# 데이터를 정규화\n",
        "mean_on_train = X_train.mean(axis = 0)  # X_train 데이터의 각 특성에 대한 평균\n",
        "std_on_train = X_train.std(axis = 0)    # 각 특성에 대한 표준편차\n",
        "X_train_scaled = (X_train - mean_on_train) / std_on_train  # X_train을 정규화\n",
        "X_test_scaled = (X_test - mean_on_train) / std_on_train    # X_test를 정규화\n",
        "# 최대 1000번 반복 / alpha : L2 규제 매개변수 / solver : 최적화 알고리즘 / activation : 활성화 함수\n",
        "mlp = MLPClassifier(max_iter = 1000, alpha = 0.001, solver = 'sgd', activation = 'tanh', \n",
        "                    random_state = 0, hidden_layer_sizes = [15, 5])  # 난수 발생 시드, 은닉층의 크기 설정\n",
        "mlp.fit(X_train_scaled, y_train)\n",
        "print(\"훈련 세트 정확도 : {:.3f}\".format(mlp.score(X_train_scaled, y_train)))\n",
        "print(\"테스트 세트 정확도 : {:.3f}\".format(mlp.score(X_test_scaled, y_test)))"
      ],
      "metadata": {
        "colab": {
          "base_uri": "https://localhost:8080/"
        },
        "id": "anc1xTKrW6Cn",
        "outputId": "0e774799-8c94-49aa-d461-ddb56e222468"
      },
      "execution_count": 104,
      "outputs": [
        {
          "output_type": "stream",
          "name": "stdout",
          "text": [
            "훈련 세트 정확도 : 0.986\n",
            "테스트 세트 정확도 : 0.958\n"
          ]
        }
      ]
    },
    {
      "cell_type": "code",
      "source": [
        "mlp = MLPClassifier(random_state = 42)\n",
        "mlp.fit(X_train_scaled, y_train)\n",
        "print('훈련 세트 정확도: {:.2f}'.format(mlp.score(X_train_scaled, y_train)))\n",
        "print('테스트  세트 정확도: {:.2f}'.format(mlp.score(X_test_scaled, y_test)))"
      ],
      "metadata": {
        "colab": {
          "base_uri": "https://localhost:8080/"
        },
        "id": "sRD5OVViqjA5",
        "outputId": "f3fbbc3b-a105-45e2-c0f5-533b3f2cb9c8"
      },
      "execution_count": 95,
      "outputs": [
        {
          "output_type": "stream",
          "name": "stdout",
          "text": [
            "훈련 세트 정확도: 0.99\n",
            "테스트  세트 정확도: 0.97\n"
          ]
        }
      ]
    },
    {
      "cell_type": "code",
      "source": [
        "mlp.n_layers_  # 레이어의 개수 (입력층, 은닉층, 출력층)"
      ],
      "metadata": {
        "colab": {
          "base_uri": "https://localhost:8080/"
        },
        "id": "NryDZiYNW6FF",
        "outputId": "049fb238-dc2d-465f-afa0-55f22756d460"
      },
      "execution_count": 105,
      "outputs": [
        {
          "output_type": "execute_result",
          "data": {
            "text/plain": [
              "4"
            ]
          },
          "metadata": {},
          "execution_count": 105
        }
      ]
    },
    {
      "cell_type": "code",
      "source": [
        "mlp.coefs_[0].shape  # 첫번째 은닉층과 입력층 사이 가중치 행렬\n",
        "# 입력데이터 : (569x30) (30x100) (100x1)  # layer size는 100이 기본값"
      ],
      "metadata": {
        "colab": {
          "base_uri": "https://localhost:8080/"
        },
        "id": "WX7OzhAjW6HW",
        "outputId": "8e4c6c23-3828-4db8-b2a4-e9be8027e05f"
      },
      "execution_count": 106,
      "outputs": [
        {
          "output_type": "execute_result",
          "data": {
            "text/plain": [
              "(30, 15)"
            ]
          },
          "metadata": {},
          "execution_count": 106
        }
      ]
    },
    {
      "cell_type": "code",
      "source": [
        "mlp.coefs_[1].shape"
      ],
      "metadata": {
        "colab": {
          "base_uri": "https://localhost:8080/"
        },
        "id": "3DEUs6gZW6J5",
        "outputId": "f8e3fd52-fa8f-4099-ad4f-572ea6af4cb9"
      },
      "execution_count": 107,
      "outputs": [
        {
          "output_type": "execute_result",
          "data": {
            "text/plain": [
              "(15, 5)"
            ]
          },
          "metadata": {},
          "execution_count": 107
        }
      ]
    },
    {
      "cell_type": "code",
      "source": [
        "# 정규화한 모델  [15, 5]\n",
        "# (569x30) (30x15) (15x5) (5x1)  # intercept는 output 데이터에 붙는다."
      ],
      "metadata": {
        "id": "oUVIQUQCW6MF"
      },
      "execution_count": 99,
      "outputs": []
    },
    {
      "cell_type": "code",
      "source": [
        "mlp.coefs_[0].shape  # 첫번째 은닉층과 입력층 사이 가중치 행렬, (은닉층의 노드수, 입력층의 노드수) (30, 15)"
      ],
      "metadata": {
        "colab": {
          "base_uri": "https://localhost:8080/"
        },
        "id": "9e-LCfvqW6OV",
        "outputId": "8af193df-bfe7-4d92-f775-a5d8281e500d"
      },
      "execution_count": 108,
      "outputs": [
        {
          "output_type": "execute_result",
          "data": {
            "text/plain": [
              "(30, 15)"
            ]
          },
          "metadata": {},
          "execution_count": 108
        }
      ]
    },
    {
      "cell_type": "code",
      "source": [
        "mlp.coefs_[1].shape"
      ],
      "metadata": {
        "colab": {
          "base_uri": "https://localhost:8080/"
        },
        "id": "umCspw_cW6RF",
        "outputId": "a6419ee5-e7df-4390-90b5-321638c85117"
      },
      "execution_count": 109,
      "outputs": [
        {
          "output_type": "execute_result",
          "data": {
            "text/plain": [
              "(15, 5)"
            ]
          },
          "metadata": {},
          "execution_count": 109
        }
      ]
    },
    {
      "cell_type": "code",
      "source": [
        "mlp.coefs_[2].shape"
      ],
      "metadata": {
        "colab": {
          "base_uri": "https://localhost:8080/"
        },
        "id": "T1irH45wW6TR",
        "outputId": "148cf668-f878-475c-c2e3-3315f9ff35c5"
      },
      "execution_count": 110,
      "outputs": [
        {
          "output_type": "execute_result",
          "data": {
            "text/plain": [
              "(5, 1)"
            ]
          },
          "metadata": {},
          "execution_count": 110
        }
      ]
    },
    {
      "cell_type": "code",
      "source": [
        "mlp.classes_  # MLP 분류기가 예측할 수 있는 클래스의 레이블"
      ],
      "metadata": {
        "colab": {
          "base_uri": "https://localhost:8080/"
        },
        "id": "Ufq6kTxeW6Vd",
        "outputId": "a28dc587-d988-4b33-c608-d491469f77b8"
      },
      "execution_count": 111,
      "outputs": [
        {
          "output_type": "execute_result",
          "data": {
            "text/plain": [
              "array([0, 1])"
            ]
          },
          "metadata": {},
          "execution_count": 111
        }
      ]
    },
    {
      "cell_type": "code",
      "source": [
        "mlp.loss_  # MLP 분류기의 손실함수값 (예측값과 실제값 사이의 차이)"
      ],
      "metadata": {
        "colab": {
          "base_uri": "https://localhost:8080/"
        },
        "id": "EhdABq_psqxr",
        "outputId": "809f14dd-fa5e-4ec4-f6d6-2729292d6674"
      },
      "execution_count": 112,
      "outputs": [
        {
          "output_type": "execute_result",
          "data": {
            "text/plain": [
              "0.07859636214999614"
            ]
          },
          "metadata": {},
          "execution_count": 112
        }
      ]
    },
    {
      "cell_type": "code",
      "source": [
        "mlp.intercepts_  # 바이어스(bias) 값이 intercepts로 나옴 (모든 은닉층과 출력층의 편향(bias))"
      ],
      "metadata": {
        "colab": {
          "base_uri": "https://localhost:8080/"
        },
        "id": "LzJiOtusssCM",
        "outputId": "afa586b1-f8ce-4472-d3b2-fbe7272c8f28"
      },
      "execution_count": 113,
      "outputs": [
        {
          "output_type": "execute_result",
          "data": {
            "text/plain": [
              "[array([-0.11144275,  0.33265416, -0.15599357, -0.29642056,  0.33167661,\n",
              "        -0.19512157,  0.14532101, -0.28807372,  0.15601897,  0.2451209 ,\n",
              "        -0.1911896 , -0.07076332, -0.06390728,  0.22743349, -0.19914024]),\n",
              " array([-0.49553958,  0.12941564,  0.13288166,  0.06505722,  0.44620796]),\n",
              " array([0.42739613])]"
            ]
          },
          "metadata": {},
          "execution_count": 113
        }
      ]
    },
    {
      "cell_type": "code",
      "source": [
        "mlp.intercepts_[0].shape  # 15"
      ],
      "metadata": {
        "colab": {
          "base_uri": "https://localhost:8080/"
        },
        "id": "Mw9GcSd2syBp",
        "outputId": "5c76ed98-1269-4368-fcee-52a70ccdb860"
      },
      "execution_count": 114,
      "outputs": [
        {
          "output_type": "execute_result",
          "data": {
            "text/plain": [
              "(15,)"
            ]
          },
          "metadata": {},
          "execution_count": 114
        }
      ]
    },
    {
      "cell_type": "code",
      "source": [
        "mlp.intercepts_[1].shape  # 5"
      ],
      "metadata": {
        "colab": {
          "base_uri": "https://localhost:8080/"
        },
        "id": "DpQX4prxW6Xv",
        "outputId": "000a3b14-5319-448d-d24c-6c6a73a25b25"
      },
      "execution_count": 115,
      "outputs": [
        {
          "output_type": "execute_result",
          "data": {
            "text/plain": [
              "(5,)"
            ]
          },
          "metadata": {},
          "execution_count": 115
        }
      ]
    },
    {
      "cell_type": "code",
      "source": [
        "mlp.intercepts_[2].shape"
      ],
      "metadata": {
        "colab": {
          "base_uri": "https://localhost:8080/"
        },
        "id": "OeQ-aLoYW6aO",
        "outputId": "87094597-34bb-4002-c1a7-dd85a702fe41"
      },
      "execution_count": 116,
      "outputs": [
        {
          "output_type": "execute_result",
          "data": {
            "text/plain": [
              "(1,)"
            ]
          },
          "metadata": {},
          "execution_count": 116
        }
      ]
    },
    {
      "cell_type": "code",
      "source": [
        "print(mlp.out_activation_)  # logistic 2진 분류\n",
        "# activation function : sigmoid, tanh, relu  # 노드에 붙어 비선형으로 매핑(mapping)\n",
        "# out_activation : identity(회귀), logistic(이항 분류), softmax(다항 분류)"
      ],
      "metadata": {
        "colab": {
          "base_uri": "https://localhost:8080/"
        },
        "id": "GexzopE5s73J",
        "outputId": "19bf4434-11eb-425c-a4c1-c2617bdc8ab9"
      },
      "execution_count": 117,
      "outputs": [
        {
          "output_type": "stream",
          "name": "stdout",
          "text": [
            "logistic\n"
          ]
        }
      ]
    },
    {
      "cell_type": "code",
      "source": [
        "# (30, 15) # 각 변수에 대하여 15번 값의 특징을 추출\n",
        "plt.figure(figsize=(20, 5))\n",
        "plt.imshow(mlp.coefs_[0], interpolation='none', cmap='viridis')  # mlp.coefs_[0] = (30x15) / 원본값 사용(interpolation = True)\n",
        "plt.yticks(range(30), cancer.feature_names)  # y축의 눈금을 0 ~ 29까지 설정하고 각 눈금마다 특성의 이름을 표시\n",
        "plt.xlabel(\"은닉 유닛\")\n",
        "plt.ylabel(\"입력 특성\")\n",
        "plt.colorbar()"
      ],
      "metadata": {
        "colab": {
          "base_uri": "https://localhost:8080/",
          "height": 506
        },
        "id": "deqfmvQwW6cY",
        "outputId": "18b75a76-2a3d-4316-ca13-be33b3abfaa5"
      },
      "execution_count": 118,
      "outputs": [
        {
          "output_type": "execute_result",
          "data": {
            "text/plain": [
              "<matplotlib.colorbar.Colorbar at 0x7f7d8727ea60>"
            ]
          },
          "metadata": {},
          "execution_count": 118
        },
        {
          "output_type": "display_data",
          "data": {
            "text/plain": [
              "<Figure size 2000x500 with 2 Axes>"
            ],
            "image/png": "[encoded data removed]"
          },
          "metadata": {}
        }
      ]
    },
    {
      "cell_type": "code",
      "source": [
        "import pandas as pd\n",
        "wine = pd.read_csv('/content/drive/MyDrive/wine_data.csv')\n",
        "print(wine.head())"
      ],
      "metadata": {
        "colab": {
          "base_uri": "https://localhost:8080/"
        },
        "id": "LKYpt5WeW6el",
        "outputId": "fc19056d-0077-48e8-c310-97a1cf215ffc"
      },
      "execution_count": 119,
      "outputs": [
        {
          "output_type": "stream",
          "name": "stdout",
          "text": [
            "   1  14.23  1.71  2.43  15.6  127   2.8  3.06   .28  2.29  5.64  1.04  3.92  \\\n",
            "0  1  13.20  1.78  2.14  11.2  100  2.65  2.76  0.26  1.28  4.38  1.05  3.40   \n",
            "1  1  13.16  2.36  2.67  18.6  101  2.80  3.24  0.30  2.81  5.68  1.03  3.17   \n",
            "2  1  14.37  1.95  2.50  16.8  113  3.85  3.49  0.24  2.18  7.80  0.86  3.45   \n",
            "3  1  13.24  2.59  2.87  21.0  118  2.80  2.69  0.39  1.82  4.32  1.04  2.93   \n",
            "4  1  14.20  1.76  2.45  15.2  112  3.27  3.39  0.34  1.97  6.75  1.05  2.85   \n",
            "\n",
            "   1065  \n",
            "0  1050  \n",
            "1  1185  \n",
            "2  1480  \n",
            "3   735  \n",
            "4  1450  \n"
          ]
        }
      ]
    },
    {
      "cell_type": "code",
      "source": [
        "wine = pd.read_csv('/content/drive/MyDrive/wine_data.csv', names = [\"Cultivator\", \"Alchol\", \"Malic_Acid\", \"Ash\",\n",
        "                                             \"Alcalinity_of_Ash\", \"Magnesium\", \"Total_phenols\",\n",
        "                                             \"Falvanoids\", \"Nonflavanoid_phenols\",\n",
        "                                             \"Proanthocyanins\", \"Color_intensity\", \"Hue\",\n",
        "                                             \"OD280\", \"Proline\"], encoding=\"utf-8\")\n",
        "print(wine.head())"
      ],
      "metadata": {
        "colab": {
          "base_uri": "https://localhost:8080/"
        },
        "id": "ruWVXXliW6g1",
        "outputId": "037d2570-f546-484c-c2bb-97edfca44023"
      },
      "execution_count": 120,
      "outputs": [
        {
          "output_type": "stream",
          "name": "stdout",
          "text": [
            "   Cultivator  Alchol  Malic_Acid   Ash  Alcalinity_of_Ash  Magnesium  \\\n",
            "0           1   14.23        1.71  2.43               15.6        127   \n",
            "1           1   13.20        1.78  2.14               11.2        100   \n",
            "2           1   13.16        2.36  2.67               18.6        101   \n",
            "3           1   14.37        1.95  2.50               16.8        113   \n",
            "4           1   13.24        2.59  2.87               21.0        118   \n",
            "\n",
            "   Total_phenols  Falvanoids  Nonflavanoid_phenols  Proanthocyanins  \\\n",
            "0           2.80        3.06                  0.28             2.29   \n",
            "1           2.65        2.76                  0.26             1.28   \n",
            "2           2.80        3.24                  0.30             2.81   \n",
            "3           3.85        3.49                  0.24             2.18   \n",
            "4           2.80        2.69                  0.39             1.82   \n",
            "\n",
            "   Color_intensity   Hue  OD280  Proline  \n",
            "0             5.64  1.04   3.92     1065  \n",
            "1             4.38  1.05   3.40     1050  \n",
            "2             5.68  1.03   3.17     1185  \n",
            "3             7.80  0.86   3.45     1480  \n",
            "4             4.32  1.04   2.93      735  \n"
          ]
        }
      ]
    },
    {
      "cell_type": "code",
      "source": [
        "# 회귀(identity), 이진분류(logistic), 다중분류(softmax)\n",
        "print(wine.shape)\n",
        "wine['Cultivator'].unique()  # 다중분류 / 누가 경작(재배)했는지"
      ],
      "metadata": {
        "colab": {
          "base_uri": "https://localhost:8080/"
        },
        "id": "wXxZ8tZbW6jK",
        "outputId": "4b73e6dd-feb0-4871-d610-7ef1a1dc5afc"
      },
      "execution_count": 121,
      "outputs": [
        {
          "output_type": "stream",
          "name": "stdout",
          "text": [
            "(178, 14)\n"
          ]
        },
        {
          "output_type": "execute_result",
          "data": {
            "text/plain": [
              "array([1, 2, 3])"
            ]
          },
          "metadata": {},
          "execution_count": 121
        }
      ]
    },
    {
      "cell_type": "code",
      "source": [
        "# 문제\n",
        "# X, y 데이터로 분리하기 \n",
        "from sklearn.model_selection import train_test_split\n",
        "X = wine.drop('Cultivator', axis = 1)\n",
        "y = wine['Cultivator']\n",
        "X_train, X_test, y_train, y_test = train_test_split(X, y)"
      ],
      "metadata": {
        "id": "ynIkab_jW6lf"
      },
      "execution_count": 122,
      "outputs": []
    },
    {
      "cell_type": "code",
      "source": [
        "# 문제\n",
        "# 독립변수에 정규화 작업 진행\n",
        "# z-점수 scaler = (data - mean) / sd\n",
        "from sklearn.preprocessing import StandardScaler\n",
        "scaler = StandardScaler() \n",
        "scaler.fit(X_train)  # 평균, 표준편차  # 변수가 30개 (각 특징에 대해 자동으로 작업)\n",
        "X_train = scaler.transform(X_train)\n",
        "X_test = scaler.transform(X_test)"
      ],
      "metadata": {
        "id": "I8xBReTjy7SL"
      },
      "execution_count": 123,
      "outputs": []
    },
    {
      "cell_type": "code",
      "source": [
        "from sklearn.neural_network import MLPClassifier\n",
        "mlp = MLPClassifier(hidden_layer_sizes = (30, 30, 30))  # 은닉층의 크기가 (30, 30, 30) => 3개의 은닉층, 각 은닉층은 30개의 뉴런\n",
        "mlp.fit(X_train, y_train)"
      ],
      "metadata": {
        "colab": {
          "base_uri": "https://localhost:8080/",
          "height": 75
        },
        "id": "iEujxUYtW6nm",
        "outputId": "03542614-1b58-40d6-bef0-63ee9941a764"
      },
      "execution_count": 124,
      "outputs": [
        {
          "output_type": "execute_result",
          "data": {
            "text/plain": [
              "MLPClassifier(hidden_layer_sizes=(30, 30, 30))"
            ],
            "text/html": [
              "<style>#sk-container-id-6 {color: black;background-color: white;}#sk-container-id-6 pre{padding: 0;}#sk-container-id-6 div.sk-toggleable {background-color: white;}#sk-container-id-6 label.sk-toggleable__label {cursor: pointer;display: block;width: 100%;margin-bottom: 0;padding: 0.3em;box-sizing: border-box;text-align: center;}#sk-container-id-6 label.sk-toggleable__label-arrow:before {content: \"▸\";float: left;margin-right: 0.25em;color: #696969;}#sk-container-id-6 label.sk-toggleable__label-arrow:hover:before {color: black;}#sk-container-id-6 div.sk-estimator:hover label.sk-toggleable__label-arrow:before {color: black;}#sk-container-id-6 div.sk-toggleable__content {max-height: 0;max-width: 0;overflow: hidden;text-align: left;background-color: #f0f8ff;}#sk-container-id-6 div.sk-toggleable__content pre {margin: 0.2em;color: black;border-radius: 0.25em;background-color: #f0f8ff;}#sk-container-id-6 input.sk-toggleable__control:checked~div.sk-toggleable__content {max-height: 200px;max-width: 100%;overflow: auto;}#sk-container-id-6 input.sk-toggleable__control:checked~label.sk-toggleable__label-arrow:before {content: \"▾\";}#sk-container-id-6 div.sk-estimator input.sk-toggleable__control:checked~label.sk-toggleable__label {background-color: #d4ebff;}#sk-container-id-6 div.sk-label input.sk-toggleable__control:checked~label.sk-toggleable__label {background-color: #d4ebff;}#sk-container-id-6 input.sk-hidden--visually {border: 0;clip: rect(1px 1px 1px 1px);clip: rect(1px, 1px, 1px, 1px);height: 1px;margin: -1px;overflow: hidden;padding: 0;position: absolute;width: 1px;}#sk-container-id-6 div.sk-estimator {font-family: monospace;background-color: #f0f8ff;border: 1px dotted black;border-radius: 0.25em;box-sizing: border-box;margin-bottom: 0.5em;}#sk-container-id-6 div.sk-estimator:hover {background-color: #d4ebff;}#sk-container-id-6 div.sk-parallel-item::after {content: \"\";width: 100%;border-bottom: 1px solid gray;flex-grow: 1;}#sk-container-id-6 div.sk-label:hover label.sk-toggleable__label {background-color: #d4ebff;}#sk-container-id-6 div.sk-serial::before {content: \"\";position: absolute;border-left: 1px solid gray;box-sizing: border-box;top: 0;bottom: 0;left: 50%;z-index: 0;}#sk-container-id-6 div.sk-serial {display: flex;flex-direction: column;align-items: center;background-color: white;padding-right: 0.2em;padding-left: 0.2em;position: relative;}#sk-container-id-6 div.sk-item {position: relative;z-index: 1;}#sk-container-id-6 div.sk-parallel {display: flex;align-items: stretch;justify-content: center;background-color: white;position: relative;}#sk-container-id-6 div.sk-item::before, #sk-container-id-6 div.sk-parallel-item::before {content: \"\";position: absolute;border-left: 1px solid gray;box-sizing: border-box;top: 0;bottom: 0;left: 50%;z-index: -1;}#sk-container-id-6 div.sk-parallel-item {display: flex;flex-direction: column;z-index: 1;position: relative;background-color: white;}#sk-container-id-6 div.sk-parallel-item:first-child::after {align-self: flex-end;width: 50%;}#sk-container-id-6 div.sk-parallel-item:last-child::after {align-self: flex-start;width: 50%;}#sk-container-id-6 div.sk-parallel-item:only-child::after {width: 0;}#sk-container-id-6 div.sk-dashed-wrapped {border: 1px dashed gray;margin: 0 0.4em 0.5em 0.4em;box-sizing: border-box;padding-bottom: 0.4em;background-color: white;}#sk-container-id-6 div.sk-label label {font-family: monospace;font-weight: bold;display: inline-block;line-height: 1.2em;}#sk-container-id-6 div.sk-label-container {text-align: center;}#sk-container-id-6 div.sk-container {/* jupyter's `normalize.less` sets `[hidden] { display: none; }` but bootstrap.min.css set `[hidden] { display: none !important; }` so we also need the `!important` here to be able to override the default hidden behavior on the sphinx rendered scikit-learn.org. See: https://github.com/scikit-learn/scikit-learn/issues/21755 */display: inline-block !important;position: relative;}#sk-container-id-6 div.sk-text-repr-fallback {display: none;}</style><div id=\"sk-container-id-6\" class=\"sk-top-container\"><div class=\"sk-text-repr-fallback\"><pre>MLPClassifier(hidden_layer_sizes=(30, 30, 30))</pre><b>In a Jupyter environment, please rerun this cell to show the HTML representation or trust the notebook. <br />On GitHub, the HTML representation is unable to render, please try loading this page with nbviewer.org.</b></div><div class=\"sk-container\" hidden><div class=\"sk-item\"><div class=\"sk-estimator sk-toggleable\"><input class=\"sk-toggleable__control sk-hidden--visually\" id=\"sk-estimator-id-10\" type=\"checkbox\" checked><label for=\"sk-estimator-id-10\" class=\"sk-toggleable__label sk-toggleable__label-arrow\">MLPClassifier</label><div class=\"sk-toggleable__content\"><pre>MLPClassifier(hidden_layer_sizes=(30, 30, 30))</pre></div></div></div></div></div>"
            ]
          },
          "metadata": {},
          "execution_count": 124
        }
      ]
    },
    {
      "cell_type": "code",
      "source": [
        "# 문제\n",
        "# 테스트 데이터에 대해 예측하고 accuracy_score 출력\n",
        "from sklearn.metrics import accuracy_score\n",
        "predictions = mlp.predict(X_test)  # X_test에 대해 예측한 결과 \n",
        "accuracy_score(predictions, y_test)  # y_test : 실제값 / 예측값과 실제값 비교한 정확도 : 0.955"
      ],
      "metadata": {
        "colab": {
          "base_uri": "https://localhost:8080/"
        },
        "id": "zOeaF0y2W6p1",
        "outputId": "d39ec7fe-d032-49d5-ceec-79d8a294ccbc"
      },
      "execution_count": 125,
      "outputs": [
        {
          "output_type": "execute_result",
          "data": {
            "text/plain": [
              "0.9333333333333333"
            ]
          },
          "metadata": {},
          "execution_count": 125
        }
      ]
    },
    {
      "cell_type": "code",
      "source": [
        "# 모델 성능을 평가하기 위해 혼동 행렬(confusion matrix)과 분류 보고서(classification report) 출력\n",
        "\n",
        "from sklearn.metrics import classification_report\n",
        "from sklearn.metrics import confusion_matrix\n",
        "print(confusion_matrix(y_test, predictions))  # 실제값인 y_test와 모델 예측값인 predictions 비교하여 혼동행렬 생성\n",
        "print(classification_report(y_test, predictions))  # y_test와 prediction 비교하여 분류 보고서 생성\n",
        "# 분류 보고서 : 정확도(accuracy), 정밀도(precision), 재현율(recall), F1 스코어(F1-score) 등의 성능 지표를 제공"
      ],
      "metadata": {
        "colab": {
          "base_uri": "https://localhost:8080/"
        },
        "id": "L8yV5NSLW6sB",
        "outputId": "bcd35653-e7d1-4b97-d45e-53ef7e8f2b03"
      },
      "execution_count": 126,
      "outputs": [
        {
          "output_type": "stream",
          "name": "stdout",
          "text": [
            "[[17  0  0]\n",
            " [ 2 13  0]\n",
            " [ 0  1 12]]\n",
            "              precision    recall  f1-score   support\n",
            "\n",
            "           1       0.89      1.00      0.94        17\n",
            "           2       0.93      0.87      0.90        15\n",
            "           3       1.00      0.92      0.96        13\n",
            "\n",
            "    accuracy                           0.93        45\n",
            "   macro avg       0.94      0.93      0.93        45\n",
            "weighted avg       0.94      0.93      0.93        45\n",
            "\n"
          ]
        }
      ]
    },
    {
      "cell_type": "code",
      "source": [
        "mlp.out_activation_  # softmax : 전체 출력값 중 확률값을 1로 만들어주는 함수"
      ],
      "metadata": {
        "colab": {
          "base_uri": "https://localhost:8080/",
          "height": 35
        },
        "id": "3h-Oq-A_W6uO",
        "outputId": "7a93ba38-15af-46c1-c4e2-d2adfa6b5e2a"
      },
      "execution_count": 127,
      "outputs": [
        {
          "output_type": "execute_result",
          "data": {
            "text/plain": [
              "'softmax'"
            ],
            "application/vnd.google.colaboratory.intrinsic+json": {
              "type": "string"
            }
          },
          "metadata": {},
          "execution_count": 127
        }
      ]
    },
    {
      "cell_type": "code",
      "source": [
        "# 문제\n",
        "# 파라미터(parameter) 튜닝을 실시\n",
        "# hidden_layer_sizes  # (30, 30, 30) (30, 20, 10)\n",
        "# alpha  # [0.0001, 0.001, 0.01, 0.1, 1]\n",
        "\n",
        "from sklearn.model_selection import GridSearchCV\n",
        "model = MLPClassifier(hidden_layer_sizes = (30, 30, 30), max_iter = 1000)\n",
        "model_cv = GridSearchCV(model, cv = 5,\n",
        "        param_grid = {\n",
        "                  'hidden_layer_sizes' : [(30, 30, 30), (30, 20, 10)],\n",
        "                  'alpha' : [0.0001, 0.001, 0.01, 0.1, 1]})\n",
        "model_cv.fit(X_train, y_train)"
      ],
      "metadata": {
        "colab": {
          "base_uri": "https://localhost:8080/",
          "height": 118
        },
        "id": "wO8cJF_bW6wm",
        "outputId": "7beb7186-c8b6-4073-e6ae-174d733281e9"
      },
      "execution_count": 128,
      "outputs": [
        {
          "output_type": "execute_result",
          "data": {
            "text/plain": [
              "GridSearchCV(cv=5,\n",
              "             estimator=MLPClassifier(hidden_layer_sizes=(30, 30, 30),\n",
              "                                     max_iter=1000),\n",
              "             param_grid={'alpha': [0.0001, 0.001, 0.01, 0.1, 1],\n",
              "                         'hidden_layer_sizes': [(30, 30, 30), (30, 20, 10)]})"
            ],
            "text/html": [
              "<style>#sk-container-id-7 {color: black;background-color: white;}#sk-container-id-7 pre{padding: 0;}#sk-container-id-7 div.sk-toggleable {background-color: white;}#sk-container-id-7 label.sk-toggleable__label {cursor: pointer;display: block;width: 100%;margin-bottom: 0;padding: 0.3em;box-sizing: border-box;text-align: center;}#sk-container-id-7 label.sk-toggleable__label-arrow:before {content: \"▸\";float: left;margin-right: 0.25em;color: #696969;}#sk-container-id-7 label.sk-toggleable__label-arrow:hover:before {color: black;}#sk-container-id-7 div.sk-estimator:hover label.sk-toggleable__label-arrow:before {color: black;}#sk-container-id-7 div.sk-toggleable__content {max-height: 0;max-width: 0;overflow: hidden;text-align: left;background-color: #f0f8ff;}#sk-container-id-7 div.sk-toggleable__content pre {margin: 0.2em;color: black;border-radius: 0.25em;background-color: #f0f8ff;}#sk-container-id-7 input.sk-toggleable__control:checked~div.sk-toggleable__content {max-height: 200px;max-width: 100%;overflow: auto;}#sk-container-id-7 input.sk-toggleable__control:checked~label.sk-toggleable__label-arrow:before {content: \"▾\";}#sk-container-id-7 div.sk-estimator input.sk-toggleable__control:checked~label.sk-toggleable__label {background-color: #d4ebff;}#sk-container-id-7 div.sk-label input.sk-toggleable__control:checked~label.sk-toggleable__label {background-color: #d4ebff;}#sk-container-id-7 input.sk-hidden--visually {border: 0;clip: rect(1px 1px 1px 1px);clip: rect(1px, 1px, 1px, 1px);height: 1px;margin: -1px;overflow: hidden;padding: 0;position: absolute;width: 1px;}#sk-container-id-7 div.sk-estimator {font-family: monospace;background-color: #f0f8ff;border: 1px dotted black;border-radius: 0.25em;box-sizing: border-box;margin-bottom: 0.5em;}#sk-container-id-7 div.sk-estimator:hover {background-color: #d4ebff;}#sk-container-id-7 div.sk-parallel-item::after {content: \"\";width: 100%;border-bottom: 1px solid gray;flex-grow: 1;}#sk-container-id-7 div.sk-label:hover label.sk-toggleable__label {background-color: #d4ebff;}#sk-container-id-7 div.sk-serial::before {content: \"\";position: absolute;border-left: 1px solid gray;box-sizing: border-box;top: 0;bottom: 0;left: 50%;z-index: 0;}#sk-container-id-7 div.sk-serial {display: flex;flex-direction: column;align-items: center;background-color: white;padding-right: 0.2em;padding-left: 0.2em;position: relative;}#sk-container-id-7 div.sk-item {position: relative;z-index: 1;}#sk-container-id-7 div.sk-parallel {display: flex;align-items: stretch;justify-content: center;background-color: white;position: relative;}#sk-container-id-7 div.sk-item::before, #sk-container-id-7 div.sk-parallel-item::before {content: \"\";position: absolute;border-left: 1px solid gray;box-sizing: border-box;top: 0;bottom: 0;left: 50%;z-index: -1;}#sk-container-id-7 div.sk-parallel-item {display: flex;flex-direction: column;z-index: 1;position: relative;background-color: white;}#sk-container-id-7 div.sk-parallel-item:first-child::after {align-self: flex-end;width: 50%;}#sk-container-id-7 div.sk-parallel-item:last-child::after {align-self: flex-start;width: 50%;}#sk-container-id-7 div.sk-parallel-item:only-child::after {width: 0;}#sk-container-id-7 div.sk-dashed-wrapped {border: 1px dashed gray;margin: 0 0.4em 0.5em 0.4em;box-sizing: border-box;padding-bottom: 0.4em;background-color: white;}#sk-container-id-7 div.sk-label label {font-family: monospace;font-weight: bold;display: inline-block;line-height: 1.2em;}#sk-container-id-7 div.sk-label-container {text-align: center;}#sk-container-id-7 div.sk-container {/* jupyter's `normalize.less` sets `[hidden] { display: none; }` but bootstrap.min.css set `[hidden] { display: none !important; }` so we also need the `!important` here to be able to override the default hidden behavior on the sphinx rendered scikit-learn.org. See: https://github.com/scikit-learn/scikit-learn/issues/21755 */display: inline-block !important;position: relative;}#sk-container-id-7 div.sk-text-repr-fallback {display: none;}</style><div id=\"sk-container-id-7\" class=\"sk-top-container\"><div class=\"sk-text-repr-fallback\"><pre>GridSearchCV(cv=5,\n",
              "             estimator=MLPClassifier(hidden_layer_sizes=(30, 30, 30),\n",
              "                                     max_iter=1000),\n",
              "             param_grid={&#x27;alpha&#x27;: [0.0001, 0.001, 0.01, 0.1, 1],\n",
              "                         &#x27;hidden_layer_sizes&#x27;: [(30, 30, 30), (30, 20, 10)]})</pre><b>In a Jupyter environment, please rerun this cell to show the HTML representation or trust the notebook. <br />On GitHub, the HTML representation is unable to render, please try loading this page with nbviewer.org.</b></div><div class=\"sk-container\" hidden><div class=\"sk-item sk-dashed-wrapped\"><div class=\"sk-label-container\"><div class=\"sk-label sk-toggleable\"><input class=\"sk-toggleable__control sk-hidden--visually\" id=\"sk-estimator-id-11\" type=\"checkbox\" ><label for=\"sk-estimator-id-11\" class=\"sk-toggleable__label sk-toggleable__label-arrow\">GridSearchCV</label><div class=\"sk-toggleable__content\"><pre>GridSearchCV(cv=5,\n",
              "             estimator=MLPClassifier(hidden_layer_sizes=(30, 30, 30),\n",
              "                                     max_iter=1000),\n",
              "             param_grid={&#x27;alpha&#x27;: [0.0001, 0.001, 0.01, 0.1, 1],\n",
              "                         &#x27;hidden_layer_sizes&#x27;: [(30, 30, 30), (30, 20, 10)]})</pre></div></div></div><div class=\"sk-parallel\"><div class=\"sk-parallel-item\"><div class=\"sk-item\"><div class=\"sk-label-container\"><div class=\"sk-label sk-toggleable\"><input class=\"sk-toggleable__control sk-hidden--visually\" id=\"sk-estimator-id-12\" type=\"checkbox\" ><label for=\"sk-estimator-id-12\" class=\"sk-toggleable__label sk-toggleable__label-arrow\">estimator: MLPClassifier</label><div class=\"sk-toggleable__content\"><pre>MLPClassifier(hidden_layer_sizes=(30, 30, 30), max_iter=1000)</pre></div></div></div><div class=\"sk-serial\"><div class=\"sk-item\"><div class=\"sk-estimator sk-toggleable\"><input class=\"sk-toggleable__control sk-hidden--visually\" id=\"sk-estimator-id-13\" type=\"checkbox\" ><label for=\"sk-estimator-id-13\" class=\"sk-toggleable__label sk-toggleable__label-arrow\">MLPClassifier</label><div class=\"sk-toggleable__content\"><pre>MLPClassifier(hidden_layer_sizes=(30, 30, 30), max_iter=1000)</pre></div></div></div></div></div></div></div></div></div></div>"
            ]
          },
          "metadata": {},
          "execution_count": 128
        }
      ]
    },
    {
      "cell_type": "code",
      "source": [
        "model_cv.best_estimator_"
      ],
      "metadata": {
        "colab": {
          "base_uri": "https://localhost:8080/",
          "height": 75
        },
        "id": "kWAtysdh57kE",
        "outputId": "bebfa439-2309-470a-8c26-7bdf16014b2d"
      },
      "execution_count": 129,
      "outputs": [
        {
          "output_type": "execute_result",
          "data": {
            "text/plain": [
              "MLPClassifier(alpha=0.01, hidden_layer_sizes=(30, 30, 30), max_iter=1000)"
            ],
            "text/html": [
              "<style>#sk-container-id-8 {color: black;background-color: white;}#sk-container-id-8 pre{padding: 0;}#sk-container-id-8 div.sk-toggleable {background-color: white;}#sk-container-id-8 label.sk-toggleable__label {cursor: pointer;display: block;width: 100%;margin-bottom: 0;padding: 0.3em;box-sizing: border-box;text-align: center;}#sk-container-id-8 label.sk-toggleable__label-arrow:before {content: \"▸\";float: left;margin-right: 0.25em;color: #696969;}#sk-container-id-8 label.sk-toggleable__label-arrow:hover:before {color: black;}#sk-container-id-8 div.sk-estimator:hover label.sk-toggleable__label-arrow:before {color: black;}#sk-container-id-8 div.sk-toggleable__content {max-height: 0;max-width: 0;overflow: hidden;text-align: left;background-color: #f0f8ff;}#sk-container-id-8 div.sk-toggleable__content pre {margin: 0.2em;color: black;border-radius: 0.25em;background-color: #f0f8ff;}#sk-container-id-8 input.sk-toggleable__control:checked~div.sk-toggleable__content {max-height: 200px;max-width: 100%;overflow: auto;}#sk-container-id-8 input.sk-toggleable__control:checked~label.sk-toggleable__label-arrow:before {content: \"▾\";}#sk-container-id-8 div.sk-estimator input.sk-toggleable__control:checked~label.sk-toggleable__label {background-color: #d4ebff;}#sk-container-id-8 div.sk-label input.sk-toggleable__control:checked~label.sk-toggleable__label {background-color: #d4ebff;}#sk-container-id-8 input.sk-hidden--visually {border: 0;clip: rect(1px 1px 1px 1px);clip: rect(1px, 1px, 1px, 1px);height: 1px;margin: -1px;overflow: hidden;padding: 0;position: absolute;width: 1px;}#sk-container-id-8 div.sk-estimator {font-family: monospace;background-color: #f0f8ff;border: 1px dotted black;border-radius: 0.25em;box-sizing: border-box;margin-bottom: 0.5em;}#sk-container-id-8 div.sk-estimator:hover {background-color: #d4ebff;}#sk-container-id-8 div.sk-parallel-item::after {content: \"\";width: 100%;border-bottom: 1px solid gray;flex-grow: 1;}#sk-container-id-8 div.sk-label:hover label.sk-toggleable__label {background-color: #d4ebff;}#sk-container-id-8 div.sk-serial::before {content: \"\";position: absolute;border-left: 1px solid gray;box-sizing: border-box;top: 0;bottom: 0;left: 50%;z-index: 0;}#sk-container-id-8 div.sk-serial {display: flex;flex-direction: column;align-items: center;background-color: white;padding-right: 0.2em;padding-left: 0.2em;position: relative;}#sk-container-id-8 div.sk-item {position: relative;z-index: 1;}#sk-container-id-8 div.sk-parallel {display: flex;align-items: stretch;justify-content: center;background-color: white;position: relative;}#sk-container-id-8 div.sk-item::before, #sk-container-id-8 div.sk-parallel-item::before {content: \"\";position: absolute;border-left: 1px solid gray;box-sizing: border-box;top: 0;bottom: 0;left: 50%;z-index: -1;}#sk-container-id-8 div.sk-parallel-item {display: flex;flex-direction: column;z-index: 1;position: relative;background-color: white;}#sk-container-id-8 div.sk-parallel-item:first-child::after {align-self: flex-end;width: 50%;}#sk-container-id-8 div.sk-parallel-item:last-child::after {align-self: flex-start;width: 50%;}#sk-container-id-8 div.sk-parallel-item:only-child::after {width: 0;}#sk-container-id-8 div.sk-dashed-wrapped {border: 1px dashed gray;margin: 0 0.4em 0.5em 0.4em;box-sizing: border-box;padding-bottom: 0.4em;background-color: white;}#sk-container-id-8 div.sk-label label {font-family: monospace;font-weight: bold;display: inline-block;line-height: 1.2em;}#sk-container-id-8 div.sk-label-container {text-align: center;}#sk-container-id-8 div.sk-container {/* jupyter's `normalize.less` sets `[hidden] { display: none; }` but bootstrap.min.css set `[hidden] { display: none !important; }` so we also need the `!important` here to be able to override the default hidden behavior on the sphinx rendered scikit-learn.org. See: https://github.com/scikit-learn/scikit-learn/issues/21755 */display: inline-block !important;position: relative;}#sk-container-id-8 div.sk-text-repr-fallback {display: none;}</style><div id=\"sk-container-id-8\" class=\"sk-top-container\"><div class=\"sk-text-repr-fallback\"><pre>MLPClassifier(alpha=0.01, hidden_layer_sizes=(30, 30, 30), max_iter=1000)</pre><b>In a Jupyter environment, please rerun this cell to show the HTML representation or trust the notebook. <br />On GitHub, the HTML representation is unable to render, please try loading this page with nbviewer.org.</b></div><div class=\"sk-container\" hidden><div class=\"sk-item\"><div class=\"sk-estimator sk-toggleable\"><input class=\"sk-toggleable__control sk-hidden--visually\" id=\"sk-estimator-id-14\" type=\"checkbox\" checked><label for=\"sk-estimator-id-14\" class=\"sk-toggleable__label sk-toggleable__label-arrow\">MLPClassifier</label><div class=\"sk-toggleable__content\"><pre>MLPClassifier(alpha=0.01, hidden_layer_sizes=(30, 30, 30), max_iter=1000)</pre></div></div></div></div></div>"
            ]
          },
          "metadata": {},
          "execution_count": 129
        }
      ]
    },
    {
      "cell_type": "code",
      "source": [
        "model_cv.best_score_\n",
        "model_cv.best_params_"
      ],
      "metadata": {
        "colab": {
          "base_uri": "https://localhost:8080/"
        },
        "id": "Ehu-BHdj5_IM",
        "outputId": "75f17c77-a5fc-416a-d0c5-0cbd2f3e878c"
      },
      "execution_count": 130,
      "outputs": [
        {
          "output_type": "execute_result",
          "data": {
            "text/plain": [
              "{'alpha': 0.01, 'hidden_layer_sizes': (30, 30, 30)}"
            ]
          },
          "metadata": {},
          "execution_count": 130
        }
      ]
    },
    {
      "cell_type": "code",
      "source": [
        "predictions = model_cv.predict(X_test)\n",
        "accuracy_score(predictions, y_test)"
      ],
      "metadata": {
        "colab": {
          "base_uri": "https://localhost:8080/"
        },
        "id": "2Qv_N5jj6EIL",
        "outputId": "69c9fdf7-74a0-437a-b7d1-b84a92ccc29a"
      },
      "execution_count": 131,
      "outputs": [
        {
          "output_type": "execute_result",
          "data": {
            "text/plain": [
              "0.9555555555555556"
            ]
          },
          "metadata": {},
          "execution_count": 131
        }
      ]
    },
    {
      "cell_type": "code",
      "source": [
        "import warnings\n",
        "warnings.filterwarnings('ignore')\n",
        "import pandas as pd\n",
        "data1 = pd.read_csv('/content/drive/MyDrive/breast-cancer-wisconsin.csv', encoding='utf-8')\n",
        "data1.head()\n",
        "data1.columns  # Class : target 변수 (종속변수)"
      ],
      "metadata": {
        "colab": {
          "base_uri": "https://localhost:8080/"
        },
        "id": "suqs17X56LN7",
        "outputId": "59342585-b3ce-44ac-a193-73f035838aa9"
      },
      "execution_count": 132,
      "outputs": [
        {
          "output_type": "execute_result",
          "data": {
            "text/plain": [
              "Index(['code', 'Clump_Thickness', 'Cell_Size', 'Cell_Shape',\n",
              "       'Marginal_Adhesion', 'Single_Epithelial_Cell_Size', 'Bare_Nuclei',\n",
              "       'Bland_Chromatin', 'Normal_Nucleoli', 'Mitoses', 'Class'],\n",
              "      dtype='object')"
            ]
          },
          "metadata": {},
          "execution_count": 132
        }
      ]
    },
    {
      "cell_type": "code",
      "source": [
        "print(type(data1))"
      ],
      "metadata": {
        "colab": {
          "base_uri": "https://localhost:8080/"
        },
        "id": "9c-eGZETxVta",
        "outputId": "8890ea93-2a65-4785-bdf9-23b8707c70c8"
      },
      "execution_count": 188,
      "outputs": [
        {
          "output_type": "stream",
          "name": "stdout",
          "text": [
            "<class 'pandas.core.frame.DataFrame'>\n"
          ]
        }
      ]
    },
    {
      "cell_type": "code",
      "source": [
        "X = data1[data1.columns[1:10]]\n",
        "y = data1[[\"Class\"]]"
      ],
      "metadata": {
        "id": "8xW5zeWLK6Ww"
      },
      "execution_count": 133,
      "outputs": []
    },
    {
      "cell_type": "code",
      "source": [
        "y.dtypes"
      ],
      "metadata": {
        "colab": {
          "base_uri": "https://localhost:8080/"
        },
        "id": "emckDlyMw1SR",
        "outputId": "92414a87-ebe1-4128-ed44-21d2ab55df74"
      },
      "execution_count": 185,
      "outputs": [
        {
          "output_type": "execute_result",
          "data": {
            "text/plain": [
              "house_value    int64\n",
              "dtype: object"
            ]
          },
          "metadata": {},
          "execution_count": 185
        }
      ]
    },
    {
      "cell_type": "code",
      "source": [
        "X.dtypes\n",
        "# 회귀, 분류 (model : XGBoost, SVM) / scaler "
      ],
      "metadata": {
        "colab": {
          "base_uri": "https://localhost:8080/"
        },
        "id": "2S-Cnf3NLIzs",
        "outputId": "e0840cca-5999-44c8-9a62-98357da6b3f8"
      },
      "execution_count": 134,
      "outputs": [
        {
          "output_type": "execute_result",
          "data": {
            "text/plain": [
              "Clump_Thickness                int64\n",
              "Cell_Size                      int64\n",
              "Cell_Shape                     int64\n",
              "Marginal_Adhesion              int64\n",
              "Single_Epithelial_Cell_Size    int64\n",
              "Bare_Nuclei                    int64\n",
              "Bland_Chromatin                int64\n",
              "Normal_Nucleoli                int64\n",
              "Mitoses                        int64\n",
              "dtype: object"
            ]
          },
          "metadata": {},
          "execution_count": 134
        }
      ]
    },
    {
      "cell_type": "code",
      "source": [
        "# 데이터 훈련셋과 테스트셋으로 나누기\n",
        "from sklearn.model_selection import train_test_split\n",
        "X_train, X_test, y_train, y_test = train_test_split(X, y, stratify = y,  # 클래스 비율 유지하며 X, y 나누기\n",
        "                                                    random_state = 42)"
      ],
      "metadata": {
        "id": "2RT4lLigW7cW"
      },
      "execution_count": 135,
      "outputs": []
    },
    {
      "cell_type": "code",
      "source": [
        "# 최소 최대 스케일러를 이용하여 정규화 (데이터 범위를 최소값과 최대값 사이로 조정) (0 ~ 1)\n",
        "from sklearn.preprocessing import MinMaxScaler\n",
        "scaler = MinMaxScaler()\n",
        "scaler.fit(X_train)  # 스케일링을 위한 변환기를 학습 (학습 데이터에 있는 최소값, 최대값 기반으로 스케일링)\n",
        "X_scaled_train = scaler.transform(X_train)  # 학습 데이터 스케일링\n",
        "X_scaled_test = scaler.transform(X_test)  # 테스트 데이터 스케일링"
      ],
      "metadata": {
        "id": "nkq7_0pVLDlN"
      },
      "execution_count": 136,
      "outputs": []
    },
    {
      "cell_type": "code",
      "source": [
        "# MLPClassifier 사용하여 모델학습 후 훈련셋에 대한 예측을 수행하여 정확도를 계산 \n",
        "from sklearn.neural_network import MLPClassifier\n",
        "model = MLPClassifier()\n",
        "model.fit(X_scaled_train, y_train)  # 입력 데이터 X_scaled_train과 레이블 y_train을 사용하여 모델학습\n",
        "pred_train = model.predict(X_scaled_train)  # 훈련셋에 대한 예측값 계산\n",
        "model.score(X_scaled_train, y_train)  # 훈련셋에 대한 예측 정확도를 계산 (정확도는 예측값과 실제값을 비교하여 일치하는 비율로 계산)"
      ],
      "metadata": {
        "colab": {
          "base_uri": "https://localhost:8080/"
        },
        "id": "1PLOZaaeL5wM",
        "outputId": "f7039954-c1c2-4f5c-e3c9-204c302ea80e"
      },
      "execution_count": 137,
      "outputs": [
        {
          "output_type": "execute_result",
          "data": {
            "text/plain": [
              "0.97265625"
            ]
          },
          "metadata": {},
          "execution_count": 137
        }
      ]
    },
    {
      "cell_type": "code",
      "source": [
        "from sklearn.metrics import confusion_matrix\n",
        "confusion_train = confusion_matrix(y_train, pred_train)\n",
        "print(\"훈련데이터 오차행렬: \\n\", confusion_train)"
      ],
      "metadata": {
        "colab": {
          "base_uri": "https://localhost:8080/"
        },
        "id": "608YKgCBW7el",
        "outputId": "44e80c5b-360f-467b-f20e-23753cd5340f"
      },
      "execution_count": 138,
      "outputs": [
        {
          "output_type": "stream",
          "name": "stdout",
          "text": [
            "훈련데이터 오차행렬: \n",
            " [[327   6]\n",
            " [  8 171]]\n"
          ]
        }
      ]
    },
    {
      "cell_type": "code",
      "source": [
        "# 하이퍼 파라미터를 Grid Search하여 튜닝\n",
        "param_grid = {'hidden_layer_sizes' : [10, 30, 50, 100], 'solver': ['sgd', 'adam'],\n",
        "                'activation': ['tanh', 'relu']}  # 'hidden_layer_sizes', 'solver', 'activation' 파라미터에 대해 탐색할 후보값 지정\n",
        "from sklearn.model_selection import GridSearchCV\n",
        "grid_search = GridSearchCV(MLPClassifier(), param_grid, cv = 5)  # 5폴드 교차검증 (테스트셋을 다섯번 사용하여 성능 평가)\n",
        "grid_search.fit(X_scaled_train, y_train)  # 그리드 서치 수행하여 최적의 하이퍼파라미터 탐색"
      ],
      "metadata": {
        "colab": {
          "base_uri": "https://localhost:8080/",
          "height": 118
        },
        "id": "N6ND3fjoW7f9",
        "outputId": "4a9fc18a-e973-4520-c5c3-16e80351986a"
      },
      "execution_count": 139,
      "outputs": [
        {
          "output_type": "execute_result",
          "data": {
            "text/plain": [
              "GridSearchCV(cv=5, estimator=MLPClassifier(),\n",
              "             param_grid={'activation': ['tanh', 'relu'],\n",
              "                         'hidden_layer_sizes': [10, 30, 50, 100],\n",
              "                         'solver': ['sgd', 'adam']})"
            ],
            "text/html": [
              "<style>#sk-container-id-9 {color: black;background-color: white;}#sk-container-id-9 pre{padding: 0;}#sk-container-id-9 div.sk-toggleable {background-color: white;}#sk-container-id-9 label.sk-toggleable__label {cursor: pointer;display: block;width: 100%;margin-bottom: 0;padding: 0.3em;box-sizing: border-box;text-align: center;}#sk-container-id-9 label.sk-toggleable__label-arrow:before {content: \"▸\";float: left;margin-right: 0.25em;color: #696969;}#sk-container-id-9 label.sk-toggleable__label-arrow:hover:before {color: black;}#sk-container-id-9 div.sk-estimator:hover label.sk-toggleable__label-arrow:before {color: black;}#sk-container-id-9 div.sk-toggleable__content {max-height: 0;max-width: 0;overflow: hidden;text-align: left;background-color: #f0f8ff;}#sk-container-id-9 div.sk-toggleable__content pre {margin: 0.2em;color: black;border-radius: 0.25em;background-color: #f0f8ff;}#sk-container-id-9 input.sk-toggleable__control:checked~div.sk-toggleable__content {max-height: 200px;max-width: 100%;overflow: auto;}#sk-container-id-9 input.sk-toggleable__control:checked~label.sk-toggleable__label-arrow:before {content: \"▾\";}#sk-container-id-9 div.sk-estimator input.sk-toggleable__control:checked~label.sk-toggleable__label {background-color: #d4ebff;}#sk-container-id-9 div.sk-label input.sk-toggleable__control:checked~label.sk-toggleable__label {background-color: #d4ebff;}#sk-container-id-9 input.sk-hidden--visually {border: 0;clip: rect(1px 1px 1px 1px);clip: rect(1px, 1px, 1px, 1px);height: 1px;margin: -1px;overflow: hidden;padding: 0;position: absolute;width: 1px;}#sk-container-id-9 div.sk-estimator {font-family: monospace;background-color: #f0f8ff;border: 1px dotted black;border-radius: 0.25em;box-sizing: border-box;margin-bottom: 0.5em;}#sk-container-id-9 div.sk-estimator:hover {background-color: #d4ebff;}#sk-container-id-9 div.sk-parallel-item::after {content: \"\";width: 100%;border-bottom: 1px solid gray;flex-grow: 1;}#sk-container-id-9 div.sk-label:hover label.sk-toggleable__label {background-color: #d4ebff;}#sk-container-id-9 div.sk-serial::before {content: \"\";position: absolute;border-left: 1px solid gray;box-sizing: border-box;top: 0;bottom: 0;left: 50%;z-index: 0;}#sk-container-id-9 div.sk-serial {display: flex;flex-direction: column;align-items: center;background-color: white;padding-right: 0.2em;padding-left: 0.2em;position: relative;}#sk-container-id-9 div.sk-item {position: relative;z-index: 1;}#sk-container-id-9 div.sk-parallel {display: flex;align-items: stretch;justify-content: center;background-color: white;position: relative;}#sk-container-id-9 div.sk-item::before, #sk-container-id-9 div.sk-parallel-item::before {content: \"\";position: absolute;border-left: 1px solid gray;box-sizing: border-box;top: 0;bottom: 0;left: 50%;z-index: -1;}#sk-container-id-9 div.sk-parallel-item {display: flex;flex-direction: column;z-index: 1;position: relative;background-color: white;}#sk-container-id-9 div.sk-parallel-item:first-child::after {align-self: flex-end;width: 50%;}#sk-container-id-9 div.sk-parallel-item:last-child::after {align-self: flex-start;width: 50%;}#sk-container-id-9 div.sk-parallel-item:only-child::after {width: 0;}#sk-container-id-9 div.sk-dashed-wrapped {border: 1px dashed gray;margin: 0 0.4em 0.5em 0.4em;box-sizing: border-box;padding-bottom: 0.4em;background-color: white;}#sk-container-id-9 div.sk-label label {font-family: monospace;font-weight: bold;display: inline-block;line-height: 1.2em;}#sk-container-id-9 div.sk-label-container {text-align: center;}#sk-container-id-9 div.sk-container {/* jupyter's `normalize.less` sets `[hidden] { display: none; }` but bootstrap.min.css set `[hidden] { display: none !important; }` so we also need the `!important` here to be able to override the default hidden behavior on the sphinx rendered scikit-learn.org. See: https://github.com/scikit-learn/scikit-learn/issues/21755 */display: inline-block !important;position: relative;}#sk-container-id-9 div.sk-text-repr-fallback {display: none;}</style><div id=\"sk-container-id-9\" class=\"sk-top-container\"><div class=\"sk-text-repr-fallback\"><pre>GridSearchCV(cv=5, estimator=MLPClassifier(),\n",
              "             param_grid={&#x27;activation&#x27;: [&#x27;tanh&#x27;, &#x27;relu&#x27;],\n",
              "                         &#x27;hidden_layer_sizes&#x27;: [10, 30, 50, 100],\n",
              "                         &#x27;solver&#x27;: [&#x27;sgd&#x27;, &#x27;adam&#x27;]})</pre><b>In a Jupyter environment, please rerun this cell to show the HTML representation or trust the notebook. <br />On GitHub, the HTML representation is unable to render, please try loading this page with nbviewer.org.</b></div><div class=\"sk-container\" hidden><div class=\"sk-item sk-dashed-wrapped\"><div class=\"sk-label-container\"><div class=\"sk-label sk-toggleable\"><input class=\"sk-toggleable__control sk-hidden--visually\" id=\"sk-estimator-id-15\" type=\"checkbox\" ><label for=\"sk-estimator-id-15\" class=\"sk-toggleable__label sk-toggleable__label-arrow\">GridSearchCV</label><div class=\"sk-toggleable__content\"><pre>GridSearchCV(cv=5, estimator=MLPClassifier(),\n",
              "             param_grid={&#x27;activation&#x27;: [&#x27;tanh&#x27;, &#x27;relu&#x27;],\n",
              "                         &#x27;hidden_layer_sizes&#x27;: [10, 30, 50, 100],\n",
              "                         &#x27;solver&#x27;: [&#x27;sgd&#x27;, &#x27;adam&#x27;]})</pre></div></div></div><div class=\"sk-parallel\"><div class=\"sk-parallel-item\"><div class=\"sk-item\"><div class=\"sk-label-container\"><div class=\"sk-label sk-toggleable\"><input class=\"sk-toggleable__control sk-hidden--visually\" id=\"sk-estimator-id-16\" type=\"checkbox\" ><label for=\"sk-estimator-id-16\" class=\"sk-toggleable__label sk-toggleable__label-arrow\">estimator: MLPClassifier</label><div class=\"sk-toggleable__content\"><pre>MLPClassifier()</pre></div></div></div><div class=\"sk-serial\"><div class=\"sk-item\"><div class=\"sk-estimator sk-toggleable\"><input class=\"sk-toggleable__control sk-hidden--visually\" id=\"sk-estimator-id-17\" type=\"checkbox\" ><label for=\"sk-estimator-id-17\" class=\"sk-toggleable__label sk-toggleable__label-arrow\">MLPClassifier</label><div class=\"sk-toggleable__content\"><pre>MLPClassifier()</pre></div></div></div></div></div></div></div></div></div></div>"
            ]
          },
          "metadata": {},
          "execution_count": 139
        }
      ]
    },
    {
      "cell_type": "code",
      "source": [
        "print('Testset Score: {:.4f}'.format(grid_search.score(\n",
        "    X_scaled_test, y_test)))"
      ],
      "metadata": {
        "colab": {
          "base_uri": "https://localhost:8080/"
        },
        "id": "BdozUWN7W7h9",
        "outputId": "6829a422-54e9-4ac2-caaa-0ec47afcdcdd"
      },
      "execution_count": 140,
      "outputs": [
        {
          "output_type": "stream",
          "name": "stdout",
          "text": [
            "Testset Score: 0.9591\n"
          ]
        }
      ]
    },
    {
      "cell_type": "code",
      "source": [
        "# 회귀문제 MLPegressor\n",
        "import pandas as pd\n",
        "from sklearn.preprocessing import MinMaxScaler\n",
        "from sklearn.model_selection import train_test_split\n",
        "from sklearn.metrics import confusion_matrix"
      ],
      "metadata": {
        "id": "b2wy2-B4NnsP"
      },
      "execution_count": 141,
      "outputs": []
    },
    {
      "cell_type": "code",
      "source": [
        "data2 = pd.read_csv('/content/drive/MyDrive/house_price.csv', encoding='utf-8')\n",
        "X = data2[data2.columns[1:5]]\n",
        "y = data2[['house_value']]  # 결측치, 정규화 => 범주화"
      ],
      "metadata": {
        "id": "07PP_s43OI0D"
      },
      "execution_count": 142,
      "outputs": []
    },
    {
      "cell_type": "code",
      "source": [
        "X_train, X_test, y_train, y_test = train_test_split(X, y, random_state = 42)\n",
        "scaler = MinMaxScaler()\n",
        "scaler.fit(X_train)\n",
        "X_scaled_train = scaler.transform(X_train)\n",
        "X_scaled_test = scaler.transform(X_test)"
      ],
      "metadata": {
        "id": "J_pnwuenW7j_"
      },
      "execution_count": 143,
      "outputs": []
    },
    {
      "cell_type": "code",
      "source": [
        "from sklearn.neural_network import MLPRegressor\n",
        "model = MLPRegressor()\n",
        "model.fit(X_scaled_train, y_train)\n",
        "pred_train = model.predict(X_scaled_train)\n",
        "model.score(X_scaled_train, y_train)"
      ],
      "metadata": {
        "colab": {
          "base_uri": "https://localhost:8080/"
        },
        "id": "iUBNzUQKPBV-",
        "outputId": "ac9f47e5-4f05-4ca4-84f0-1fc41312770b"
      },
      "execution_count": 144,
      "outputs": [
        {
          "output_type": "execute_result",
          "data": {
            "text/plain": [
              "-2.7696407669626355"
            ]
          },
          "metadata": {},
          "execution_count": 144
        }
      ]
    },
    {
      "cell_type": "code",
      "source": [
        "pred_test = model.predict(X_scaled_test)\n",
        "model.score(X_scaled_test, y_test)"
      ],
      "metadata": {
        "colab": {
          "base_uri": "https://localhost:8080/"
        },
        "id": "nHdDi-DOPRie",
        "outputId": "3c68802c-b3ed-4c79-fb27-90f11aa27ed6"
      },
      "execution_count": 145,
      "outputs": [
        {
          "output_type": "execute_result",
          "data": {
            "text/plain": [
              "-2.727378325679595"
            ]
          },
          "metadata": {},
          "execution_count": 145
        }
      ]
    },
    {
      "cell_type": "code",
      "source": [
        "# RMSE : 회귀 문제에서 예측 모델의 성능을 평가하는 지표\n",
        "# 예측값과 실제값의 차이를 제곱한 후 평균을 구한 뒤, 다시 제곱근을 취하기\n",
        "# 예측 모델이 실제값과 얼마나 차이가 나는지를 나타내는 값, 0에 가까울수록 예측이 실제값에 더 가깝다 (더 정확하다)\n",
        "import numpy as np\n",
        "from sklearn.metrics import mean_squared_error\n",
        "MSE_train = mean_squared_error(y_train, pred_train)\n",
        "MSE_test = mean_squared_error(y_test, pred_test)\n",
        "print(\"훈련 데이터 RMSE: \", np.sqrt(MSE_train))\n",
        "print(\"테스트 데이터 RMSE: \", np.sqrt(MSE_test))"
      ],
      "metadata": {
        "colab": {
          "base_uri": "https://localhost:8080/"
        },
        "id": "QC1j6YD_O-cP",
        "outputId": "e12fafe0-5609-4e12-802e-6eb9716b594c"
      },
      "execution_count": 146,
      "outputs": [
        {
          "output_type": "stream",
          "name": "stdout",
          "text": [
            "훈련 데이터 RMSE:  185310.92619191704\n",
            "테스트 데이터 RMSE:  184571.31722754595\n"
          ]
        }
      ]
    },
    {
      "cell_type": "code",
      "source": [
        "# 모델 튜닝을 통해 rmse 증명\n",
        "from sklearn.neural_network import MLPRegressor\n",
        "model = MLPRegressor(hidden_layer_sizes = (64,64,64), activation='relu',\n",
        "                     random_state=42, max_iter=2000)\n",
        "model.fit(X_scaled_train, y_train)\n",
        "pred_train = model.predict(X_scaled_train)\n",
        "model.score(X_scaled_train, y_train)"
      ],
      "metadata": {
        "colab": {
          "base_uri": "https://localhost:8080/"
        },
        "id": "a6kGooMJPiWm",
        "outputId": "523b2521-4a86-4c7a-e8f3-a7a784cdef11"
      },
      "execution_count": 147,
      "outputs": [
        {
          "output_type": "execute_result",
          "data": {
            "text/plain": [
              "0.5643797100611765"
            ]
          },
          "metadata": {},
          "execution_count": 147
        }
      ]
    },
    {
      "cell_type": "code",
      "source": [
        "pred_test = model.predict(X_scaled_test)\n",
        "model.score(X_scaled_test, y_test)"
      ],
      "metadata": {
        "colab": {
          "base_uri": "https://localhost:8080/"
        },
        "id": "y6JDnDeWPiYU",
        "outputId": "e90c375f-e504-4a8e-8f73-8059d4390251"
      },
      "execution_count": 148,
      "outputs": [
        {
          "output_type": "execute_result",
          "data": {
            "text/plain": [
              "0.5823255888282528"
            ]
          },
          "metadata": {},
          "execution_count": 148
        }
      ]
    },
    {
      "cell_type": "code",
      "source": [
        "# 문제 < 201_boston.csv >\n",
        "# 데이터 로딩\n",
        "import pandas as pd\n",
        "data = pd.read_csv('/content/drive/MyDrive/201_boston.csv', encoding='utf-8')\n",
        "data.head()"
      ],
      "metadata": {
        "colab": {
          "base_uri": "https://localhost:8080/",
          "height": 206
        },
        "id": "qdcO__6BPiaN",
        "outputId": "540322ad-8389-4630-a4f1-36b039e8c3a9"
      },
      "execution_count": 149,
      "outputs": [
        {
          "output_type": "execute_result",
          "data": {
            "text/plain": [
              "      CRIM    ZN  INDUS  CHAS    NOX     RM   AGE     DIS  RAD    TAX  \\\n",
              "0  0.00632  18.0   2.31   0.0  0.538  6.575  65.2  4.0900  1.0  296.0   \n",
              "1  0.02731   0.0   7.07   0.0  0.469  6.421  78.9  4.9671  2.0  242.0   \n",
              "2  0.02729   0.0   7.07   0.0  0.469  7.185  61.1  4.9671  2.0  242.0   \n",
              "3  0.03237   0.0   2.18   0.0  0.458  6.998  45.8  6.0622  3.0  222.0   \n",
              "4  0.06905   0.0   2.18   0.0  0.458  7.147  54.2  6.0622  3.0  222.0   \n",
              "\n",
              "   PTRATIO       B  LSTAT  \n",
              "0     15.3  396.90   4.98  \n",
              "1     17.8  396.90   9.14  \n",
              "2     17.8  392.83   4.03  \n",
              "3     18.7  394.63   2.94  \n",
              "4     18.7  396.90   5.33  "
            ],
            "text/html": [
              "\n",
              "  <div id=\"df-8c096da4-1541-461a-a5a2-013a7a8b3b46\">\n",
              "    <div class=\"colab-df-container\">\n",
              "      <div>\n",
              "<style scoped>\n",
              "    .dataframe tbody tr th:only-of-type {\n",
              "        vertical-align: middle;\n",
              "    }\n",
              "\n",
              "    .dataframe tbody tr th {\n",
              "        vertical-align: top;\n",
              "    }\n",
              "\n",
              "    .dataframe thead th {\n",
              "        text-align: right;\n",
              "    }\n",
              "</style>\n",
              "<table border=\"1\" class=\"dataframe\">\n",
              "  <thead>\n",
              "    <tr style=\"text-align: right;\">\n",
              "      <th></th>\n",
              "      <th>CRIM</th>\n",
              "      <th>ZN</th>\n",
              "      <th>INDUS</th>\n",
              "      <th>CHAS</th>\n",
              "      <th>NOX</th>\n",
              "      <th>RM</th>\n",
              "      <th>AGE</th>\n",
              "      <th>DIS</th>\n",
              "      <th>RAD</th>\n",
              "      <th>TAX</th>\n",
              "      <th>PTRATIO</th>\n",
              "      <th>B</th>\n",
              "      <th>LSTAT</th>\n",
              "    </tr>\n",
              "  </thead>\n",
              "  <tbody>\n",
              "    <tr>\n",
              "      <th>0</th>\n",
              "      <td>0.00632</td>\n",
              "      <td>18.0</td>\n",
              "      <td>2.31</td>\n",
              "      <td>0.0</td>\n",
              "      <td>0.538</td>\n",
              "      <td>6.575</td>\n",
              "      <td>65.2</td>\n",
              "      <td>4.0900</td>\n",
              "      <td>1.0</td>\n",
              "      <td>296.0</td>\n",
              "      <td>15.3</td>\n",
              "      <td>396.90</td>\n",
              "      <td>4.98</td>\n",
              "    </tr>\n",
              "    <tr>\n",
              "      <th>1</th>\n",
              "      <td>0.02731</td>\n",
              "      <td>0.0</td>\n",
              "      <td>7.07</td>\n",
              "      <td>0.0</td>\n",
              "      <td>0.469</td>\n",
              "      <td>6.421</td>\n",
              "      <td>78.9</td>\n",
              "      <td>4.9671</td>\n",
              "      <td>2.0</td>\n",
              "      <td>242.0</td>\n",
              "      <td>17.8</td>\n",
              "      <td>396.90</td>\n",
              "      <td>9.14</td>\n",
              "    </tr>\n",
              "    <tr>\n",
              "      <th>2</th>\n",
              "      <td>0.02729</td>\n",
              "      <td>0.0</td>\n",
              "      <td>7.07</td>\n",
              "      <td>0.0</td>\n",
              "      <td>0.469</td>\n",
              "      <td>7.185</td>\n",
              "      <td>61.1</td>\n",
              "      <td>4.9671</td>\n",
              "      <td>2.0</td>\n",
              "      <td>242.0</td>\n",
              "      <td>17.8</td>\n",
              "      <td>392.83</td>\n",
              "      <td>4.03</td>\n",
              "    </tr>\n",
              "    <tr>\n",
              "      <th>3</th>\n",
              "      <td>0.03237</td>\n",
              "      <td>0.0</td>\n",
              "      <td>2.18</td>\n",
              "      <td>0.0</td>\n",
              "      <td>0.458</td>\n",
              "      <td>6.998</td>\n",
              "      <td>45.8</td>\n",
              "      <td>6.0622</td>\n",
              "      <td>3.0</td>\n",
              "      <td>222.0</td>\n",
              "      <td>18.7</td>\n",
              "      <td>394.63</td>\n",
              "      <td>2.94</td>\n",
              "    </tr>\n",
              "    <tr>\n",
              "      <th>4</th>\n",
              "      <td>0.06905</td>\n",
              "      <td>0.0</td>\n",
              "      <td>2.18</td>\n",
              "      <td>0.0</td>\n",
              "      <td>0.458</td>\n",
              "      <td>7.147</td>\n",
              "      <td>54.2</td>\n",
              "      <td>6.0622</td>\n",
              "      <td>3.0</td>\n",
              "      <td>222.0</td>\n",
              "      <td>18.7</td>\n",
              "      <td>396.90</td>\n",
              "      <td>5.33</td>\n",
              "    </tr>\n",
              "  </tbody>\n",
              "</table>\n",
              "</div>\n",
              "      <button class=\"colab-df-convert\" onclick=\"convertToInteractive('df-8c096da4-1541-461a-a5a2-013a7a8b3b46')\"\n",
              "              title=\"Convert this dataframe to an interactive table.\"\n",
              "              style=\"display:none;\">\n",
              "        \n",
              "  <svg xmlns=\"http://www.w3.org/2000/svg\" height=\"24px\"viewBox=\"0 0 24 24\"\n",
              "       width=\"24px\">\n",
              "    <path d=\"M0 0h24v24H0V0z\" fill=\"none\"/>\n",
              "    <path d=\"M18.56 5.44l.94 2.06.94-2.06 2.06-.94-2.06-.94-.94-2.06-.94 2.06-2.06.94zm-11 1L8.5 8.5l.94-2.06 2.06-.94-2.06-.94L8.5 2.5l-.94 2.06-2.06.94zm10 10l.94 2.06.94-2.06 2.06-.94-2.06-.94-.94-2.06-.94 2.06-2.06.94z\"/><path d=\"M17.41 7.96l-1.37-1.37c-.4-.4-.92-.59-1.43-.59-.52 0-1.04.2-1.43.59L10.3 9.45l-7.72 7.72c-.78.78-.78 2.05 0 2.83L4 21.41c.39.39.9.59 1.41.59.51 0 1.02-.2 1.41-.59l7.78-7.78 2.81-2.81c.8-.78.8-2.07 0-2.86zM5.41 20L4 18.59l7.72-7.72 1.47 1.35L5.41 20z\"/>\n",
              "  </svg>\n",
              "      </button>\n",
              "      \n",
              "  <style>\n",
              "    .colab-df-container {\n",
              "      display:flex;\n",
              "      flex-wrap:wrap;\n",
              "      gap: 12px;\n",
              "    }\n",
              "\n",
              "    .colab-df-convert {\n",
              "      background-color: #E8F0FE;\n",
              "      border: none;\n",
              "      border-radius: 50%;\n",
              "      cursor: pointer;\n",
              "      display: none;\n",
              "      fill: #1967D2;\n",
              "      height: 32px;\n",
              "      padding: 0 0 0 0;\n",
              "      width: 32px;\n",
              "    }\n",
              "\n",
              "    .colab-df-convert:hover {\n",
              "      background-color: #E2EBFA;\n",
              "      box-shadow: 0px 1px 2px rgba(60, 64, 67, 0.3), 0px 1px 3px 1px rgba(60, 64, 67, 0.15);\n",
              "      fill: #174EA6;\n",
              "    }\n",
              "\n",
              "    [theme=dark] .colab-df-convert {\n",
              "      background-color: #3B4455;\n",
              "      fill: #D2E3FC;\n",
              "    }\n",
              "\n",
              "    [theme=dark] .colab-df-convert:hover {\n",
              "      background-color: #434B5C;\n",
              "      box-shadow: 0px 1px 3px 1px rgba(0, 0, 0, 0.15);\n",
              "      filter: drop-shadow(0px 1px 2px rgba(0, 0, 0, 0.3));\n",
              "      fill: #FFFFFF;\n",
              "    }\n",
              "  </style>\n",
              "\n",
              "      <script>\n",
              "        const buttonEl =\n",
              "          document.querySelector('#df-8c096da4-1541-461a-a5a2-013a7a8b3b46 button.colab-df-convert');\n",
              "        buttonEl.style.display =\n",
              "          google.colab.kernel.accessAllowed ? 'block' : 'none';\n",
              "\n",
              "        async function convertToInteractive(key) {\n",
              "          const element = document.querySelector('#df-8c096da4-1541-461a-a5a2-013a7a8b3b46');\n",
              "          const dataTable =\n",
              "            await google.colab.kernel.invokeFunction('convertToInteractive',\n",
              "                                                     [key], {});\n",
              "          if (!dataTable) return;\n",
              "\n",
              "          const docLinkHtml = 'Like what you see? Visit the ' +\n",
              "            '<a target=\"_blank\" href=https://colab.research.google.com/notebooks/data_table.ipynb>data table notebook</a>'\n",
              "            + ' to learn more about interactive tables.';\n",
              "          element.innerHTML = '';\n",
              "          dataTable['output_type'] = 'display_data';\n",
              "          await google.colab.output.renderOutput(dataTable, element);\n",
              "          const docLink = document.createElement('div');\n",
              "          docLink.innerHTML = docLinkHtml;\n",
              "          element.appendChild(docLink);\n",
              "        }\n",
              "      </script>\n",
              "    </div>\n",
              "  </div>\n",
              "  "
            ]
          },
          "metadata": {},
          "execution_count": 149
        }
      ]
    },
    {
      "cell_type": "code",
      "source": [
        "data.dtypes"
      ],
      "metadata": {
        "colab": {
          "base_uri": "https://localhost:8080/"
        },
        "id": "PFIukeNiTebt",
        "outputId": "a081ff21-4fc2-42e2-b683-a2ac693580fa"
      },
      "execution_count": 150,
      "outputs": [
        {
          "output_type": "execute_result",
          "data": {
            "text/plain": [
              "CRIM       float64\n",
              "ZN         float64\n",
              "INDUS      float64\n",
              "CHAS       float64\n",
              "NOX        float64\n",
              "RM         float64\n",
              "AGE        float64\n",
              "DIS        float64\n",
              "RAD        float64\n",
              "TAX        float64\n",
              "PTRATIO    float64\n",
              "B          float64\n",
              "LSTAT      float64\n",
              "dtype: object"
            ]
          },
          "metadata": {},
          "execution_count": 150
        }
      ]
    },
    {
      "cell_type": "code",
      "source": [
        "# CRIM 필드를 기준으로 내림차순 정렬\n",
        "data = data.sort_values(by='CRIM', ascending = False)\n",
        "data"
      ],
      "metadata": {
        "colab": {
          "base_uri": "https://localhost:8080/",
          "height": 424
        },
        "id": "FSxGyilQPib8",
        "outputId": "494e9d84-4a5e-4ddb-bf03-c7cc291b27ad"
      },
      "execution_count": 151,
      "outputs": [
        {
          "output_type": "execute_result",
          "data": {
            "text/plain": [
              "         CRIM    ZN  INDUS  CHAS    NOX     RM    AGE     DIS   RAD    TAX  \\\n",
              "380  88.97620   0.0  18.10   0.0  0.671  6.968   91.9  1.4165  24.0  666.0   \n",
              "418  73.53410   0.0  18.10   0.0  0.679  5.957  100.0  1.8026  24.0  666.0   \n",
              "405  67.92080   0.0  18.10   0.0  0.693  5.683  100.0  1.4254  24.0  666.0   \n",
              "410  51.13580   0.0  18.10   0.0  0.597  5.757  100.0  1.4130  24.0  666.0   \n",
              "414  45.74610   0.0  18.10   0.0  0.693  4.519  100.0  1.6582  24.0  666.0   \n",
              "..        ...   ...    ...   ...    ...    ...    ...     ...   ...    ...   \n",
              "55    0.01311  90.0   1.22   0.0  0.403  7.249   21.9  8.6966   5.0  226.0   \n",
              "341   0.01301  35.0   1.52   0.0  0.442  7.241   49.3  7.0379   1.0  284.0   \n",
              "285   0.01096  55.0   2.25   0.0  0.389  6.453   31.9  7.3073   1.0  300.0   \n",
              "284   0.00906  90.0   2.97   0.0  0.400  7.088   20.8  7.3073   1.0  285.0   \n",
              "0     0.00632  18.0   2.31   0.0  0.538  6.575   65.2  4.0900   1.0  296.0   \n",
              "\n",
              "     PTRATIO       B  LSTAT  \n",
              "380     20.2  396.90  17.21  \n",
              "418     20.2   16.45  20.62  \n",
              "405     20.2  384.97  22.98  \n",
              "410     20.2    2.60  10.11  \n",
              "414     20.2   88.27  36.98  \n",
              "..       ...     ...    ...  \n",
              "55      17.9  395.93   4.81  \n",
              "341     15.5  394.74   5.49  \n",
              "285     15.3  394.72   8.23  \n",
              "284     15.3  394.72   7.85  \n",
              "0       15.3  396.90   4.98  \n",
              "\n",
              "[506 rows x 13 columns]"
            ],
            "text/html": [
              "\n",
              "  <div id=\"df-a288289d-003e-4dcb-90fa-ffc2aee4ac71\">\n",
              "    <div class=\"colab-df-container\">\n",
              "      <div>\n",
              "<style scoped>\n",
              "    .dataframe tbody tr th:only-of-type {\n",
              "        vertical-align: middle;\n",
              "    }\n",
              "\n",
              "    .dataframe tbody tr th {\n",
              "        vertical-align: top;\n",
              "    }\n",
              "\n",
              "    .dataframe thead th {\n",
              "        text-align: right;\n",
              "    }\n",
              "</style>\n",
              "<table border=\"1\" class=\"dataframe\">\n",
              "  <thead>\n",
              "    <tr style=\"text-align: right;\">\n",
              "      <th></th>\n",
              "      <th>CRIM</th>\n",
              "      <th>ZN</th>\n",
              "      <th>INDUS</th>\n",
              "      <th>CHAS</th>\n",
              "      <th>NOX</th>\n",
              "      <th>RM</th>\n",
              "      <th>AGE</th>\n",
              "      <th>DIS</th>\n",
              "      <th>RAD</th>\n",
              "      <th>TAX</th>\n",
              "      <th>PTRATIO</th>\n",
              "      <th>B</th>\n",
              "      <th>LSTAT</th>\n",
              "    </tr>\n",
              "  </thead>\n",
              "  <tbody>\n",
              "    <tr>\n",
              "      <th>380</th>\n",
              "      <td>88.97620</td>\n",
              "      <td>0.0</td>\n",
              "      <td>18.10</td>\n",
              "      <td>0.0</td>\n",
              "      <td>0.671</td>\n",
              "      <td>6.968</td>\n",
              "      <td>91.9</td>\n",
              "      <td>1.4165</td>\n",
              "      <td>24.0</td>\n",
              "      <td>666.0</td>\n",
              "      <td>20.2</td>\n",
              "      <td>396.90</td>\n",
              "      <td>17.21</td>\n",
              "    </tr>\n",
              "    <tr>\n",
              "      <th>418</th>\n",
              "      <td>73.53410</td>\n",
              "      <td>0.0</td>\n",
              "      <td>18.10</td>\n",
              "      <td>0.0</td>\n",
              "      <td>0.679</td>\n",
              "      <td>5.957</td>\n",
              "      <td>100.0</td>\n",
              "      <td>1.8026</td>\n",
              "      <td>24.0</td>\n",
              "      <td>666.0</td>\n",
              "      <td>20.2</td>\n",
              "      <td>16.45</td>\n",
              "      <td>20.62</td>\n",
              "    </tr>\n",
              "    <tr>\n",
              "      <th>405</th>\n",
              "      <td>67.92080</td>\n",
              "      <td>0.0</td>\n",
              "      <td>18.10</td>\n",
              "      <td>0.0</td>\n",
              "      <td>0.693</td>\n",
              "      <td>5.683</td>\n",
              "      <td>100.0</td>\n",
              "      <td>1.4254</td>\n",
              "      <td>24.0</td>\n",
              "      <td>666.0</td>\n",
              "      <td>20.2</td>\n",
              "      <td>384.97</td>\n",
              "      <td>22.98</td>\n",
              "    </tr>\n",
              "    <tr>\n",
              "      <th>410</th>\n",
              "      <td>51.13580</td>\n",
              "      <td>0.0</td>\n",
              "      <td>18.10</td>\n",
              "      <td>0.0</td>\n",
              "      <td>0.597</td>\n",
              "      <td>5.757</td>\n",
              "      <td>100.0</td>\n",
              "      <td>1.4130</td>\n",
              "      <td>24.0</td>\n",
              "      <td>666.0</td>\n",
              "      <td>20.2</td>\n",
              "      <td>2.60</td>\n",
              "      <td>10.11</td>\n",
              "    </tr>\n",
              "    <tr>\n",
              "      <th>414</th>\n",
              "      <td>45.74610</td>\n",
              "      <td>0.0</td>\n",
              "      <td>18.10</td>\n",
              "      <td>0.0</td>\n",
              "      <td>0.693</td>\n",
              "      <td>4.519</td>\n",
              "      <td>100.0</td>\n",
              "      <td>1.6582</td>\n",
              "      <td>24.0</td>\n",
              "      <td>666.0</td>\n",
              "      <td>20.2</td>\n",
              "      <td>88.27</td>\n",
              "      <td>36.98</td>\n",
              "    </tr>\n",
              "    <tr>\n",
              "      <th>...</th>\n",
              "      <td>...</td>\n",
              "      <td>...</td>\n",
              "      <td>...</td>\n",
              "      <td>...</td>\n",
              "      <td>...</td>\n",
              "      <td>...</td>\n",
              "      <td>...</td>\n",
              "      <td>...</td>\n",
              "      <td>...</td>\n",
              "      <td>...</td>\n",
              "      <td>...</td>\n",
              "      <td>...</td>\n",
              "      <td>...</td>\n",
              "    </tr>\n",
              "    <tr>\n",
              "      <th>55</th>\n",
              "      <td>0.01311</td>\n",
              "      <td>90.0</td>\n",
              "      <td>1.22</td>\n",
              "      <td>0.0</td>\n",
              "      <td>0.403</td>\n",
              "      <td>7.249</td>\n",
              "      <td>21.9</td>\n",
              "      <td>8.6966</td>\n",
              "      <td>5.0</td>\n",
              "      <td>226.0</td>\n",
              "      <td>17.9</td>\n",
              "      <td>395.93</td>\n",
              "      <td>4.81</td>\n",
              "    </tr>\n",
              "    <tr>\n",
              "      <th>341</th>\n",
              "      <td>0.01301</td>\n",
              "      <td>35.0</td>\n",
              "      <td>1.52</td>\n",
              "      <td>0.0</td>\n",
              "      <td>0.442</td>\n",
              "      <td>7.241</td>\n",
              "      <td>49.3</td>\n",
              "      <td>7.0379</td>\n",
              "      <td>1.0</td>\n",
              "      <td>284.0</td>\n",
              "      <td>15.5</td>\n",
              "      <td>394.74</td>\n",
              "      <td>5.49</td>\n",
              "    </tr>\n",
              "    <tr>\n",
              "      <th>285</th>\n",
              "      <td>0.01096</td>\n",
              "      <td>55.0</td>\n",
              "      <td>2.25</td>\n",
              "      <td>0.0</td>\n",
              "      <td>0.389</td>\n",
              "      <td>6.453</td>\n",
              "      <td>31.9</td>\n",
              "      <td>7.3073</td>\n",
              "      <td>1.0</td>\n",
              "      <td>300.0</td>\n",
              "      <td>15.3</td>\n",
              "      <td>394.72</td>\n",
              "      <td>8.23</td>\n",
              "    </tr>\n",
              "    <tr>\n",
              "      <th>284</th>\n",
              "      <td>0.00906</td>\n",
              "      <td>90.0</td>\n",
              "      <td>2.97</td>\n",
              "      <td>0.0</td>\n",
              "      <td>0.400</td>\n",
              "      <td>7.088</td>\n",
              "      <td>20.8</td>\n",
              "      <td>7.3073</td>\n",
              "      <td>1.0</td>\n",
              "      <td>285.0</td>\n",
              "      <td>15.3</td>\n",
              "      <td>394.72</td>\n",
              "      <td>7.85</td>\n",
              "    </tr>\n",
              "    <tr>\n",
              "      <th>0</th>\n",
              "      <td>0.00632</td>\n",
              "      <td>18.0</td>\n",
              "      <td>2.31</td>\n",
              "      <td>0.0</td>\n",
              "      <td>0.538</td>\n",
              "      <td>6.575</td>\n",
              "      <td>65.2</td>\n",
              "      <td>4.0900</td>\n",
              "      <td>1.0</td>\n",
              "      <td>296.0</td>\n",
              "      <td>15.3</td>\n",
              "      <td>396.90</td>\n",
              "      <td>4.98</td>\n",
              "    </tr>\n",
              "  </tbody>\n",
              "</table>\n",
              "<p>506 rows × 13 columns</p>\n",
              "</div>\n",
              "      <button class=\"colab-df-convert\" onclick=\"convertToInteractive('df-a288289d-003e-4dcb-90fa-ffc2aee4ac71')\"\n",
              "              title=\"Convert this dataframe to an interactive table.\"\n",
              "              style=\"display:none;\">\n",
              "        \n",
              "  <svg xmlns=\"http://www.w3.org/2000/svg\" height=\"24px\"viewBox=\"0 0 24 24\"\n",
              "       width=\"24px\">\n",
              "    <path d=\"M0 0h24v24H0V0z\" fill=\"none\"/>\n",
              "    <path d=\"M18.56 5.44l.94 2.06.94-2.06 2.06-.94-2.06-.94-.94-2.06-.94 2.06-2.06.94zm-11 1L8.5 8.5l.94-2.06 2.06-.94-2.06-.94L8.5 2.5l-.94 2.06-2.06.94zm10 10l.94 2.06.94-2.06 2.06-.94-2.06-.94-.94-2.06-.94 2.06-2.06.94z\"/><path d=\"M17.41 7.96l-1.37-1.37c-.4-.4-.92-.59-1.43-.59-.52 0-1.04.2-1.43.59L10.3 9.45l-7.72 7.72c-.78.78-.78 2.05 0 2.83L4 21.41c.39.39.9.59 1.41.59.51 0 1.02-.2 1.41-.59l7.78-7.78 2.81-2.81c.8-.78.8-2.07 0-2.86zM5.41 20L4 18.59l7.72-7.72 1.47 1.35L5.41 20z\"/>\n",
              "  </svg>\n",
              "      </button>\n",
              "      \n",
              "  <style>\n",
              "    .colab-df-container {\n",
              "      display:flex;\n",
              "      flex-wrap:wrap;\n",
              "      gap: 12px;\n",
              "    }\n",
              "\n",
              "    .colab-df-convert {\n",
              "      background-color: #E8F0FE;\n",
              "      border: none;\n",
              "      border-radius: 50%;\n",
              "      cursor: pointer;\n",
              "      display: none;\n",
              "      fill: #1967D2;\n",
              "      height: 32px;\n",
              "      padding: 0 0 0 0;\n",
              "      width: 32px;\n",
              "    }\n",
              "\n",
              "    .colab-df-convert:hover {\n",
              "      background-color: #E2EBFA;\n",
              "      box-shadow: 0px 1px 2px rgba(60, 64, 67, 0.3), 0px 1px 3px 1px rgba(60, 64, 67, 0.15);\n",
              "      fill: #174EA6;\n",
              "    }\n",
              "\n",
              "    [theme=dark] .colab-df-convert {\n",
              "      background-color: #3B4455;\n",
              "      fill: #D2E3FC;\n",
              "    }\n",
              "\n",
              "    [theme=dark] .colab-df-convert:hover {\n",
              "      background-color: #434B5C;\n",
              "      box-shadow: 0px 1px 3px 1px rgba(0, 0, 0, 0.15);\n",
              "      filter: drop-shadow(0px 1px 2px rgba(0, 0, 0, 0.3));\n",
              "      fill: #FFFFFF;\n",
              "    }\n",
              "  </style>\n",
              "\n",
              "      <script>\n",
              "        const buttonEl =\n",
              "          document.querySelector('#df-a288289d-003e-4dcb-90fa-ffc2aee4ac71 button.colab-df-convert');\n",
              "        buttonEl.style.display =\n",
              "          google.colab.kernel.accessAllowed ? 'block' : 'none';\n",
              "\n",
              "        async function convertToInteractive(key) {\n",
              "          const element = document.querySelector('#df-a288289d-003e-4dcb-90fa-ffc2aee4ac71');\n",
              "          const dataTable =\n",
              "            await google.colab.kernel.invokeFunction('convertToInteractive',\n",
              "                                                     [key], {});\n",
              "          if (!dataTable) return;\n",
              "\n",
              "          const docLinkHtml = 'Like what you see? Visit the ' +\n",
              "            '<a target=\"_blank\" href=https://colab.research.google.com/notebooks/data_table.ipynb>data table notebook</a>'\n",
              "            + ' to learn more about interactive tables.';\n",
              "          element.innerHTML = '';\n",
              "          dataTable['output_type'] = 'display_data';\n",
              "          await google.colab.output.renderOutput(dataTable, element);\n",
              "          const docLink = document.createElement('div');\n",
              "          docLink.innerHTML = docLinkHtml;\n",
              "          element.appendChild(docLink);\n",
              "        }\n",
              "      </script>\n",
              "    </div>\n",
              "  </div>\n",
              "  "
            ]
          },
          "metadata": {},
          "execution_count": 151
        }
      ]
    },
    {
      "cell_type": "code",
      "source": [
        "# 정렬된 데이터의 9번째 행을 출력\n",
        "crim10_value = data.iloc[9, 0]\n",
        "print(crim10_value)"
      ],
      "metadata": {
        "colab": {
          "base_uri": "https://localhost:8080/"
        },
        "id": "BOAihfrMPidl",
        "outputId": "a74334b0-c440-4950-adaa-aaf3ddd07897"
      },
      "execution_count": 152,
      "outputs": [
        {
          "output_type": "stream",
          "name": "stdout",
          "text": [
            "25.9406\n"
          ]
        }
      ]
    },
    {
      "cell_type": "code",
      "source": [
        "# 9번째 행의 데이터로 9번까지의 데이터 모두 변경\n",
        "data.iloc[:9, 0] = crim10_value\n",
        "print(data.head(12))"
      ],
      "metadata": {
        "colab": {
          "base_uri": "https://localhost:8080/"
        },
        "id": "t8ZjnFesPifi",
        "outputId": "73e5d65c-de41-425f-dd94-30c50281a593"
      },
      "execution_count": 153,
      "outputs": [
        {
          "output_type": "stream",
          "name": "stdout",
          "text": [
            "        CRIM   ZN  INDUS  CHAS    NOX     RM    AGE     DIS   RAD    TAX  \\\n",
            "380  25.9406  0.0   18.1   0.0  0.671  6.968   91.9  1.4165  24.0  666.0   \n",
            "418  25.9406  0.0   18.1   0.0  0.679  5.957  100.0  1.8026  24.0  666.0   \n",
            "405  25.9406  0.0   18.1   0.0  0.693  5.683  100.0  1.4254  24.0  666.0   \n",
            "410  25.9406  0.0   18.1   0.0  0.597  5.757  100.0  1.4130  24.0  666.0   \n",
            "414  25.9406  0.0   18.1   0.0  0.693  4.519  100.0  1.6582  24.0  666.0   \n",
            "404  25.9406  0.0   18.1   0.0  0.693  5.531   85.4  1.6074  24.0  666.0   \n",
            "398  25.9406  0.0   18.1   0.0  0.693  5.453  100.0  1.4896  24.0  666.0   \n",
            "427  25.9406  0.0   18.1   0.0  0.679  6.202   78.7  1.8629  24.0  666.0   \n",
            "413  25.9406  0.0   18.1   0.0  0.597  5.155  100.0  1.5894  24.0  666.0   \n",
            "417  25.9406  0.0   18.1   0.0  0.679  5.304   89.1  1.6475  24.0  666.0   \n",
            "400  25.0461  0.0   18.1   0.0  0.693  5.987  100.0  1.5888  24.0  666.0   \n",
            "403  24.8017  0.0   18.1   0.0  0.693  5.349   96.0  1.7028  24.0  666.0   \n",
            "\n",
            "     PTRATIO       B  LSTAT  \n",
            "380     20.2  396.90  17.21  \n",
            "418     20.2   16.45  20.62  \n",
            "405     20.2  384.97  22.98  \n",
            "410     20.2    2.60  10.11  \n",
            "414     20.2   88.27  36.98  \n",
            "404     20.2  329.46  27.38  \n",
            "398     20.2  396.90  30.59  \n",
            "427     20.2   18.82  14.52  \n",
            "413     20.2  210.97  20.08  \n",
            "417     20.2  127.36  26.64  \n",
            "400     20.2  396.90  26.77  \n",
            "403     20.2  396.90  19.77  \n"
          ]
        }
      ]
    },
    {
      "cell_type": "code",
      "source": [
        "# AGE가 80 이상인 건물의 RIM 평균 구하기\n",
        "data_80 = data[data['AGE'] >= 80]\n",
        "result = data_80['CRIM'].mean()\n",
        "print(result)"
      ],
      "metadata": {
        "colab": {
          "base_uri": "https://localhost:8080/"
        },
        "id": "H2yCdWMMPihY",
        "outputId": "7d94c6f6-a78c-4155-ab3d-12e35ab706ab"
      },
      "execution_count": 154,
      "outputs": [
        {
          "output_type": "stream",
          "name": "stdout",
          "text": [
            "5.759386625\n"
          ]
        }
      ]
    },
    {
      "cell_type": "code",
      "source": [
        "# 문제 < 202_housing.csv >\n",
        "# 데이터 로딩 \n",
        "housing = pd.read_csv('/content/drive/MyDrive/202_housing.csv', encoding='utf-8')\n",
        "housing.head(10)"
      ],
      "metadata": {
        "colab": {
          "base_uri": "https://localhost:8080/",
          "height": 363
        },
        "id": "dkMq-bQsPije",
        "outputId": "2f0d728b-c587-4db7-d5d9-ba2143fbbe38"
      },
      "execution_count": 159,
      "outputs": [
        {
          "output_type": "execute_result",
          "data": {
            "text/plain": [
              "   longitude  latitude  housing_median_age  total_rooms  total_bedrooms  \\\n",
              "0    -122.23     37.88                41.0        880.0           129.0   \n",
              "1    -122.22     37.86                21.0       7099.0          1106.0   \n",
              "2    -122.24     37.85                52.0       1467.0           190.0   \n",
              "3    -122.25     37.85                52.0       1274.0           235.0   \n",
              "4    -122.25     37.85                52.0       1627.0           280.0   \n",
              "5    -122.25     37.85                52.0        919.0           213.0   \n",
              "6    -122.25     37.84                52.0       2535.0           489.0   \n",
              "7    -122.25     37.84                52.0       3104.0           687.0   \n",
              "8    -122.26     37.84                42.0       2555.0           665.0   \n",
              "9    -122.25     37.84                52.0       3549.0           707.0   \n",
              "\n",
              "   population  households  median_income  median_house_value ocean_proximity  \n",
              "0       322.0       126.0         8.3252            452600.0        NEAR BAY  \n",
              "1      2401.0      1138.0         8.3014            358500.0        NEAR BAY  \n",
              "2       496.0       177.0         7.2574            352100.0        NEAR BAY  \n",
              "3       558.0       219.0         5.6431            341300.0        NEAR BAY  \n",
              "4       565.0       259.0         3.8462            342200.0        NEAR BAY  \n",
              "5       413.0       193.0         4.0368            269700.0        NEAR BAY  \n",
              "6      1094.0       514.0         3.6591            299200.0        NEAR BAY  \n",
              "7      1157.0       647.0         3.1200            241400.0        NEAR BAY  \n",
              "8      1206.0       595.0         2.0804            226700.0        NEAR BAY  \n",
              "9      1551.0       714.0         3.6912            261100.0        NEAR BAY  "
            ],
            "text/html": [
              "\n",
              "  <div id=\"df-f6dd1c92-1362-4573-be47-1005ad980849\">\n",
              "    <div class=\"colab-df-container\">\n",
              "      <div>\n",
              "<style scoped>\n",
              "    .dataframe tbody tr th:only-of-type {\n",
              "        vertical-align: middle;\n",
              "    }\n",
              "\n",
              "    .dataframe tbody tr th {\n",
              "        vertical-align: top;\n",
              "    }\n",
              "\n",
              "    .dataframe thead th {\n",
              "        text-align: right;\n",
              "    }\n",
              "</style>\n",
              "<table border=\"1\" class=\"dataframe\">\n",
              "  <thead>\n",
              "    <tr style=\"text-align: right;\">\n",
              "      <th></th>\n",
              "      <th>longitude</th>\n",
              "      <th>latitude</th>\n",
              "      <th>housing_median_age</th>\n",
              "      <th>total_rooms</th>\n",
              "      <th>total_bedrooms</th>\n",
              "      <th>population</th>\n",
              "      <th>households</th>\n",
              "      <th>median_income</th>\n",
              "      <th>median_house_value</th>\n",
              "      <th>ocean_proximity</th>\n",
              "    </tr>\n",
              "  </thead>\n",
              "  <tbody>\n",
              "    <tr>\n",
              "      <th>0</th>\n",
              "      <td>-122.23</td>\n",
              "      <td>37.88</td>\n",
              "      <td>41.0</td>\n",
              "      <td>880.0</td>\n",
              "      <td>129.0</td>\n",
              "      <td>322.0</td>\n",
              "      <td>126.0</td>\n",
              "      <td>8.3252</td>\n",
              "      <td>452600.0</td>\n",
              "      <td>NEAR BAY</td>\n",
              "    </tr>\n",
              "    <tr>\n",
              "      <th>1</th>\n",
              "      <td>-122.22</td>\n",
              "      <td>37.86</td>\n",
              "      <td>21.0</td>\n",
              "      <td>7099.0</td>\n",
              "      <td>1106.0</td>\n",
              "      <td>2401.0</td>\n",
              "      <td>1138.0</td>\n",
              "      <td>8.3014</td>\n",
              "      <td>358500.0</td>\n",
              "      <td>NEAR BAY</td>\n",
              "    </tr>\n",
              "    <tr>\n",
              "      <th>2</th>\n",
              "      <td>-122.24</td>\n",
              "      <td>37.85</td>\n",
              "      <td>52.0</td>\n",
              "      <td>1467.0</td>\n",
              "      <td>190.0</td>\n",
              "      <td>496.0</td>\n",
              "      <td>177.0</td>\n",
              "      <td>7.2574</td>\n",
              "      <td>352100.0</td>\n",
              "      <td>NEAR BAY</td>\n",
              "    </tr>\n",
              "    <tr>\n",
              "      <th>3</th>\n",
              "      <td>-122.25</td>\n",
              "      <td>37.85</td>\n",
              "      <td>52.0</td>\n",
              "      <td>1274.0</td>\n",
              "      <td>235.0</td>\n",
              "      <td>558.0</td>\n",
              "      <td>219.0</td>\n",
              "      <td>5.6431</td>\n",
              "      <td>341300.0</td>\n",
              "      <td>NEAR BAY</td>\n",
              "    </tr>\n",
              "    <tr>\n",
              "      <th>4</th>\n",
              "      <td>-122.25</td>\n",
              "      <td>37.85</td>\n",
              "      <td>52.0</td>\n",
              "      <td>1627.0</td>\n",
              "      <td>280.0</td>\n",
              "      <td>565.0</td>\n",
              "      <td>259.0</td>\n",
              "      <td>3.8462</td>\n",
              "      <td>342200.0</td>\n",
              "      <td>NEAR BAY</td>\n",
              "    </tr>\n",
              "    <tr>\n",
              "      <th>5</th>\n",
              "      <td>-122.25</td>\n",
              "      <td>37.85</td>\n",
              "      <td>52.0</td>\n",
              "      <td>919.0</td>\n",
              "      <td>213.0</td>\n",
              "      <td>413.0</td>\n",
              "      <td>193.0</td>\n",
              "      <td>4.0368</td>\n",
              "      <td>269700.0</td>\n",
              "      <td>NEAR BAY</td>\n",
              "    </tr>\n",
              "    <tr>\n",
              "      <th>6</th>\n",
              "      <td>-122.25</td>\n",
              "      <td>37.84</td>\n",
              "      <td>52.0</td>\n",
              "      <td>2535.0</td>\n",
              "      <td>489.0</td>\n",
              "      <td>1094.0</td>\n",
              "      <td>514.0</td>\n",
              "      <td>3.6591</td>\n",
              "      <td>299200.0</td>\n",
              "      <td>NEAR BAY</td>\n",
              "    </tr>\n",
              "    <tr>\n",
              "      <th>7</th>\n",
              "      <td>-122.25</td>\n",
              "      <td>37.84</td>\n",
              "      <td>52.0</td>\n",
              "      <td>3104.0</td>\n",
              "      <td>687.0</td>\n",
              "      <td>1157.0</td>\n",
              "      <td>647.0</td>\n",
              "      <td>3.1200</td>\n",
              "      <td>241400.0</td>\n",
              "      <td>NEAR BAY</td>\n",
              "    </tr>\n",
              "    <tr>\n",
              "      <th>8</th>\n",
              "      <td>-122.26</td>\n",
              "      <td>37.84</td>\n",
              "      <td>42.0</td>\n",
              "      <td>2555.0</td>\n",
              "      <td>665.0</td>\n",
              "      <td>1206.0</td>\n",
              "      <td>595.0</td>\n",
              "      <td>2.0804</td>\n",
              "      <td>226700.0</td>\n",
              "      <td>NEAR BAY</td>\n",
              "    </tr>\n",
              "    <tr>\n",
              "      <th>9</th>\n",
              "      <td>-122.25</td>\n",
              "      <td>37.84</td>\n",
              "      <td>52.0</td>\n",
              "      <td>3549.0</td>\n",
              "      <td>707.0</td>\n",
              "      <td>1551.0</td>\n",
              "      <td>714.0</td>\n",
              "      <td>3.6912</td>\n",
              "      <td>261100.0</td>\n",
              "      <td>NEAR BAY</td>\n",
              "    </tr>\n",
              "  </tbody>\n",
              "</table>\n",
              "</div>\n",
              "      <button class=\"colab-df-convert\" onclick=\"convertToInteractive('df-f6dd1c92-1362-4573-be47-1005ad980849')\"\n",
              "              title=\"Convert this dataframe to an interactive table.\"\n",
              "              style=\"display:none;\">\n",
              "        \n",
              "  <svg xmlns=\"http://www.w3.org/2000/svg\" height=\"24px\"viewBox=\"0 0 24 24\"\n",
              "       width=\"24px\">\n",
              "    <path d=\"M0 0h24v24H0V0z\" fill=\"none\"/>\n",
              "    <path d=\"M18.56 5.44l.94 2.06.94-2.06 2.06-.94-2.06-.94-.94-2.06-.94 2.06-2.06.94zm-11 1L8.5 8.5l.94-2.06 2.06-.94-2.06-.94L8.5 2.5l-.94 2.06-2.06.94zm10 10l.94 2.06.94-2.06 2.06-.94-2.06-.94-.94-2.06-.94 2.06-2.06.94z\"/><path d=\"M17.41 7.96l-1.37-1.37c-.4-.4-.92-.59-1.43-.59-.52 0-1.04.2-1.43.59L10.3 9.45l-7.72 7.72c-.78.78-.78 2.05 0 2.83L4 21.41c.39.39.9.59 1.41.59.51 0 1.02-.2 1.41-.59l7.78-7.78 2.81-2.81c.8-.78.8-2.07 0-2.86zM5.41 20L4 18.59l7.72-7.72 1.47 1.35L5.41 20z\"/>\n",
              "  </svg>\n",
              "      </button>\n",
              "      \n",
              "  <style>\n",
              "    .colab-df-container {\n",
              "      display:flex;\n",
              "      flex-wrap:wrap;\n",
              "      gap: 12px;\n",
              "    }\n",
              "\n",
              "    .colab-df-convert {\n",
              "      background-color: #E8F0FE;\n",
              "      border: none;\n",
              "      border-radius: 50%;\n",
              "      cursor: pointer;\n",
              "      display: none;\n",
              "      fill: #1967D2;\n",
              "      height: 32px;\n",
              "      padding: 0 0 0 0;\n",
              "      width: 32px;\n",
              "    }\n",
              "\n",
              "    .colab-df-convert:hover {\n",
              "      background-color: #E2EBFA;\n",
              "      box-shadow: 0px 1px 2px rgba(60, 64, 67, 0.3), 0px 1px 3px 1px rgba(60, 64, 67, 0.15);\n",
              "      fill: #174EA6;\n",
              "    }\n",
              "\n",
              "    [theme=dark] .colab-df-convert {\n",
              "      background-color: #3B4455;\n",
              "      fill: #D2E3FC;\n",
              "    }\n",
              "\n",
              "    [theme=dark] .colab-df-convert:hover {\n",
              "      background-color: #434B5C;\n",
              "      box-shadow: 0px 1px 3px 1px rgba(0, 0, 0, 0.15);\n",
              "      filter: drop-shadow(0px 1px 2px rgba(0, 0, 0, 0.3));\n",
              "      fill: #FFFFFF;\n",
              "    }\n",
              "  </style>\n",
              "\n",
              "      <script>\n",
              "        const buttonEl =\n",
              "          document.querySelector('#df-f6dd1c92-1362-4573-be47-1005ad980849 button.colab-df-convert');\n",
              "        buttonEl.style.display =\n",
              "          google.colab.kernel.accessAllowed ? 'block' : 'none';\n",
              "\n",
              "        async function convertToInteractive(key) {\n",
              "          const element = document.querySelector('#df-f6dd1c92-1362-4573-be47-1005ad980849');\n",
              "          const dataTable =\n",
              "            await google.colab.kernel.invokeFunction('convertToInteractive',\n",
              "                                                     [key], {});\n",
              "          if (!dataTable) return;\n",
              "\n",
              "          const docLinkHtml = 'Like what you see? Visit the ' +\n",
              "            '<a target=\"_blank\" href=https://colab.research.google.com/notebooks/data_table.ipynb>data table notebook</a>'\n",
              "            + ' to learn more about interactive tables.';\n",
              "          element.innerHTML = '';\n",
              "          dataTable['output_type'] = 'display_data';\n",
              "          await google.colab.output.renderOutput(dataTable, element);\n",
              "          const docLink = document.createElement('div');\n",
              "          docLink.innerHTML = docLinkHtml;\n",
              "          element.appendChild(docLink);\n",
              "        }\n",
              "      </script>\n",
              "    </div>\n",
              "  </div>\n",
              "  "
            ]
          },
          "metadata": {},
          "execution_count": 159
        }
      ]
    },
    {
      "cell_type": "code",
      "source": [
        "housing.dtypes"
      ],
      "metadata": {
        "colab": {
          "base_uri": "https://localhost:8080/"
        },
        "id": "E5L9mRZ3bPyO",
        "outputId": "666f25c2-4a05-4c2f-b0da-b3a781d39ae9"
      },
      "execution_count": 160,
      "outputs": [
        {
          "output_type": "execute_result",
          "data": {
            "text/plain": [
              "longitude             float64\n",
              "latitude              float64\n",
              "housing_median_age    float64\n",
              "total_rooms           float64\n",
              "total_bedrooms        float64\n",
              "population            float64\n",
              "households            float64\n",
              "median_income         float64\n",
              "median_house_value    float64\n",
              "ocean_proximity        object\n",
              "dtype: object"
            ]
          },
          "metadata": {},
          "execution_count": 160
        }
      ]
    },
    {
      "cell_type": "code",
      "source": [
        "# 데이터의 'total_bedrooms' 필드만 80% 별도 취합\n",
        "int(housing.shape[0]*0.8)\n",
        "int(len(housing)*0.8)\n",
        "bedrooms = housing['total_bedrooms'][:int(len(housing) * 0.8)]\n",
        "print(bedrooms)"
      ],
      "metadata": {
        "colab": {
          "base_uri": "https://localhost:8080/"
        },
        "id": "mocAwoPxZ_PA",
        "outputId": "c63ddc99-b3f8-49cb-9106-c9d0b3f4b37f"
      },
      "execution_count": 163,
      "outputs": [
        {
          "output_type": "stream",
          "name": "stdout",
          "text": [
            "0         129.0\n",
            "1        1106.0\n",
            "2         190.0\n",
            "3         235.0\n",
            "4         280.0\n",
            "          ...  \n",
            "16507     599.0\n",
            "16508     331.0\n",
            "16509     411.0\n",
            "16510     941.0\n",
            "16511     417.0\n",
            "Name: total_bedrooms, Length: 16512, dtype: float64\n"
          ]
        }
      ]
    },
    {
      "cell_type": "code",
      "source": [
        "# 표준편차를 계산\n",
        "std1 = bedrooms.std()\n",
        "print(std1)"
      ],
      "metadata": {
        "colab": {
          "base_uri": "https://localhost:8080/"
        },
        "id": "fsevoJezX8fA",
        "outputId": "9f610779-3fba-472e-f83f-1c53dad50a5b"
      },
      "execution_count": 164,
      "outputs": [
        {
          "output_type": "stream",
          "name": "stdout",
          "text": [
            "435.90057705252616\n"
          ]
        }
      ]
    },
    {
      "cell_type": "code",
      "source": [
        "# 중위수를 계산\n",
        "med = bedrooms.median()\n",
        "print(med)"
      ],
      "metadata": {
        "colab": {
          "base_uri": "https://localhost:8080/"
        },
        "id": "llievSZbX8gu",
        "outputId": "6c61f4d3-6132-40b7-97f6-f461dc5e0674"
      },
      "execution_count": 165,
      "outputs": [
        {
          "output_type": "stream",
          "name": "stdout",
          "text": [
            "436.0\n"
          ]
        }
      ]
    },
    {
      "cell_type": "code",
      "source": [
        "# 결측값을 중위수로 채우기\n",
        "bedrooms_fill = bedrooms.fillna(med)"
      ],
      "metadata": {
        "id": "6yo6M8zsX8ie"
      },
      "execution_count": 166,
      "outputs": []
    },
    {
      "cell_type": "code",
      "source": [
        "# 채운 후, 표준편차 구하기\n",
        "std2 = bedrooms_fill.std()\n",
        "print(std2)"
      ],
      "metadata": {
        "colab": {
          "base_uri": "https://localhost:8080/"
        },
        "id": "AqGtDXMcX8kP",
        "outputId": "fcd2cf8d-f2e7-4243-d807-ebbc39289d78"
      },
      "execution_count": 167,
      "outputs": [
        {
          "output_type": "stream",
          "name": "stdout",
          "text": [
            "433.9254297608805\n"
          ]
        }
      ]
    },
    {
      "cell_type": "code",
      "source": [
        "# 처음 표준편차를 구한 값과 나중에 결측치를 채운 후의 표준편차 값의 차를 구하기\n",
        "result = abs(std1 - std2)\n",
        "print(result)"
      ],
      "metadata": {
        "colab": {
          "base_uri": "https://localhost:8080/"
        },
        "id": "SLTlqT77X8mF",
        "outputId": "4d11d0c5-444d-436d-fdfc-f2fe86b754b9"
      },
      "execution_count": 168,
      "outputs": [
        {
          "output_type": "stream",
          "name": "stdout",
          "text": [
            "1.9751472916456692\n"
          ]
        }
      ]
    },
    {
      "cell_type": "code",
      "source": [
        "# 데이터를 로딩\n",
        "housing"
      ],
      "metadata": {
        "id": "_ZKwE74DPipF"
      },
      "execution_count": null,
      "outputs": []
    },
    {
      "cell_type": "code",
      "source": [
        "# housing['population'] 에 대하여 평균과 표준편차를 구하기\n",
        "population = housing['population']\n",
        "mean = population.mean()\n",
        "std = population.std()\n",
        "print(\"평균: \", mean)\n",
        "print(\"표준편차: \", std)"
      ],
      "metadata": {
        "colab": {
          "base_uri": "https://localhost:8080/"
        },
        "id": "DwGikcYaPirE",
        "outputId": "f14c4ab6-8461-4de3-e698-8a42555c9ed0"
      },
      "execution_count": 171,
      "outputs": [
        {
          "output_type": "stream",
          "name": "stdout",
          "text": [
            "평균:  1425.4767441860465\n",
            "표준편차:  1132.462121765341\n"
          ]
        }
      ]
    },
    {
      "cell_type": "code",
      "source": [
        "# 이상치의 임계치를 계산  # 보통 IQR * 1.5  # (평균의 표준편차 1.5배수로 고려하라고 문제가 나오기도 함.)\n",
        "lower = mean - (std * 1.5)\n",
        "upper = mean + (std * 1.5)\n",
        "\n",
        "print(\"정상범위 최소값: \", lower)\n",
        "print(\"정상범위 최대값: \", upper)"
      ],
      "metadata": {
        "colab": {
          "base_uri": "https://localhost:8080/"
        },
        "id": "3q12euWfYNuK",
        "outputId": "049d1e16-8a0f-487d-89c1-c06c55e216cb"
      },
      "execution_count": 172,
      "outputs": [
        {
          "output_type": "stream",
          "name": "stdout",
          "text": [
            "정상범위 최소값:  -273.2164384619648\n",
            "정상범위 최대값:  3124.169926834058\n"
          ]
        }
      ]
    },
    {
      "cell_type": "code",
      "source": [
        "# 이상값 데이터를 추출\n",
        "population_outlier = population[(population < lower) | (population > upper)]\n",
        "print(population_outlier)"
      ],
      "metadata": {
        "colab": {
          "base_uri": "https://localhost:8080/"
        },
        "id": "RfyJ2_20YNwW",
        "outputId": "f0edf7cb-f0b5-4306-ce68-349e2be1bbc0"
      },
      "execution_count": 173,
      "outputs": [
        {
          "output_type": "stream",
          "name": "stdout",
          "text": [
            "95       3469.0\n",
            "185      4367.0\n",
            "283      4985.0\n",
            "460      3337.0\n",
            "485      3276.0\n",
            "          ...  \n",
            "20543    3717.0\n",
            "20544    6330.0\n",
            "20563    6837.0\n",
            "20604    3265.0\n",
            "20629    6912.0\n",
            "Name: population, Length: 1207, dtype: float64\n"
          ]
        }
      ]
    },
    {
      "cell_type": "code",
      "source": [
        "# 이상값 데이터의 합계 구하기\n",
        "result = population_outlier.sum()\n",
        "print(result)"
      ],
      "metadata": {
        "colab": {
          "base_uri": "https://localhost:8080/"
        },
        "id": "31b_L3xOYNyL",
        "outputId": "aaca33a6-009a-4547-94f1-97f1eb132c14"
      },
      "execution_count": 174,
      "outputs": [
        {
          "output_type": "stream",
          "name": "stdout",
          "text": [
            "5607295.0\n"
          ]
        }
      ]
    },
    {
      "cell_type": "code",
      "source": [
        "# 신경망의 softmax\n",
        "# out Activation function\n",
        "# 회귀(identity), 이진분류(logistic), 다중분류(softmax)"
      ],
      "metadata": {
        "id": "amdXCiGQYN0B"
      },
      "execution_count": null,
      "outputs": []
    },
    {
      "cell_type": "code",
      "source": [
        "import numpy as np\n",
        "scores = [3.0, 1.0, 0.2]  # 3개로 분류\n",
        "def softmax(x):\n",
        "  return np.exp(x) / np.sum(np.exp(x), axis = 0)  # 모든 클래스의 지수 함수의 합을 각 클래스의 확률로 정규화"
      ],
      "metadata": {
        "id": "rFs5oMhiYN13"
      },
      "execution_count": 176,
      "outputs": []
    },
    {
      "cell_type": "code",
      "source": [
        "print(softmax(scores))  # 각 클래스에 대한 확률"
      ],
      "metadata": {
        "colab": {
          "base_uri": "https://localhost:8080/"
        },
        "id": "zSPOAykTYN3r",
        "outputId": "878c040f-f270-4c1d-99b8-5e3831f12682"
      },
      "execution_count": 177,
      "outputs": [
        {
          "output_type": "stream",
          "name": "stdout",
          "text": [
            "[0.8360188  0.11314284 0.05083836]\n"
          ]
        }
      ]
    },
    {
      "cell_type": "code",
      "source": [
        "sum(softmax(scores))"
      ],
      "metadata": {
        "colab": {
          "base_uri": "https://localhost:8080/"
        },
        "id": "_vx7V_g_YN8E",
        "outputId": "ff3181a1-0f95-4b47-a471-e815ba1079f5"
      },
      "execution_count": 178,
      "outputs": [
        {
          "output_type": "execute_result",
          "data": {
            "text/plain": [
              "0.9999999999999999"
            ]
          },
          "metadata": {},
          "execution_count": 178
        }
      ]
    },
    {
      "cell_type": "code",
      "source": [
        "# np.maximum(line, 0) : relu 함수 (입력값이 음수면 0, 양수면 그 값을 그대로 출력)\n",
        "# Activation function : 비선형 매핑 용도로 사용됨\n",
        "# 내적하는 연산 node마다 activation function을 작동하게 함 -> 비선형으로 매핑\n",
        "line = np.linspace(-3, 3, 100)  # -3부터 3까지의 구간을 100등분\n",
        "plt.plot(line, np.tanh(line), label='tanh')  # tanh : [-1 ~ 1] 사이의 값\n",
        "plt.plot(line, np.maximum(line, 0), linestyle = '--', label = 'relu')  # relu 함수 그래프를 점선 스타일('--')로 지정\n",
        "plt.legend(loc = 'best')  # 최적의 위치(best)에 범례를 표시 \n",
        "plt.xlabel('x')\n",
        "plt.ylabel('relu(x), tanh(x)')\n",
        "print(np.tanh(-100))  # -1 ~ 1 : sigmoid 확률값으로 매핑 (0 ~ 1값)\n",
        "print(np.tanh(-1000000))"
      ],
      "metadata": {
        "colab": {
          "base_uri": "https://localhost:8080/",
          "height": 506
        },
        "id": "5eUDlmdfetcZ",
        "outputId": "61549d63-f245-4f1d-ed78-2ad4fb2ab0f0"
      },
      "execution_count": 179,
      "outputs": [
        {
          "output_type": "stream",
          "name": "stdout",
          "text": [
            "-1.0\n",
            "-1.0\n"
          ]
        },
        {
          "output_type": "display_data",
          "data": {
            "text/plain": [
              "<Figure size 640x480 with 1 Axes>"
            ],
            "image/png": "[encoded data removed]"
          },
          "metadata": {}
        }
      ]
    },
    {
      "cell_type": "code",
      "source": [
        "# sigmoid 함수 : (0 ~ 1 사이의 값) (비선형 함수)\n",
        "def sigmoid(inputs):\n",
        "  sigmoid_scores = [1 / float(1 + np.exp(-x)) for x in inputs]  # sigmoid 함수의 수식 (주어진 입력값을 0~1 사이 값으로 변환)\n",
        "  return sigmoid_scores\n",
        "sigmoid_inputs = [-200, 3, 5, 6, 10, 100]\n",
        "sigmoid(sigmoid_inputs)"
      ],
      "metadata": {
        "colab": {
          "base_uri": "https://localhost:8080/"
        },
        "id": "xzq1QOdOeteo",
        "outputId": "cf1c391d-d6bd-47cb-ac99-116bb363059a"
      },
      "execution_count": 181,
      "outputs": [
        {
          "output_type": "execute_result",
          "data": {
            "text/plain": [
              "[1.3838965267367376e-87,\n",
              " 0.9525741268224334,\n",
              " 0.9933071490757153,\n",
              " 0.9975273768433653,\n",
              " 0.9999546021312976,\n",
              " 1.0]"
            ]
          },
          "metadata": {},
          "execution_count": 181
        }
      ]
    }
  ]
}