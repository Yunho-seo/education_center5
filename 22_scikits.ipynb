{
  "nbformat": 4,
  "nbformat_minor": 0,
  "metadata": {
    "colab": {
      "provenance": [],
      "mount_file_id": "1i3oe7VnL5E_dcF0kVqYYViuMdMI5rPPO",
      "authorship_tag": "ABX9TyOZqYfXPPSL9SZ0n6B+4cRQ",
      "include_colab_link": true
    },
    "kernelspec": {
      "name": "python3",
      "display_name": "Python 3"
    },
    "language_info": {
      "name": "python"
    }
  },
  "cells": [
    {
      "cell_type": "markdown",
      "metadata": {
        "id": "view-in-github",
        "colab_type": "text"
      },
      "source": [
        "<a href=\"https://colab.research.google.com/github/Yunho-seo/education_center5/blob/main/22_scikits.ipynb\" target=\"_parent\"><img src=\"https://colab.research.google.com/assets/colab-badge.svg\" alt=\"Open In Colab\"/></a>"
      ]
    },
    {
      "cell_type": "markdown",
      "source": [
        "# 선형회귀의 과적합을 방지하는 규제\n",
        "  - Optimazation 최적화 => 과적합\n",
        "# Regularization (규제가 필요)\n",
        "# Lasso : L1 규제 (차)\n",
        "# Ridge : L2 규제 (차의 제곱)\n",
        "# ElasticNet : 두개를 사용(L1, L2)\n",
        "# CV : cross validation\n",
        "- 데이터를 일정한 사이트로 분할\n",
        "- 모두가 train과 validation에 참여하여 가장 적절한 parameter를 결정"
      ],
      "metadata": {
        "id": "fFq7JXHOUcP_"
      }
    },
    {
      "cell_type": "code",
      "execution_count": null,
      "metadata": {
        "id": "MjHTeghHD1Aw",
        "colab": {
          "base_uri": "https://localhost:8080/"
        },
        "outputId": "8de2b643-27e1-4390-fc32-2d7dcff52cab"
      },
      "outputs": [
        {
          "output_type": "execute_result",
          "data": {
            "text/plain": [
              "(442, 10)"
            ]
          },
          "metadata": {},
          "execution_count": 3
        }
      ],
      "source": [
        "import matplotlib.pyplot as plt\n",
        "import numpy as np\n",
        "from sklearn import datasets, linear_model\n",
        "from sklearn.metrics import mean_squared_error, r2_score\n",
        "from sklearn.model_selection import train_test_split\n",
        "\n",
        "diabetes_X, diabetes_y = datasets.load_diabetes(return_X_y = True)\n",
        "diabetes_X.shape"
      ]
    },
    {
      "cell_type": "code",
      "source": [
        "type(diabetes_y)\n",
        "np.unique(diabetes_y)"
      ],
      "metadata": {
        "colab": {
          "base_uri": "https://localhost:8080/"
        },
        "id": "4jPQp0DVSWY_",
        "outputId": "b00bb0ee-6b7d-47c5-bb75-975f43bbc4b6"
      },
      "execution_count": null,
      "outputs": [
        {
          "output_type": "execute_result",
          "data": {
            "text/plain": [
              "array([ 25.,  31.,  37.,  39.,  40.,  42.,  43.,  44.,  45.,  47.,  48.,\n",
              "        49.,  50.,  51.,  52.,  53.,  54.,  55.,  57.,  58.,  59.,  60.,\n",
              "        61.,  63.,  64.,  65.,  66.,  67.,  68.,  69.,  70.,  71.,  72.,\n",
              "        73.,  74.,  75.,  77.,  78.,  79.,  80.,  81.,  83.,  84.,  85.,\n",
              "        86.,  87.,  88.,  89.,  90.,  91.,  92.,  93.,  94.,  95.,  96.,\n",
              "        97.,  98.,  99., 100., 101., 102., 103., 104., 107., 108., 109.,\n",
              "       110., 111., 113., 114., 115., 116., 118., 120., 121., 122., 123.,\n",
              "       124., 125., 126., 127., 128., 129., 131., 132., 134., 135., 136.,\n",
              "       137., 138., 139., 140., 141., 142., 143., 144., 145., 146., 147.,\n",
              "       148., 150., 151., 152., 153., 154., 155., 156., 158., 160., 161.,\n",
              "       162., 163., 164., 166., 167., 168., 170., 171., 172., 173., 174.,\n",
              "       175., 177., 178., 179., 180., 181., 182., 183., 184., 185., 186.,\n",
              "       187., 189., 190., 191., 192., 195., 196., 197., 198., 199., 200.,\n",
              "       201., 202., 206., 208., 209., 210., 212., 214., 215., 216., 217.,\n",
              "       219., 220., 221., 222., 225., 229., 230., 232., 233., 235., 236.,\n",
              "       237., 241., 242., 243., 244., 245., 246., 248., 249., 252., 253.,\n",
              "       257., 258., 259., 261., 262., 263., 264., 265., 268., 270., 272.,\n",
              "       273., 274., 275., 276., 277., 279., 280., 281., 283., 288., 292.,\n",
              "       293., 295., 296., 297., 302., 303., 306., 308., 310., 311., 317.,\n",
              "       321., 332., 336., 341., 346.])"
            ]
          },
          "metadata": {},
          "execution_count": 4
        }
      ]
    },
    {
      "cell_type": "code",
      "source": [
        "X_train, X_test, y_train, y_test = train_test_split(\n",
        "    diabetes_X, diabetes_y, random_state = 0)\n",
        "\n",
        "regr = linear_model.LinearRegression()  # 디폴트 값에 주의 : - 상태\n",
        "\n",
        "regr.fit(X_train, y_train)  # 적합, 학습\n",
        "diabetes_y_pred = regr.predict(X_test)\n",
        "\n",
        "print(\"Coefficients: \\n\", regr.coef_)  # 기울기\n",
        "print(\"Mean squared error: %.2f\" % mean_squared_error(y_test, diabetes_y_pred))\n",
        "print(\"결정계수: %.2f\" % r2_score(y_test, diabetes_y_pred))  # 예측값과 실제 값으로 계수 구하기"
      ],
      "metadata": {
        "colab": {
          "base_uri": "https://localhost:8080/"
        },
        "id": "NT7FLTDDScKI",
        "outputId": "1a4f412c-92a7-41f1-93ef-6140ea0e7ab0"
      },
      "execution_count": null,
      "outputs": [
        {
          "output_type": "stream",
          "name": "stdout",
          "text": [
            "Coefficients: \n",
            " [ -43.26198867 -208.66589855  593.40654802  302.89100542 -560.19094014\n",
            "  261.40753499   -8.86674758  135.93174293  703.18354112   28.34977176]\n",
            "Mean squared error: 3180.16\n",
            "결정계수: 0.36\n"
          ]
        }
      ]
    },
    {
      "cell_type": "code",
      "source": [
        "X_test.shape"
      ],
      "metadata": {
        "colab": {
          "base_uri": "https://localhost:8080/"
        },
        "id": "y0bNrDFqa5_X",
        "outputId": "b286a55b-e985-4ea9-a6b8-77a747d84f4c"
      },
      "execution_count": null,
      "outputs": [
        {
          "output_type": "execute_result",
          "data": {
            "text/plain": [
              "(111, 10)"
            ]
          },
          "metadata": {},
          "execution_count": 12
        }
      ]
    },
    {
      "cell_type": "code",
      "source": [
        "import matplotlib.pyplot as plt\n",
        "# X_test : ndarray이다.\n",
        "# plt.scatter(X_test[:, 1], y_test, color=\"black\")\n",
        "plt.plot(X_test[:, 3], diabetes_y_pred, color=\"blue\", linewidth=3)\n",
        "\n",
        "plt.xticks()\n",
        "plt.yticks()"
      ],
      "metadata": {
        "colab": {
          "base_uri": "https://localhost:8080/",
          "height": 569
        },
        "id": "0wgtccvNSWbG",
        "outputId": "a3d7ccf8-d3cd-4fa0-e7f2-ae9cbdf63e0c"
      },
      "execution_count": null,
      "outputs": [
        {
          "output_type": "execute_result",
          "data": {
            "text/plain": [
              "(array([  0.,  50., 100., 150., 200., 250., 300.]),\n",
              " [Text(0, 0.0, '0'),\n",
              "  Text(0, 50.0, '50'),\n",
              "  Text(0, 100.0, '100'),\n",
              "  Text(0, 150.0, '150'),\n",
              "  Text(0, 200.0, '200'),\n",
              "  Text(0, 250.0, '250'),\n",
              "  Text(0, 300.0, '300')])"
            ]
          },
          "metadata": {},
          "execution_count": 28
        },
        {
          "output_type": "display_data",
          "data": {
            "text/plain": [
              "<Figure size 640x480 with 1 Axes>"
            ],
            "image/png": "[encoded data removed]"
          },
          "metadata": {}
        }
      ]
    },
    {
      "cell_type": "code",
      "source": [
        "# 비선형회귀\n",
        "\n",
        "x = np.array([0.0, 1.0, 2.0, 3.0, 4.0, 5.0])\n",
        "y = np.array([0.0, 0.8, 0.9, 0.1, -0.8, -1.0])\n",
        "z = np.polyfit(x, y, 3)  # 3차원(3차 방정식)으로 추상화\n",
        "z  # 3차, 2차, 1차, 절편 순서로 출력"
      ],
      "metadata": {
        "colab": {
          "base_uri": "https://localhost:8080/"
        },
        "id": "5_V3M5izSWdW",
        "outputId": "4a48e95d-5348-4441-e179-fe5c81c6aa5c"
      },
      "execution_count": null,
      "outputs": [
        {
          "output_type": "execute_result",
          "data": {
            "text/plain": [
              "array([ 0.08703704, -0.81349206,  1.69312169, -0.03968254])"
            ]
          },
          "metadata": {},
          "execution_count": 29
        }
      ]
    },
    {
      "cell_type": "code",
      "source": [
        "from sklearn.preprocessing import PolynomialFeatures\n",
        "X = np.arange(6).reshape(3, 2)  # 3x2\n",
        "X\n",
        "\n",
        "# [1, a, b, a^2, ab, b^2]\n",
        "poly = PolynomialFeatures(2)  # 3x2 데이터를 2차원으로 인스턴스하고\n",
        "poly.fit_transform(X)  # 특징 추출하니 3x6 데이터(행렬)로 바뀌어짐"
      ],
      "metadata": {
        "colab": {
          "base_uri": "https://localhost:8080/"
        },
        "id": "DJ9Q_xkXSWfI",
        "outputId": "f528cf01-92d7-48bf-e17a-61ecf5f1349c"
      },
      "execution_count": null,
      "outputs": [
        {
          "output_type": "execute_result",
          "data": {
            "text/plain": [
              "array([[ 1.,  0.,  1.,  0.,  0.,  1.],\n",
              "       [ 1.,  2.,  3.,  4.,  6.,  9.],\n",
              "       [ 1.,  4.,  5., 16., 20., 25.]])"
            ]
          },
          "metadata": {},
          "execution_count": 30
        }
      ]
    },
    {
      "cell_type": "code",
      "source": [
        "from sklearn.linear_model import Ridge  # Ridge는 L2 규제를 사용\n",
        "from sklearn.preprocessing import PolynomialFeatures\n",
        "from sklearn.pipeline import make_pipeline  # make_pipeline : 연속된 처리를 하나의 단위로 묶어줄 때 사용\n",
        "def f(x):\n",
        "  return x * np.sin(x)"
      ],
      "metadata": {
        "id": "QdF-rc4oSWhG"
      },
      "execution_count": null,
      "outputs": []
    },
    {
      "cell_type": "code",
      "source": [
        "x_plot = np.linspace(0, 10, 100)\n",
        "x = np.linspace(0, 10, 100)  # 0에서 10까지 100개 만들기\n",
        "rng = np.random.RandomState(0)\n",
        "rng.shuffle(x)\n",
        "x = np.sort(x[:20])\n",
        "y = f(x)"
      ],
      "metadata": {
        "id": "yNT12DXngV6K"
      },
      "execution_count": null,
      "outputs": []
    },
    {
      "cell_type": "code",
      "source": [
        "# 열을 행으로 변경\n",
        "X = x[:, np.newaxis]  # 축의 추가 : 모델의 입력은 2차원 데이터여야 한다.\n",
        "X_plot = x_plot[:, np.newaxis]  # 평가 데이터 (평가 데이터도 2차원이여야 함)\n",
        "colors = ['teal', 'yellowgreen', 'gold']\n",
        "lw = 2\n",
        "plt.plot(x_plot, f(x_plot), color='cornflowerblue', linewidth=lw,\n",
        "         label='ground truth')\n",
        "plt.scatter(x, y, color='navy', s=30, marker='o', label='training points')\n",
        "for count, degree in enumerate([3, 4, 5]):  # 3차원, 4차원, 5차원으로 비선형회귀 \n",
        "  model = make_pipeline(PolynomialFeatures(degree), Ridge())  # degree에 3, 4, 5가 들어가고 Ridge()를 실행 \n",
        "  # pipeline의 마지막은 model(모델)이 있어야 함\n",
        "  model.fit(X, y)  # 3번을 학습 / model.fit() : Ridge()의 모델 / fit()를 pipeline에 적용\n",
        "  y_plot = model.predict(X_plot)\n",
        "  plt.plot(x_plot, y_plot, color=colors[count], linewidth=lw,\n",
        "           label='degree %d' % degree)\n",
        "plt.legend(loc='lower left')\n",
        "plt.show()"
      ],
      "metadata": {
        "colab": {
          "base_uri": "https://localhost:8080/",
          "height": 430
        },
        "id": "yF-inocMSWjG",
        "outputId": "0445f480-7e64-48e6-a6e2-658c92c74804"
      },
      "execution_count": null,
      "outputs": [
        {
          "output_type": "display_data",
          "data": {
            "text/plain": [
              "<Figure size 640x480 with 1 Axes>"
            ],
            "image/png": "[encoded data removed]"
          },
          "metadata": {}
        }
      ]
    },
    {
      "cell_type": "code",
      "source": [
        "model = make_pipeline(PolynomialFeatures(3), Ridge())\n",
        "model.fit(X, y)\n",
        "y_plot = model.predict(X_plot)"
      ],
      "metadata": {
        "id": "FYRkf6fnkHbx"
      },
      "execution_count": null,
      "outputs": []
    },
    {
      "cell_type": "code",
      "source": [
        "plt.plot(x_plot, y_plot, color=colors[0], linewidth=lw,\n",
        "         label='degree %d' % degree)"
      ],
      "metadata": {
        "colab": {
          "base_uri": "https://localhost:8080/",
          "height": 447
        },
        "id": "XO4kZ_56SWnG",
        "outputId": "536ffec7-5e3f-4793-bfe9-ed45b64ebd93"
      },
      "execution_count": null,
      "outputs": [
        {
          "output_type": "execute_result",
          "data": {
            "text/plain": [
              "[<matplotlib.lines.Line2D at 0x7f2e1043a0e0>]"
            ]
          },
          "metadata": {},
          "execution_count": 39
        },
        {
          "output_type": "display_data",
          "data": {
            "text/plain": [
              "<Figure size 640x480 with 1 Axes>"
            ],
            "image/png": "[encoded data removed]"
          },
          "metadata": {}
        }
      ]
    },
    {
      "cell_type": "code",
      "source": [
        "# 문제\n",
        "X = [[0, 0], [1, 1], [2, 2]]\n",
        "y = [0, 1, 2]\n",
        "# 위의 데이터를 이용하여 선형회귀를 실시\n",
        "# 기울기와 절편 확인\n",
        "# 수식을 생성"
      ],
      "metadata": {
        "id": "WjtTsAN3SWpG"
      },
      "execution_count": null,
      "outputs": []
    },
    {
      "cell_type": "code",
      "source": [
        "reg = linear_model.LinearRegression()  # 선형회귀 모델 객체를 생성\n",
        "reg.fit(X, y)  # 생성한 선형회귀 모델 reg에 데이터를 적합시키는 역할 / X는 독립 변수, y는 종속 변수\n",
        "reg.coef_  #  모델에서 계수 또는 가중치를 나타냄"
      ],
      "metadata": {
        "colab": {
          "base_uri": "https://localhost:8080/"
        },
        "id": "Jv3xz6L3SWrO",
        "outputId": "1f582db9-c4e6-4027-9a8d-ef75b50c216b"
      },
      "execution_count": null,
      "outputs": [
        {
          "output_type": "execute_result",
          "data": {
            "text/plain": [
              "array([0.5, 0.5])"
            ]
          },
          "metadata": {},
          "execution_count": 44
        }
      ]
    },
    {
      "cell_type": "code",
      "source": [
        "reg.intercept_  # 선형회귀 모델의 절편"
      ],
      "metadata": {
        "colab": {
          "base_uri": "https://localhost:8080/"
        },
        "id": "e-toUVtWSWtW",
        "outputId": "928d2916-2341-4a07-f855-f84c0c110325"
      },
      "execution_count": null,
      "outputs": [
        {
          "output_type": "execute_result",
          "data": {
            "text/plain": [
              "1.1102230246251565e-16"
            ]
          },
          "metadata": {},
          "execution_count": 45
        }
      ]
    },
    {
      "cell_type": "code",
      "source": [
        "# x1과 x2가 0일 때 종속변수 y의 예측값 계산\n",
        "x1 = 0\n",
        "x2 = 0\n",
        "# reg.coef_[0] : 첫번째 독립변수의 가중치\n",
        "# reg.coef_[1] : 두번째 독립변수의 가중치\n",
        "# reg.intercept_ : 절편값\n",
        "y = reg.coef_[0] * x1 + reg.coef_[1] * x2 + reg.intercept_  # 선형회귀 모델의 방정식\n",
        "y"
      ],
      "metadata": {
        "colab": {
          "base_uri": "https://localhost:8080/"
        },
        "id": "aLR5fXEPSWvO",
        "outputId": "15c5b23d-6a25-4337-b8b0-78debd7299ea"
      },
      "execution_count": null,
      "outputs": [
        {
          "output_type": "execute_result",
          "data": {
            "text/plain": [
              "1.1102230246251565e-16"
            ]
          },
          "metadata": {},
          "execution_count": 46
        }
      ]
    },
    {
      "cell_type": "code",
      "source": [
        "# 선형회귀 모델을 구현\n",
        "from sklearn.datasets import fetch_california_housing\n",
        "import matplotlib.pyplot as plt\n",
        "import pandas as pd\n",
        "california = fetch_california_housing()\n",
        "type(california)  # Bunch는 dictionary로 생성된다."
      ],
      "metadata": {
        "colab": {
          "base_uri": "https://localhost:8080/"
        },
        "id": "z2ARuMLPSWxO",
        "outputId": "3f3a568a-ca08-4f87-bcee-f5ecfb81215b"
      },
      "execution_count": null,
      "outputs": [
        {
          "output_type": "execute_result",
          "data": {
            "text/plain": [
              "sklearn.utils._bunch.Bunch"
            ]
          },
          "metadata": {},
          "execution_count": 47
        }
      ]
    },
    {
      "cell_type": "code",
      "source": [
        "california.feature_names"
      ],
      "metadata": {
        "colab": {
          "base_uri": "https://localhost:8080/"
        },
        "id": "zeh1FgDZSW5m",
        "outputId": "da719628-58ec-412e-af68-5064a6fd382f"
      },
      "execution_count": null,
      "outputs": [
        {
          "output_type": "execute_result",
          "data": {
            "text/plain": [
              "['MedInc',\n",
              " 'HouseAge',\n",
              " 'AveRooms',\n",
              " 'AveBedrms',\n",
              " 'Population',\n",
              " 'AveOccup',\n",
              " 'Latitude',\n",
              " 'Longitude']"
            ]
          },
          "metadata": {},
          "execution_count": 51
        }
      ]
    },
    {
      "cell_type": "code",
      "source": [
        "# 데이터셋을 데이터프레임으로 변환\n",
        "dfX = pd.DataFrame(california.data, columns=california.feature_names)\n",
        "dfy = pd.DataFrame(california.target, columns=['price'])\n",
        "print(dfX.head())\n",
        "dfy.head()"
      ],
      "metadata": {
        "colab": {
          "base_uri": "https://localhost:8080/",
          "height": 432
        },
        "id": "MzzWzdU_SW9p",
        "outputId": "e007cd66-2b82-4aca-cd3d-72f978023d01"
      },
      "execution_count": null,
      "outputs": [
        {
          "output_type": "stream",
          "name": "stdout",
          "text": [
            "   MedInc  HouseAge  AveRooms  AveBedrms  Population  AveOccup  Latitude  \\\n",
            "0  8.3252      41.0  6.984127   1.023810       322.0  2.555556     37.88   \n",
            "1  8.3014      21.0  6.238137   0.971880      2401.0  2.109842     37.86   \n",
            "2  7.2574      52.0  8.288136   1.073446       496.0  2.802260     37.85   \n",
            "3  5.6431      52.0  5.817352   1.073059       558.0  2.547945     37.85   \n",
            "4  3.8462      52.0  6.281853   1.081081       565.0  2.181467     37.85   \n",
            "\n",
            "   Longitude  \n",
            "0    -122.23  \n",
            "1    -122.22  \n",
            "2    -122.24  \n",
            "3    -122.25  \n",
            "4    -122.25  \n"
          ]
        },
        {
          "output_type": "execute_result",
          "data": {
            "text/plain": [
              "   price\n",
              "0  4.526\n",
              "1  3.585\n",
              "2  3.521\n",
              "3  3.413\n",
              "4  3.422"
            ],
            "text/html": [
              "\n",
              "  <div id=\"df-45487d65-8f65-47bd-83df-fa219a8855f0\">\n",
              "    <div class=\"colab-df-container\">\n",
              "      <div>\n",
              "<style scoped>\n",
              "    .dataframe tbody tr th:only-of-type {\n",
              "        vertical-align: middle;\n",
              "    }\n",
              "\n",
              "    .dataframe tbody tr th {\n",
              "        vertical-align: top;\n",
              "    }\n",
              "\n",
              "    .dataframe thead th {\n",
              "        text-align: right;\n",
              "    }\n",
              "</style>\n",
              "<table border=\"1\" class=\"dataframe\">\n",
              "  <thead>\n",
              "    <tr style=\"text-align: right;\">\n",
              "      <th></th>\n",
              "      <th>price</th>\n",
              "    </tr>\n",
              "  </thead>\n",
              "  <tbody>\n",
              "    <tr>\n",
              "      <th>0</th>\n",
              "      <td>4.526</td>\n",
              "    </tr>\n",
              "    <tr>\n",
              "      <th>1</th>\n",
              "      <td>3.585</td>\n",
              "    </tr>\n",
              "    <tr>\n",
              "      <th>2</th>\n",
              "      <td>3.521</td>\n",
              "    </tr>\n",
              "    <tr>\n",
              "      <th>3</th>\n",
              "      <td>3.413</td>\n",
              "    </tr>\n",
              "    <tr>\n",
              "      <th>4</th>\n",
              "      <td>3.422</td>\n",
              "    </tr>\n",
              "  </tbody>\n",
              "</table>\n",
              "</div>\n",
              "      <button class=\"colab-df-convert\" onclick=\"convertToInteractive('df-45487d65-8f65-47bd-83df-fa219a8855f0')\"\n",
              "              title=\"Convert this dataframe to an interactive table.\"\n",
              "              style=\"display:none;\">\n",
              "        \n",
              "  <svg xmlns=\"http://www.w3.org/2000/svg\" height=\"24px\"viewBox=\"0 0 24 24\"\n",
              "       width=\"24px\">\n",
              "    <path d=\"M0 0h24v24H0V0z\" fill=\"none\"/>\n",
              "    <path d=\"M18.56 5.44l.94 2.06.94-2.06 2.06-.94-2.06-.94-.94-2.06-.94 2.06-2.06.94zm-11 1L8.5 8.5l.94-2.06 2.06-.94-2.06-.94L8.5 2.5l-.94 2.06-2.06.94zm10 10l.94 2.06.94-2.06 2.06-.94-2.06-.94-.94-2.06-.94 2.06-2.06.94z\"/><path d=\"M17.41 7.96l-1.37-1.37c-.4-.4-.92-.59-1.43-.59-.52 0-1.04.2-1.43.59L10.3 9.45l-7.72 7.72c-.78.78-.78 2.05 0 2.83L4 21.41c.39.39.9.59 1.41.59.51 0 1.02-.2 1.41-.59l7.78-7.78 2.81-2.81c.8-.78.8-2.07 0-2.86zM5.41 20L4 18.59l7.72-7.72 1.47 1.35L5.41 20z\"/>\n",
              "  </svg>\n",
              "      </button>\n",
              "      \n",
              "  <style>\n",
              "    .colab-df-container {\n",
              "      display:flex;\n",
              "      flex-wrap:wrap;\n",
              "      gap: 12px;\n",
              "    }\n",
              "\n",
              "    .colab-df-convert {\n",
              "      background-color: #E8F0FE;\n",
              "      border: none;\n",
              "      border-radius: 50%;\n",
              "      cursor: pointer;\n",
              "      display: none;\n",
              "      fill: #1967D2;\n",
              "      height: 32px;\n",
              "      padding: 0 0 0 0;\n",
              "      width: 32px;\n",
              "    }\n",
              "\n",
              "    .colab-df-convert:hover {\n",
              "      background-color: #E2EBFA;\n",
              "      box-shadow: 0px 1px 2px rgba(60, 64, 67, 0.3), 0px 1px 3px 1px rgba(60, 64, 67, 0.15);\n",
              "      fill: #174EA6;\n",
              "    }\n",
              "\n",
              "    [theme=dark] .colab-df-convert {\n",
              "      background-color: #3B4455;\n",
              "      fill: #D2E3FC;\n",
              "    }\n",
              "\n",
              "    [theme=dark] .colab-df-convert:hover {\n",
              "      background-color: #434B5C;\n",
              "      box-shadow: 0px 1px 3px 1px rgba(0, 0, 0, 0.15);\n",
              "      filter: drop-shadow(0px 1px 2px rgba(0, 0, 0, 0.3));\n",
              "      fill: #FFFFFF;\n",
              "    }\n",
              "  </style>\n",
              "\n",
              "      <script>\n",
              "        const buttonEl =\n",
              "          document.querySelector('#df-45487d65-8f65-47bd-83df-fa219a8855f0 button.colab-df-convert');\n",
              "        buttonEl.style.display =\n",
              "          google.colab.kernel.accessAllowed ? 'block' : 'none';\n",
              "\n",
              "        async function convertToInteractive(key) {\n",
              "          const element = document.querySelector('#df-45487d65-8f65-47bd-83df-fa219a8855f0');\n",
              "          const dataTable =\n",
              "            await google.colab.kernel.invokeFunction('convertToInteractive',\n",
              "                                                     [key], {});\n",
              "          if (!dataTable) return;\n",
              "\n",
              "          const docLinkHtml = 'Like what you see? Visit the ' +\n",
              "            '<a target=\"_blank\" href=https://colab.research.google.com/notebooks/data_table.ipynb>data table notebook</a>'\n",
              "            + ' to learn more about interactive tables.';\n",
              "          element.innerHTML = '';\n",
              "          dataTable['output_type'] = 'display_data';\n",
              "          await google.colab.output.renderOutput(dataTable, element);\n",
              "          const docLink = document.createElement('div');\n",
              "          docLink.innerHTML = docLinkHtml;\n",
              "          element.appendChild(docLink);\n",
              "        }\n",
              "      </script>\n",
              "    </div>\n",
              "  </div>\n",
              "  "
            ]
          },
          "metadata": {},
          "execution_count": 52
        }
      ]
    },
    {
      "cell_type": "code",
      "source": [
        "dfX.shape  # 20640개 데이터"
      ],
      "metadata": {
        "colab": {
          "base_uri": "https://localhost:8080/"
        },
        "id": "2Z9PTkgFSW_1",
        "outputId": "f3e63943-804d-40f3-8c8c-09ea71628e85"
      },
      "execution_count": null,
      "outputs": [
        {
          "output_type": "execute_result",
          "data": {
            "text/plain": [
              "(20640, 8)"
            ]
          },
          "metadata": {},
          "execution_count": 54
        }
      ]
    },
    {
      "cell_type": "code",
      "source": [
        "from sklearn.linear_model import LinearRegression\n",
        "\n",
        "model_california = LinearRegression().fit(california.data, california.target)  # fit()으로 모델 훈련"
      ],
      "metadata": {
        "id": "HJYNTxcvSXB_"
      },
      "execution_count": null,
      "outputs": []
    },
    {
      "cell_type": "code",
      "source": [
        "# 주택 가격을 예측하고, 실제 값과 예측 값 사이의 산점도\n",
        "predictions = model_california.predict(california.data)\n",
        "\n",
        "plt.scatter(california.target, predictions)\n",
        "plt.xlabel(u'real ')\n",
        "plt.ylabel(u'predict ')\n",
        "\n",
        "plt.show()"
      ],
      "metadata": {
        "colab": {
          "base_uri": "https://localhost:8080/",
          "height": 449
        },
        "id": "PnSv3T4eSXD3",
        "outputId": "91bda0ed-22d9-4a93-82f9-45b933bbcdd2"
      },
      "execution_count": null,
      "outputs": [
        {
          "output_type": "display_data",
          "data": {
            "text/plain": [
              "<Figure size 640x480 with 1 Axes>"
            ],
            "image/png": "[encoded data removed]"
          },
          "metadata": {}
        }
      ]
    },
    {
      "cell_type": "code",
      "source": [
        "# 다양한 정규화 방법으로 변환한 후 변환된 값들을 데이터프레임에 저장하고 시각화\n",
        "# 표준화, 로버스트 스케일링, 최소-최대 스케일링, 최대 절대값 스케일링\n",
        "# 정규화\n",
        "from sklearn.preprocessing import scale, robust_scale, minmax_scale, maxabs_scale\n",
        "print(np.arange(10, dtype = np.float64)-3)  # -3부터 10개의 원소를 가진 배열을 생성하는 코드\n",
        "\n",
        "x = (np.arange(1000000, dtype = np.float64)-3).reshape(-1, 1)  # -3부터 1000000개의 원소를 가진 배열을 생성하고 2차원 배열로 변환 / (1000000, 1) 배열\n",
        "print(x.shape)\n",
        "\n",
        "df = pd.DataFrame(np.hstack([x, scale(x), robust_scale(x), minmax_scale(x),  # hstack() : 수평 방향으로 배열을 결합\n",
        "                             maxabs_scale(x)]),\n",
        "        columns = ['x', 'scale(x)', 'robust_scale(x)', 'minmax_scale(x)',\n",
        "                   'maxabs_scale(x)'])\n",
        "df.plot()  # 데이터프레임의 값 시각화"
      ],
      "metadata": {
        "colab": {
          "base_uri": "https://localhost:8080/",
          "height": 515
        },
        "id": "fm_JCSPwSXGG",
        "outputId": "4d70dfb4-40e9-4d86-e707-692fb942110d"
      },
      "execution_count": null,
      "outputs": [
        {
          "output_type": "stream",
          "name": "stdout",
          "text": [
            "[-3. -2. -1.  0.  1.  2.  3.  4.  5.  6.]\n",
            "(1000000, 1)\n"
          ]
        },
        {
          "output_type": "execute_result",
          "data": {
            "text/plain": [
              "<Axes: >"
            ]
          },
          "metadata": {},
          "execution_count": 60
        },
        {
          "output_type": "display_data",
          "data": {
            "text/plain": [
              "<Figure size 640x480 with 1 Axes>"
            ],
            "image/png": "[encoded data removed]"
          },
          "metadata": {}
        }
      ]
    },
    {
      "cell_type": "code",
      "source": [
        "# iris 데이터\n",
        "import seaborn as sns\n",
        "from sklearn.datasets import load_iris\n",
        "iris = load_iris()  # 데이터셋 로드\n",
        "print(type(iris))   # Bunch\n",
        "\n",
        "data1 = iris.data  # 원본 데이터\n",
        "print(data1.shape)\n",
        "data2 = scale(iris.data)  # 정규화된 데이터\n",
        "print(\"전처리 전 평균: \", np.mean(data1, axis=0))\n",
        "print(\"전처리 전 std : \", np.std(data1,  axis=0))\n",
        "print(\"전처리 후 평균: \", np.mean(data2, axis=0))\n",
        "print(\"전처리 후 std : \", np.std(data2,  axis=0))\n",
        "# 분포는 동일하다 => 사이즈는 다름 (+, -)\n",
        "sns.jointplot(data1[:, 0])  # 양수 데이터 \n",
        "plt.show()\n",
        "sns.jointplot(data2[:, 0])  # 평균을 0점으로 +, - (전처리)\n",
        "plt.show()"
      ],
      "metadata": {
        "id": "-fVtsaE3SXIX"
      },
      "execution_count": null,
      "outputs": []
    },
    {
      "cell_type": "code",
      "source": [
        "from sklearn.preprocessing import StandardScaler\n",
        "scaler = StandardScaler()  # 인스턴스하여 scaler 객체 생성\n",
        "scaler.fit(data1)  # 열별로 평균과 표준편차 (변수별로) / data1 데이터로 표준화 스케일러 학습\n",
        "data2 = scaler.transform(data1)  # data1을 표준화된 형태로 변환한 후 data2에 저장\n",
        "print(data1.std(), data2.std())  # data1과 data2의 표준편차 계산\n",
        "\n",
        "data3 = scaler.fit_transform(data1)  # fit_transform(data1) : data1의 fit()와 transform() 동시에 처리\n",
        "data3.std()"
      ],
      "metadata": {
        "colab": {
          "base_uri": "https://localhost:8080/"
        },
        "id": "eQXRNFa_w3qs",
        "outputId": "be469b18-2dd3-4d4d-9628-9f3d420cb56c"
      },
      "execution_count": null,
      "outputs": [
        {
          "output_type": "stream",
          "name": "stdout",
          "text": [
            "1.9738430577598278 1.0\n"
          ]
        },
        {
          "output_type": "execute_result",
          "data": {
            "text/plain": [
              "1.0"
            ]
          },
          "metadata": {},
          "execution_count": 66
        }
      ]
    },
    {
      "cell_type": "code",
      "source": [
        "# 문제\n",
        "# data3에 대해 원래의 데이터로 복원하고 표준편차 구하기 <1.9738430577598278>\n",
        "# iris 데이터 : 독립변수 4개, 종속변수 1개\n",
        "scaler.inverse_transform(data3).std()"
      ],
      "metadata": {
        "colab": {
          "base_uri": "https://localhost:8080/"
        },
        "id": "FW4cAgFJSXKP",
        "outputId": "e21bf751-49df-4562-acf3-3ad6cd887370"
      },
      "execution_count": null,
      "outputs": [
        {
          "output_type": "execute_result",
          "data": {
            "text/plain": [
              "1.9738430577598278"
            ]
          },
          "metadata": {},
          "execution_count": 67
        }
      ]
    },
    {
      "cell_type": "code",
      "source": [
        "# 문제\n",
        "# iris 데이터에 대해 minmax_scaler class를 적용\n",
        "from sklearn.preprocessing import MinMaxScaler  # MinMaxScaler : 데이터의 최소값과 최대값을 이용하여 정규화\n",
        "data1 = iris.data\n",
        "minmax = MinMaxScaler()\n",
        "res = minmax.fit_transform(data1)\n",
        "res[0, :]"
      ],
      "metadata": {
        "colab": {
          "base_uri": "https://localhost:8080/"
        },
        "id": "03wOU3_4SXMW",
        "outputId": "d2666454-ad22-4706-dd55-a199d533c554"
      },
      "execution_count": null,
      "outputs": [
        {
          "output_type": "execute_result",
          "data": {
            "text/plain": [
              "array([0.22222222, 0.625     , 0.06779661, 0.04166667])"
            ]
          },
          "metadata": {},
          "execution_count": 72
        }
      ]
    },
    {
      "cell_type": "code",
      "source": [
        "minmax.inverse_transform([[0.2345, 0.11, 0.22, 0.33]])  # 정규화된 데이터를 원래의 스케일로 복원 (역변환)"
      ],
      "metadata": {
        "colab": {
          "base_uri": "https://localhost:8080/"
        },
        "id": "AQ6dKaLKSXOW",
        "outputId": "41d5df43-47d4-4199-8811-d2d6944e0019"
      },
      "execution_count": null,
      "outputs": [
        {
          "output_type": "execute_result",
          "data": {
            "text/plain": [
              "array([[5.1442, 2.264 , 2.298 , 0.892 ]])"
            ]
          },
          "metadata": {},
          "execution_count": 75
        }
      ]
    },
    {
      "cell_type": "code",
      "source": [
        "# 방향으로 정규화(normalize)\n",
        "# 벡터 = 크기 + 방향 / norm을 구함\n",
        "# 크기는 1이 된다. => 방향은 곱셈으로 사용 (항등원)\n",
        "from sklearn import preprocessing\n",
        "X = [[1., -1.,  2.],\n",
        "     [2.,  0.,  0.],\n",
        "     [0.,  1., -1.]]\n",
        "X_normalized = preprocessing.normalize(X, norm='l2')  #  L2 규제를 사용하여 정규화 (벡터 크기를 1로 조정)\n",
        "X_normalized"
      ],
      "metadata": {
        "colab": {
          "base_uri": "https://localhost:8080/"
        },
        "id": "qPC60vNGSXQe",
        "outputId": "c800cdb2-4db7-4fc2-bb64-fdd1ee120173"
      },
      "execution_count": null,
      "outputs": [
        {
          "output_type": "execute_result",
          "data": {
            "text/plain": [
              "array([[ 0.40824829, -0.40824829,  0.81649658],\n",
              "       [ 1.        ,  0.        ,  0.        ],\n",
              "       [ 0.        ,  0.70710678, -0.70710678]])"
            ]
          },
          "metadata": {},
          "execution_count": 76
        }
      ]
    },
    {
      "cell_type": "code",
      "source": [
        "# class로 중복 구현한 이유는? -> 크기값을 기억하고 있음\n",
        "# normalizer는 원본값으로 복원이 가능하다 (normalized는 불가능)\n",
        "normalizer = preprocessing.Normalizer().fit(X)\n",
        "normalizer.transform(X)"
      ],
      "metadata": {
        "colab": {
          "base_uri": "https://localhost:8080/"
        },
        "id": "inxmzgZUSXSf",
        "outputId": "902f424c-3908-4439-d05a-9acba6033441"
      },
      "execution_count": null,
      "outputs": [
        {
          "output_type": "execute_result",
          "data": {
            "text/plain": [
              "array([[ 0.40824829, -0.40824829,  0.81649658],\n",
              "       [ 1.        ,  0.        ,  0.        ],\n",
              "       [ 0.        ,  0.70710678, -0.70710678]])"
            ]
          },
          "metadata": {},
          "execution_count": 77
        }
      ]
    },
    {
      "cell_type": "code",
      "source": [
        "from sklearn.impute import SimpleImputer  # 누락 데이터 대체\n",
        "# strategy : mean, median, most_frequent(최빈수), constant(상수) 등으로 채울 수 있음\n",
        "imp_mean = SimpleImputer(missing_values = np.nan, strategy = 'median')  # 중위수로 누락된 데이터 채우기\n",
        "imp_mean.fit([[7, 2, 3], [4, np.nan, 6], [10, 5, 9]])\n",
        "X = [[np.nan, 2, 3], [4, np.nan, 6], [10, np.nan, 9]]\n",
        "print(imp_mean.transform(X))"
      ],
      "metadata": {
        "colab": {
          "base_uri": "https://localhost:8080/"
        },
        "id": "D4YrAjEySXZH",
        "outputId": "52e641c8-f9f2-47cf-96d3-c2c808b85863"
      },
      "execution_count": null,
      "outputs": [
        {
          "output_type": "stream",
          "name": "stdout",
          "text": [
            "[[ 7.   2.   3. ]\n",
            " [ 4.   3.5  6. ]\n",
            " [10.   3.5  9. ]]\n"
          ]
        }
      ]
    },
    {
      "cell_type": "code",
      "source": [
        "# K nearest neighbor (KNN) : 누락된 데이터를 k-최근접 이웃 방식을 사용하여 대체\n",
        "from sklearn.impute import KNNImputer\n",
        "X = [[1, 2, np.nan], [3, 4, 3], [np.nan, 6, 5], [8, 8, 7]]\n",
        "imputer = KNNImputer(n_neighbors = 2)  # 2개의 최근접 이웃\n",
        "imputer.fit_transform(X)\n",
        "# 누락된 값들은 각 특성의 가장 가까운 이웃들의 평균값으로 대체"
      ],
      "metadata": {
        "colab": {
          "base_uri": "https://localhost:8080/"
        },
        "id": "HpwmOFRLSXbu",
        "outputId": "3cda5c41-cefa-4da7-9dbe-dbf78b640c5e"
      },
      "execution_count": null,
      "outputs": [
        {
          "output_type": "execute_result",
          "data": {
            "text/plain": [
              "array([[1. , 2. , 4. ],\n",
              "       [3. , 4. , 3. ],\n",
              "       [5.5, 6. , 5. ],\n",
              "       [8. , 8. , 7. ]])"
            ]
          },
          "metadata": {},
          "execution_count": 80
        }
      ]
    },
    {
      "cell_type": "code",
      "source": [
        "# 문제\n",
        "# 결측치 처리하기\n",
        "from sklearn.impute import SimpleImputer\n",
        "dict = {'First':[100, 90, np.nan, 95],\n",
        "        'Second':[30, 45, 56, np.nan],\n",
        "        'Third':[np.nan, 40, 80, 98]}\n",
        "\n",
        "df = pd.DataFrame(dict)  # 주어진 데이터가 딕셔너리 형태이기에, 데이터프레임으로 변환\n",
        "imputer = KNNImputer(n_neighbors = 2)  # 2개의 최근접 이웃 / KNN 방식\n",
        "df_filled = imputer.fit_transform(df)\n",
        "df_filled"
      ],
      "metadata": {
        "id": "-Ltz_ezi1vul",
        "colab": {
          "base_uri": "https://localhost:8080/"
        },
        "outputId": "d2c3af35-f0d9-4de7-9646-27d1e79a811b"
      },
      "execution_count": null,
      "outputs": [
        {
          "output_type": "execute_result",
          "data": {
            "text/plain": [
              "array([[100. ,  30. ,  69. ],\n",
              "       [ 90. ,  45. ,  40. ],\n",
              "       [ 97.5,  56. ,  80. ],\n",
              "       [ 95. ,  43. ,  98. ]])"
            ]
          },
          "metadata": {},
          "execution_count": 84
        }
      ]
    },
    {
      "cell_type": "code",
      "source": [
        "# 이상치 제거\n",
        "data_url = \"http://lib.stat.cmu.edu/datasets/boston\"  # Boston Housing 데이터셋\n",
        "raw_df = pd.read_csv(data_url, sep=\"\\s+\", skiprows=22, header=None)\n",
        "data = np.hstack([raw_df.values[::2, :], raw_df.values[1::2, :2]])\n",
        "target = raw_df.values[1::2, 2]\n",
        "print(type(data))\n",
        "boston_df = pd.DataFrame(data)\n",
        "boston_df.head()"
      ],
      "metadata": {
        "id": "fKlsOiKg1vzL",
        "colab": {
          "base_uri": "https://localhost:8080/",
          "height": 224
        },
        "outputId": "f71f9e37-570e-4584-e04f-a61ed627f52b"
      },
      "execution_count": null,
      "outputs": [
        {
          "output_type": "stream",
          "name": "stdout",
          "text": [
            "<class 'numpy.ndarray'>\n"
          ]
        },
        {
          "output_type": "execute_result",
          "data": {
            "text/plain": [
              "        0     1     2    3      4      5     6       7    8      9     10  \\\n",
              "0  0.00632  18.0  2.31  0.0  0.538  6.575  65.2  4.0900  1.0  296.0  15.3   \n",
              "1  0.02731   0.0  7.07  0.0  0.469  6.421  78.9  4.9671  2.0  242.0  17.8   \n",
              "2  0.02729   0.0  7.07  0.0  0.469  7.185  61.1  4.9671  2.0  242.0  17.8   \n",
              "3  0.03237   0.0  2.18  0.0  0.458  6.998  45.8  6.0622  3.0  222.0  18.7   \n",
              "4  0.06905   0.0  2.18  0.0  0.458  7.147  54.2  6.0622  3.0  222.0  18.7   \n",
              "\n",
              "       11    12  \n",
              "0  396.90  4.98  \n",
              "1  396.90  9.14  \n",
              "2  392.83  4.03  \n",
              "3  394.63  2.94  \n",
              "4  396.90  5.33  "
            ],
            "text/html": [
              "\n",
              "  <div id=\"df-4f91b032-b784-4a62-a971-c4c47e2af438\">\n",
              "    <div class=\"colab-df-container\">\n",
              "      <div>\n",
              "<style scoped>\n",
              "    .dataframe tbody tr th:only-of-type {\n",
              "        vertical-align: middle;\n",
              "    }\n",
              "\n",
              "    .dataframe tbody tr th {\n",
              "        vertical-align: top;\n",
              "    }\n",
              "\n",
              "    .dataframe thead th {\n",
              "        text-align: right;\n",
              "    }\n",
              "</style>\n",
              "<table border=\"1\" class=\"dataframe\">\n",
              "  <thead>\n",
              "    <tr style=\"text-align: right;\">\n",
              "      <th></th>\n",
              "      <th>0</th>\n",
              "      <th>1</th>\n",
              "      <th>2</th>\n",
              "      <th>3</th>\n",
              "      <th>4</th>\n",
              "      <th>5</th>\n",
              "      <th>6</th>\n",
              "      <th>7</th>\n",
              "      <th>8</th>\n",
              "      <th>9</th>\n",
              "      <th>10</th>\n",
              "      <th>11</th>\n",
              "      <th>12</th>\n",
              "    </tr>\n",
              "  </thead>\n",
              "  <tbody>\n",
              "    <tr>\n",
              "      <th>0</th>\n",
              "      <td>0.00632</td>\n",
              "      <td>18.0</td>\n",
              "      <td>2.31</td>\n",
              "      <td>0.0</td>\n",
              "      <td>0.538</td>\n",
              "      <td>6.575</td>\n",
              "      <td>65.2</td>\n",
              "      <td>4.0900</td>\n",
              "      <td>1.0</td>\n",
              "      <td>296.0</td>\n",
              "      <td>15.3</td>\n",
              "      <td>396.90</td>\n",
              "      <td>4.98</td>\n",
              "    </tr>\n",
              "    <tr>\n",
              "      <th>1</th>\n",
              "      <td>0.02731</td>\n",
              "      <td>0.0</td>\n",
              "      <td>7.07</td>\n",
              "      <td>0.0</td>\n",
              "      <td>0.469</td>\n",
              "      <td>6.421</td>\n",
              "      <td>78.9</td>\n",
              "      <td>4.9671</td>\n",
              "      <td>2.0</td>\n",
              "      <td>242.0</td>\n",
              "      <td>17.8</td>\n",
              "      <td>396.90</td>\n",
              "      <td>9.14</td>\n",
              "    </tr>\n",
              "    <tr>\n",
              "      <th>2</th>\n",
              "      <td>0.02729</td>\n",
              "      <td>0.0</td>\n",
              "      <td>7.07</td>\n",
              "      <td>0.0</td>\n",
              "      <td>0.469</td>\n",
              "      <td>7.185</td>\n",
              "      <td>61.1</td>\n",
              "      <td>4.9671</td>\n",
              "      <td>2.0</td>\n",
              "      <td>242.0</td>\n",
              "      <td>17.8</td>\n",
              "      <td>392.83</td>\n",
              "      <td>4.03</td>\n",
              "    </tr>\n",
              "    <tr>\n",
              "      <th>3</th>\n",
              "      <td>0.03237</td>\n",
              "      <td>0.0</td>\n",
              "      <td>2.18</td>\n",
              "      <td>0.0</td>\n",
              "      <td>0.458</td>\n",
              "      <td>6.998</td>\n",
              "      <td>45.8</td>\n",
              "      <td>6.0622</td>\n",
              "      <td>3.0</td>\n",
              "      <td>222.0</td>\n",
              "      <td>18.7</td>\n",
              "      <td>394.63</td>\n",
              "      <td>2.94</td>\n",
              "    </tr>\n",
              "    <tr>\n",
              "      <th>4</th>\n",
              "      <td>0.06905</td>\n",
              "      <td>0.0</td>\n",
              "      <td>2.18</td>\n",
              "      <td>0.0</td>\n",
              "      <td>0.458</td>\n",
              "      <td>7.147</td>\n",
              "      <td>54.2</td>\n",
              "      <td>6.0622</td>\n",
              "      <td>3.0</td>\n",
              "      <td>222.0</td>\n",
              "      <td>18.7</td>\n",
              "      <td>396.90</td>\n",
              "      <td>5.33</td>\n",
              "    </tr>\n",
              "  </tbody>\n",
              "</table>\n",
              "</div>\n",
              "      <button class=\"colab-df-convert\" onclick=\"convertToInteractive('df-4f91b032-b784-4a62-a971-c4c47e2af438')\"\n",
              "              title=\"Convert this dataframe to an interactive table.\"\n",
              "              style=\"display:none;\">\n",
              "        \n",
              "  <svg xmlns=\"http://www.w3.org/2000/svg\" height=\"24px\"viewBox=\"0 0 24 24\"\n",
              "       width=\"24px\">\n",
              "    <path d=\"M0 0h24v24H0V0z\" fill=\"none\"/>\n",
              "    <path d=\"M18.56 5.44l.94 2.06.94-2.06 2.06-.94-2.06-.94-.94-2.06-.94 2.06-2.06.94zm-11 1L8.5 8.5l.94-2.06 2.06-.94-2.06-.94L8.5 2.5l-.94 2.06-2.06.94zm10 10l.94 2.06.94-2.06 2.06-.94-2.06-.94-.94-2.06-.94 2.06-2.06.94z\"/><path d=\"M17.41 7.96l-1.37-1.37c-.4-.4-.92-.59-1.43-.59-.52 0-1.04.2-1.43.59L10.3 9.45l-7.72 7.72c-.78.78-.78 2.05 0 2.83L4 21.41c.39.39.9.59 1.41.59.51 0 1.02-.2 1.41-.59l7.78-7.78 2.81-2.81c.8-.78.8-2.07 0-2.86zM5.41 20L4 18.59l7.72-7.72 1.47 1.35L5.41 20z\"/>\n",
              "  </svg>\n",
              "      </button>\n",
              "      \n",
              "  <style>\n",
              "    .colab-df-container {\n",
              "      display:flex;\n",
              "      flex-wrap:wrap;\n",
              "      gap: 12px;\n",
              "    }\n",
              "\n",
              "    .colab-df-convert {\n",
              "      background-color: #E8F0FE;\n",
              "      border: none;\n",
              "      border-radius: 50%;\n",
              "      cursor: pointer;\n",
              "      display: none;\n",
              "      fill: #1967D2;\n",
              "      height: 32px;\n",
              "      padding: 0 0 0 0;\n",
              "      width: 32px;\n",
              "    }\n",
              "\n",
              "    .colab-df-convert:hover {\n",
              "      background-color: #E2EBFA;\n",
              "      box-shadow: 0px 1px 2px rgba(60, 64, 67, 0.3), 0px 1px 3px 1px rgba(60, 64, 67, 0.15);\n",
              "      fill: #174EA6;\n",
              "    }\n",
              "\n",
              "    [theme=dark] .colab-df-convert {\n",
              "      background-color: #3B4455;\n",
              "      fill: #D2E3FC;\n",
              "    }\n",
              "\n",
              "    [theme=dark] .colab-df-convert:hover {\n",
              "      background-color: #434B5C;\n",
              "      box-shadow: 0px 1px 3px 1px rgba(0, 0, 0, 0.15);\n",
              "      filter: drop-shadow(0px 1px 2px rgba(0, 0, 0, 0.3));\n",
              "      fill: #FFFFFF;\n",
              "    }\n",
              "  </style>\n",
              "\n",
              "      <script>\n",
              "        const buttonEl =\n",
              "          document.querySelector('#df-4f91b032-b784-4a62-a971-c4c47e2af438 button.colab-df-convert');\n",
              "        buttonEl.style.display =\n",
              "          google.colab.kernel.accessAllowed ? 'block' : 'none';\n",
              "\n",
              "        async function convertToInteractive(key) {\n",
              "          const element = document.querySelector('#df-4f91b032-b784-4a62-a971-c4c47e2af438');\n",
              "          const dataTable =\n",
              "            await google.colab.kernel.invokeFunction('convertToInteractive',\n",
              "                                                     [key], {});\n",
              "          if (!dataTable) return;\n",
              "\n",
              "          const docLinkHtml = 'Like what you see? Visit the ' +\n",
              "            '<a target=\"_blank\" href=https://colab.research.google.com/notebooks/data_table.ipynb>data table notebook</a>'\n",
              "            + ' to learn more about interactive tables.';\n",
              "          element.innerHTML = '';\n",
              "          dataTable['output_type'] = 'display_data';\n",
              "          await google.colab.output.renderOutput(dataTable, element);\n",
              "          const docLink = document.createElement('div');\n",
              "          docLink.innerHTML = docLinkHtml;\n",
              "          element.appendChild(docLink);\n",
              "        }\n",
              "      </script>\n",
              "    </div>\n",
              "  </div>\n",
              "  "
            ]
          },
          "metadata": {},
          "execution_count": 93
        }
      ]
    },
    {
      "cell_type": "code",
      "source": [
        "from scipy import stats  # stats 모듈 : 통계 관련 함수 패키지\n",
        "z = np.abs(stats.zscore(boston_df))  # Z-점수를 표준편차로 표현한다.\n",
        "print(z.shape)  # z 배열의 크기 \n",
        "threshold = 3   # 이상치로 간주되는 임계값 범위를 지정 \n",
        "print(np.where(z > 3))  # 99.7% 의 범위를 벗어나면 이상치이다."
      ],
      "metadata": {
        "id": "_EluqI4K1v32",
        "colab": {
          "base_uri": "https://localhost:8080/"
        },
        "outputId": "0b9abe26-378b-40f3-a2f5-c1d999f7db66"
      },
      "execution_count": null,
      "outputs": [
        {
          "output_type": "stream",
          "name": "stdout",
          "text": [
            "(506, 13)\n",
            "(array([ 55,  56,  57, 102, 141, 142, 152, 154, 155, 160, 162, 163, 199,\n",
            "       200, 201, 202, 203, 204, 208, 209, 210, 211, 212, 216, 218, 219,\n",
            "       220, 221, 222, 225, 234, 236, 256, 257, 262, 269, 273, 274, 276,\n",
            "       277, 282, 283, 283, 284, 347, 351, 352, 353, 353, 354, 355, 356,\n",
            "       357, 358, 363, 364, 364, 365, 367, 369, 370, 372, 373, 374, 374,\n",
            "       380, 398, 404, 405, 406, 410, 410, 411, 412, 412, 414, 414, 415,\n",
            "       416, 418, 418, 419, 423, 424, 425, 426, 427, 427, 429, 431, 436,\n",
            "       437, 438, 445, 450, 454, 455, 456, 457, 466]), array([ 1,  1,  1, 11, 12,  3,  3,  3,  3,  3,  3,  3,  1,  1,  1,  1,  1,\n",
            "        1,  3,  3,  3,  3,  3,  3,  3,  3,  3,  3,  3,  5,  3,  3,  1,  5,\n",
            "        5,  3,  3,  3,  3,  3,  3,  1,  3,  1,  1,  7,  7,  1,  7,  7,  7,\n",
            "        3,  3,  3,  3,  3,  5,  5,  5,  3,  3,  3, 12,  5, 12,  0,  0,  0,\n",
            "        0,  5,  0, 11, 11, 11, 12,  0, 12, 11, 11,  0, 11, 11, 11, 11, 11,\n",
            "       11,  0, 11, 11, 11, 11, 11, 11, 11, 11, 11, 11, 11, 11, 11]))\n"
          ]
        }
      ]
    },
    {
      "cell_type": "code",
      "source": [
        "# IQR 기반 이상치를 탐지\n",
        "Q1 = boston_df.quantile(0.25)  # 데이터의 하위 25%\n",
        "Q3 = boston_df.quantile(0.75)  # 데이터의 상위 25%\n",
        "IQR = Q3 - Q1  # IQR은 데이터의 중간 50% 범위\n",
        "print(IQR)\n",
        "print(boston_df < (Q1 - 1.5 * IQR))\n",
        "print(boston_df > (Q3 + 1.5 * IQR))\n",
        "\n",
        "# True : 이상치가 있음"
      ],
      "metadata": {
        "id": "1eIa-Bbj1v8p",
        "colab": {
          "base_uri": "https://localhost:8080/"
        },
        "outputId": "14facd59-ed80-4591-f98d-87f5e081cd47"
      },
      "execution_count": null,
      "outputs": [
        {
          "output_type": "stream",
          "name": "stdout",
          "text": [
            "0       3.595038\n",
            "1      12.500000\n",
            "2      12.910000\n",
            "3       0.000000\n",
            "4       0.175000\n",
            "5       0.738000\n",
            "6      49.050000\n",
            "7       3.088250\n",
            "8      20.000000\n",
            "9     387.000000\n",
            "10      2.800000\n",
            "11     20.847500\n",
            "12     10.005000\n",
            "dtype: float64\n",
            "        0      1      2      3      4      5      6      7      8      9   \\\n",
            "0    False  False  False  False  False  False  False  False  False  False   \n",
            "1    False  False  False  False  False  False  False  False  False  False   \n",
            "2    False  False  False  False  False  False  False  False  False  False   \n",
            "3    False  False  False  False  False  False  False  False  False  False   \n",
            "4    False  False  False  False  False  False  False  False  False  False   \n",
            "..     ...    ...    ...    ...    ...    ...    ...    ...    ...    ...   \n",
            "501  False  False  False  False  False  False  False  False  False  False   \n",
            "502  False  False  False  False  False  False  False  False  False  False   \n",
            "503  False  False  False  False  False  False  False  False  False  False   \n",
            "504  False  False  False  False  False  False  False  False  False  False   \n",
            "505  False  False  False  False  False  False  False  False  False  False   \n",
            "\n",
            "        10     11     12  \n",
            "0    False  False  False  \n",
            "1    False  False  False  \n",
            "2    False  False  False  \n",
            "3    False  False  False  \n",
            "4    False  False  False  \n",
            "..     ...    ...    ...  \n",
            "501  False  False  False  \n",
            "502  False  False  False  \n",
            "503  False  False  False  \n",
            "504  False  False  False  \n",
            "505  False  False  False  \n",
            "\n",
            "[506 rows x 13 columns]\n",
            "        0      1      2      3      4      5      6      7      8      9   \\\n",
            "0    False  False  False  False  False  False  False  False  False  False   \n",
            "1    False  False  False  False  False  False  False  False  False  False   \n",
            "2    False  False  False  False  False  False  False  False  False  False   \n",
            "3    False  False  False  False  False  False  False  False  False  False   \n",
            "4    False  False  False  False  False  False  False  False  False  False   \n",
            "..     ...    ...    ...    ...    ...    ...    ...    ...    ...    ...   \n",
            "501  False  False  False  False  False  False  False  False  False  False   \n",
            "502  False  False  False  False  False  False  False  False  False  False   \n",
            "503  False  False  False  False  False  False  False  False  False  False   \n",
            "504  False  False  False  False  False  False  False  False  False  False   \n",
            "505  False  False  False  False  False  False  False  False  False  False   \n",
            "\n",
            "        10     11     12  \n",
            "0    False  False  False  \n",
            "1    False  False  False  \n",
            "2    False  False  False  \n",
            "3    False  False  False  \n",
            "4    False  False  False  \n",
            "..     ...    ...    ...  \n",
            "501  False  False  False  \n",
            "502  False  False  False  \n",
            "503  False  False  False  \n",
            "504  False  False  False  \n",
            "505  False  False  False  \n",
            "\n",
            "[506 rows x 13 columns]\n"
          ]
        }
      ]
    },
    {
      "cell_type": "code",
      "source": [
        "boston_df.shape  # (506, 13)"
      ],
      "metadata": {
        "colab": {
          "base_uri": "https://localhost:8080/"
        },
        "id": "uO0rJspXJ5S2",
        "outputId": "42d604fc-8360-47ba-b1a3-fb3ed5cd2a27"
      },
      "execution_count": null,
      "outputs": [
        {
          "output_type": "execute_result",
          "data": {
            "text/plain": [
              "(506, 13)"
            ]
          },
          "metadata": {},
          "execution_count": 96
        }
      ]
    },
    {
      "cell_type": "code",
      "source": [
        "boston_df = boston_df[(z < 3).all(axis=1)]  # Z-점수가 3보다 작은 모든 행, 이상치가 있는 행들이 제거\n",
        "boston_df.shape  # (415, 13)"
      ],
      "metadata": {
        "id": "TNphPcuz1wB8",
        "colab": {
          "base_uri": "https://localhost:8080/"
        },
        "outputId": "0af160d1-4d39-4989-94e2-93e02bf14471"
      },
      "execution_count": null,
      "outputs": [
        {
          "output_type": "stream",
          "name": "stderr",
          "text": [
            "<ipython-input-89-41d16b7f2a70>:1: UserWarning: Boolean Series key will be reindexed to match DataFrame index.\n",
            "  boston_df = boston_df[(z < 3).all(axis=1)]  # Z-점수가 3보다 작은 모든 행, 이상치가 있는 행들이 제거\n"
          ]
        },
        {
          "output_type": "execute_result",
          "data": {
            "text/plain": [
              "(415, 13)"
            ]
          },
          "metadata": {},
          "execution_count": 89
        }
      ]
    },
    {
      "cell_type": "code",
      "source": [
        "# 문제\n",
        "# IQR 방식으로, 이상치를 제거한 데이터를 추출\n",
        "boston_df_out = boston_df[~((boston_df < (Q1 - 1.5 * IQR)) |\n",
        "                            (boston_df > (Q3 + 1.5 * IQR))).any(axis=1)]\n",
        "boston_df_out.shape  # (274, 13)"
      ],
      "metadata": {
        "id": "g2S6gV3-1wGq",
        "colab": {
          "base_uri": "https://localhost:8080/"
        },
        "outputId": "d5556ea7-36f5-46a4-c7bb-f26f4f03d218"
      },
      "execution_count": null,
      "outputs": [
        {
          "output_type": "execute_result",
          "data": {
            "text/plain": [
              "(274, 13)"
            ]
          },
          "metadata": {},
          "execution_count": 98
        }
      ]
    },
    {
      "cell_type": "code",
      "source": [
        "# 문제\n",
        "# 다음 데이터의 이상치를 제거\n",
        "data = [1, 2, 2, 2, 3, 1, 1, 15, 2, 2, 2, 3, 1, 1, 2]"
      ],
      "metadata": {
        "id": "fRQXmOyt1wLd"
      },
      "execution_count": null,
      "outputs": []
    },
    {
      "cell_type": "code",
      "source": [
        "# 데이터 평균과 표준편차를 계산\n",
        "mean = np.mean(data)\n",
        "std = np.std(data)\n",
        "print(\"평균: \", mean)\n",
        "print(\"표준편차: \", std)\n",
        "\n",
        "threshold = 3   # 경계값\n",
        "outlier = []    # 이상치를 저장하는 리스트\n",
        "for i in data:  # 데이터를 순회하면서 각 데이터 포인트에 대한 Z-점수 계산\n",
        "                # Z-점수는 데이터 포인트가 평균으로부터 표준 편차의 몇 배나 떨어져 있는지를 나타냄\n",
        "  z = (i-mean) / std\n",
        "  if z > threshold:  # Z-점수가 임계값보다 큰 경우 이상치로 간주하여 outlier 리스트에 추가\n",
        "    outlier.append(i)\n",
        "print(\"이상치 데이터:\", outlier)"
      ],
      "metadata": {
        "id": "rQuDL2JA1wQW",
        "colab": {
          "base_uri": "https://localhost:8080/"
        },
        "outputId": "4f8c802a-0b18-4e5f-c88f-f7a1c51f42ad"
      },
      "execution_count": null,
      "outputs": [
        {
          "output_type": "stream",
          "name": "stdout",
          "text": [
            "평균:  2.6666666666666665\n",
            "표준편차:  3.3598941782277745\n",
            "이상치 데이터: [15]\n"
          ]
        }
      ]
    },
    {
      "cell_type": "code",
      "source": [
        "# scale 함수로 데이터를 표준화, 표준화된 데이터에서 Z-점수가 3보다 큰 이상치를 선택\n",
        "from sklearn.preprocessing import scale\n",
        "data2 = scale(data)\n",
        "np.array(data)[data2 > 3]"
      ],
      "metadata": {
        "id": "r1Esr7vh1wVT",
        "colab": {
          "base_uri": "https://localhost:8080/"
        },
        "outputId": "3be803e6-5a3c-456c-b5a8-e9b86c23917c"
      },
      "execution_count": null,
      "outputs": [
        {
          "output_type": "execute_result",
          "data": {
            "text/plain": [
              "array([15])"
            ]
          },
          "metadata": {},
          "execution_count": 102
        }
      ]
    },
    {
      "cell_type": "code",
      "source": [
        "# 원-핫 인코딩 : 범주형 변수를 0과 1로 이루어진 이진 벡터로 변환하는 작업\n",
        "from sklearn.preprocessing import OneHotEncoder  # 원-핫 인코딩\n",
        "ohe = OneHotEncoder()\n",
        "X = np.array([[0], [1], [2]])  # X : 2차원 numpy 배열\n",
        "ohe.fit(X)  # ohe.fit(X)를 호출, OneHotEncoder 객체에 X를 학습\n",
        "ohe.categories_"
      ],
      "metadata": {
        "id": "oNDwjadU1waQ",
        "colab": {
          "base_uri": "https://localhost:8080/"
        },
        "outputId": "46330a7c-c1b4-4c73-ad5a-a8e69361b30a"
      },
      "execution_count": null,
      "outputs": [
        {
          "output_type": "execute_result",
          "data": {
            "text/plain": [
              "[array([0, 1, 2])]"
            ]
          },
          "metadata": {},
          "execution_count": 111
        }
      ]
    },
    {
      "cell_type": "code",
      "source": [
        "print(ohe.transform(X))  # 희소행렬 형태\n",
        "print(ohe.transform(X).toarray())  # 배열화 "
      ],
      "metadata": {
        "colab": {
          "base_uri": "https://localhost:8080/"
        },
        "id": "HJdIO-xMMbxH",
        "outputId": "f3934097-0763-4252-c90b-2517b32822e7"
      },
      "execution_count": null,
      "outputs": [
        {
          "output_type": "stream",
          "name": "stdout",
          "text": [
            "  (0, 0)\t1.0\n",
            "  (1, 1)\t1.0\n",
            "  (2, 2)\t1.0\n",
            "[[1. 0. 0.]\n",
            " [0. 1. 0.]\n",
            " [0. 0. 1.]]\n"
          ]
        }
      ]
    },
    {
      "cell_type": "code",
      "source": [
        "# 2차원 배열 : 리스트에 담아야 함 \n",
        "print(ohe.transform([X[0]]).toarray())"
      ],
      "metadata": {
        "colab": {
          "base_uri": "https://localhost:8080/"
        },
        "id": "WnhswwJXMbzH",
        "outputId": "7726af82-7a20-476d-faab-fde238422157"
      },
      "execution_count": null,
      "outputs": [
        {
          "output_type": "stream",
          "name": "stdout",
          "text": [
            "[[1. 0. 0.]]\n"
          ]
        }
      ]
    },
    {
      "cell_type": "code",
      "source": [
        "ohe.inverse_transform([[1., 0., 0.,]])  # 원-핫 인코딩된 데이터를 다시 범주형 변수 형태로 변환 "
      ],
      "metadata": {
        "colab": {
          "base_uri": "https://localhost:8080/"
        },
        "id": "xrQzV0KGMb1Q",
        "outputId": "3a934d0c-eb87-4aca-eead-fee117df8cb8"
      },
      "execution_count": null,
      "outputs": [
        {
          "output_type": "execute_result",
          "data": {
            "text/plain": [
              "array([[0]])"
            ]
          },
          "metadata": {},
          "execution_count": 114
        }
      ]
    },
    {
      "cell_type": "code",
      "source": [
        "# 문제\n",
        "# [['서울'], ['서울'], ['대전'], ['부산']]\n",
        "# 위의 데이터에 대해 원-핫 인코딩을 실시\n",
        "\n",
        "# from sklearn.preprocessing import OneHotEncoder\n",
        "# ohe = OneHotEncoder()\n",
        "# X = np.array([['서울'], ['서울'], ['대전'], ['부산']])  # 세 가지 종류\n",
        "ohe.fit([['서울'], ['서울'], ['대전'], ['부산']])  # 학습 데이터는 2차원 배열\n",
        "ohe.transform([['서울'], ['서울']]).toarray()\n",
        "# 인코딩할 데이터와 출력 결과는 모두 2차원 배열"
      ],
      "metadata": {
        "colab": {
          "base_uri": "https://localhost:8080/"
        },
        "id": "KwuZgEX1Mb2v",
        "outputId": "b3183963-605c-4a31-8a38-4cdaceace5bf"
      },
      "execution_count": null,
      "outputs": [
        {
          "output_type": "execute_result",
          "data": {
            "text/plain": [
              "array([[0., 0., 1.],\n",
              "       [0., 0., 1.]])"
            ]
          },
          "metadata": {},
          "execution_count": 117
        }
      ]
    },
    {
      "cell_type": "code",
      "source": [
        "ohe = OneHotEncoder()\n",
        "X = np.array([[0, 0, 4], [1, 1, 0], [0, 2, 1], [1, 0, 2], [1, 1, 3]])\n",
        "ohe.fit(X)\n",
        "ohe.categories_  # [array([0, 1]), array([0, 1, 2]), array([0, 1, 2, 3, 4])]"
      ],
      "metadata": {
        "colab": {
          "base_uri": "https://localhost:8080/"
        },
        "id": "P1GKAblOMb4Z",
        "outputId": "e575cac4-f6e4-4a46-96ef-9e4dfd1878f5"
      },
      "execution_count": null,
      "outputs": [
        {
          "output_type": "execute_result",
          "data": {
            "text/plain": [
              "[array([0, 1]), array([0, 1, 2]), array([0, 1, 2, 3, 4])]"
            ]
          },
          "metadata": {},
          "execution_count": 118
        }
      ]
    },
    {
      "cell_type": "code",
      "source": [
        "ohe.transform(X).toarray()\n",
        "# 앞의 두 자리는 array([0, 1]) / 중간의 세 자리는 array([0, 1, 2]), 뒤의 다섯 자리는 array([0, 1, 2, 3, 4])"
      ],
      "metadata": {
        "colab": {
          "base_uri": "https://localhost:8080/"
        },
        "id": "_JmDnuFvMb6f",
        "outputId": "06ec49da-f4a3-4c30-a260-d0611858c09a"
      },
      "execution_count": null,
      "outputs": [
        {
          "output_type": "execute_result",
          "data": {
            "text/plain": [
              "array([[1., 0., 1., 0., 0., 0., 0., 0., 0., 1.],\n",
              "       [0., 1., 0., 1., 0., 1., 0., 0., 0., 0.],\n",
              "       [1., 0., 0., 0., 1., 0., 1., 0., 0., 0.],\n",
              "       [0., 1., 1., 0., 0., 0., 0., 1., 0., 0.],\n",
              "       [0., 1., 0., 1., 0., 0., 0., 0., 1., 0.]])"
            ]
          },
          "metadata": {},
          "execution_count": 119
        }
      ]
    },
    {
      "cell_type": "code",
      "source": [
        "# [array([0, 1]), array([0, 1, 2]), array([0, 1, 2, 3, 4])]\n",
        "\n",
        "ohe.inverse_transform(\n",
        "       [[1., 0., 1., 0., 0., 0., 0., 0., 0., 1.],  # 1, 0 / 1, 0, 0 / 0, 0, 0, 0, 1 => 각자의 자리수(0, 0, 4)\n",
        "       [0., 1., 0., 1., 0., 1., 0., 0., 0., 0.],\n",
        "       [1., 0., 0., 0., 1., 0., 1., 0., 0., 0.],\n",
        "       [0., 1., 1., 0., 0., 0., 0., 1., 0., 0.],\n",
        "       [0., 1., 0., 1., 0., 0., 0., 0., 1., 0.]]\n",
        ")"
      ],
      "metadata": {
        "colab": {
          "base_uri": "https://localhost:8080/"
        },
        "id": "X8gBn2-4Mb8I",
        "outputId": "cd58d6c4-10a5-4762-f85a-6f03beb1e113"
      },
      "execution_count": null,
      "outputs": [
        {
          "output_type": "execute_result",
          "data": {
            "text/plain": [
              "array([[0, 0, 4],\n",
              "       [1, 1, 0],\n",
              "       [0, 2, 1],\n",
              "       [1, 0, 2],\n",
              "       [1, 1, 3]])"
            ]
          },
          "metadata": {},
          "execution_count": 121
        }
      ]
    },
    {
      "cell_type": "code",
      "source": [
        "# 문제\n",
        "# 위 데이터를 OneHotEncoding 하기\n",
        "X = [['Male', 1], ['Female', 2], ['Female', 3]]\n",
        "ohe.fit(X)\n",
        "ohe.categories_\n",
        "# array(['Female', 'Male']), array([1, 2, 3])\n",
        "\n",
        "ohe.transform(X).toarray()\n"
      ],
      "metadata": {
        "colab": {
          "base_uri": "https://localhost:8080/"
        },
        "id": "iVBCYfhiMb-K",
        "outputId": "d80cd787-6661-48bd-bdab-e013d34cf413"
      },
      "execution_count": null,
      "outputs": [
        {
          "output_type": "execute_result",
          "data": {
            "text/plain": [
              "array([[0., 1., 1., 0., 0.],\n",
              "       [1., 0., 0., 1., 0.],\n",
              "       [1., 0., 0., 0., 1.]])"
            ]
          },
          "metadata": {},
          "execution_count": 127
        }
      ]
    },
    {
      "cell_type": "code",
      "source": [
        "# 레이블 범주화 \n",
        "from sklearn.preprocessing import LabelEncoder\n",
        "le = LabelEncoder()\n",
        "le.fit([1, 2, 2, 6])\n",
        "le.classes_"
      ],
      "metadata": {
        "colab": {
          "base_uri": "https://localhost:8080/"
        },
        "id": "uK7FuEd9McAG",
        "outputId": "37f4160a-0f29-42af-c3db-d8ef82bb6c65"
      },
      "execution_count": null,
      "outputs": [
        {
          "output_type": "execute_result",
          "data": {
            "text/plain": [
              "array([1, 2, 6])"
            ]
          },
          "metadata": {},
          "execution_count": 128
        }
      ]
    },
    {
      "cell_type": "code",
      "source": [
        "le.transform([1, 1, 2, 6])"
      ],
      "metadata": {
        "colab": {
          "base_uri": "https://localhost:8080/"
        },
        "id": "dqrvDbrQMcBy",
        "outputId": "a16f6e49-113a-4df8-b75c-1d0b85245d2d"
      },
      "execution_count": null,
      "outputs": [
        {
          "output_type": "execute_result",
          "data": {
            "text/plain": [
              "array([0, 0, 1, 2])"
            ]
          },
          "metadata": {},
          "execution_count": 129
        }
      ]
    },
    {
      "cell_type": "code",
      "source": [
        "le.inverse_transform([0, 0, 1, 2])  # 원래 데이터로 복원"
      ],
      "metadata": {
        "colab": {
          "base_uri": "https://localhost:8080/"
        },
        "id": "sljhvnDJMcDu",
        "outputId": "f5677abc-7781-4e15-f28f-b481769c3da1"
      },
      "execution_count": null,
      "outputs": [
        {
          "output_type": "execute_result",
          "data": {
            "text/plain": [
              "array([1, 1, 2, 6])"
            ]
          },
          "metadata": {},
          "execution_count": 130
        }
      ]
    },
    {
      "cell_type": "code",
      "source": [
        "# DictVectorizer : 딕셔너리 형태의 데이터를 벡터화\n",
        "from sklearn.feature_extraction import DictVectorizer\n",
        "# text mining : 문장을 벡터화\n",
        "v = DictVectorizer(sparse = False)\n",
        "D = [{'foo':1, 'bar':2}, {'foo':3, 'baz':1}]  # 딕셔너리들을 원소로 가지는 리스트, 키:데이터 형태\n",
        "X = v.fit_transform(D)  # D를 벡터화\n",
        "X\n",
        "\n",
        "# 키 모으기\n",
        "# [bar, baz, foo]  # 텍스트 마이닝은 DTM(Document term matrix), TDM"
      ],
      "metadata": {
        "colab": {
          "base_uri": "https://localhost:8080/"
        },
        "id": "AaNdhKdWMcFf",
        "outputId": "3acca69c-bd72-4a82-c7a9-96cdaa5ee595"
      },
      "execution_count": null,
      "outputs": [
        {
          "output_type": "execute_result",
          "data": {
            "text/plain": [
              "array([[2., 0., 1.],\n",
              "       [0., 1., 3.]])"
            ]
          },
          "metadata": {},
          "execution_count": 131
        }
      ]
    },
    {
      "cell_type": "code",
      "source": [
        "v.feature_names_  # 키는 알파벳 순서대로 정렬됨"
      ],
      "metadata": {
        "colab": {
          "base_uri": "https://localhost:8080/"
        },
        "id": "xmo38HfqMcH2",
        "outputId": "aa68a740-27b9-4c87-a122-351a1320187e"
      },
      "execution_count": null,
      "outputs": [
        {
          "output_type": "execute_result",
          "data": {
            "text/plain": [
              "['bar', 'baz', 'foo']"
            ]
          },
          "metadata": {},
          "execution_count": 133
        }
      ]
    },
    {
      "cell_type": "code",
      "source": [
        "v.inverse_transform(X)  # 원래 데이터로 복원 (dict 형태)"
      ],
      "metadata": {
        "colab": {
          "base_uri": "https://localhost:8080/"
        },
        "id": "p7RLKtouMcKG",
        "outputId": "4881fbd3-ce04-4f5e-efb3-9737327bbf53"
      },
      "execution_count": null,
      "outputs": [
        {
          "output_type": "execute_result",
          "data": {
            "text/plain": [
              "[{'bar': 2.0, 'foo': 1.0}, {'baz': 1.0, 'foo': 3.0}]"
            ]
          },
          "metadata": {},
          "execution_count": 134
        }
      ]
    },
    {
      "cell_type": "code",
      "source": [
        "# fake_data\n",
        "from pandas import DataFrame, Series\n",
        "from itertools import cycle\n",
        "area = '서울 부산 대구 인천 광주 대전 울산 세종 경기 강원 충북 충남 전북 전남 경북 경남 제주'.split() \n",
        "college = '인문대학 사회과학대학 자연과학대학 간호대학 경영대학 공과대학 미술대학'.split()\n",
        "gender = '남성 여성'.split()\n",
        "\n",
        "fake_data = zip(range(100), cycle(area), cycle(college), cycle(gender))  #  zip() 함수 사용하여 지역, 단과대, 성별 정보를 조합하여 가상의 학생 데이터 생성\n",
        "hundred_students = DataFrame([data for num, *data in fake_data],\n",
        "                             columns='지역 단과대 성별'.split())  #  가상의 학생 데이터를 DataFrame 형태로 생성, 열은 '지역''단과대''성별'\n",
        "hundred_students.head(10)"
      ],
      "metadata": {
        "colab": {
          "base_uri": "https://localhost:8080/",
          "height": 363
        },
        "id": "H4c0p5vIMcMn",
        "outputId": "3cadc63e-e592-4686-80fc-5f89cda51b0d"
      },
      "execution_count": null,
      "outputs": [
        {
          "output_type": "execute_result",
          "data": {
            "text/plain": [
              "   지역     단과대  성별\n",
              "0  서울    인문대학  남성\n",
              "1  부산  사회과학대학  여성\n",
              "2  대구  자연과학대학  남성\n",
              "3  인천    간호대학  여성\n",
              "4  광주    경영대학  남성\n",
              "5  대전    공과대학  여성\n",
              "6  울산    미술대학  남성\n",
              "7  세종    인문대학  여성\n",
              "8  경기  사회과학대학  남성\n",
              "9  강원  자연과학대학  여성"
            ],
            "text/html": [
              "\n",
              "  <div id=\"df-79a0d5c9-5cb1-4bb0-8975-7279f4053551\">\n",
              "    <div class=\"colab-df-container\">\n",
              "      <div>\n",
              "<style scoped>\n",
              "    .dataframe tbody tr th:only-of-type {\n",
              "        vertical-align: middle;\n",
              "    }\n",
              "\n",
              "    .dataframe tbody tr th {\n",
              "        vertical-align: top;\n",
              "    }\n",
              "\n",
              "    .dataframe thead th {\n",
              "        text-align: right;\n",
              "    }\n",
              "</style>\n",
              "<table border=\"1\" class=\"dataframe\">\n",
              "  <thead>\n",
              "    <tr style=\"text-align: right;\">\n",
              "      <th></th>\n",
              "      <th>지역</th>\n",
              "      <th>단과대</th>\n",
              "      <th>성별</th>\n",
              "    </tr>\n",
              "  </thead>\n",
              "  <tbody>\n",
              "    <tr>\n",
              "      <th>0</th>\n",
              "      <td>서울</td>\n",
              "      <td>인문대학</td>\n",
              "      <td>남성</td>\n",
              "    </tr>\n",
              "    <tr>\n",
              "      <th>1</th>\n",
              "      <td>부산</td>\n",
              "      <td>사회과학대학</td>\n",
              "      <td>여성</td>\n",
              "    </tr>\n",
              "    <tr>\n",
              "      <th>2</th>\n",
              "      <td>대구</td>\n",
              "      <td>자연과학대학</td>\n",
              "      <td>남성</td>\n",
              "    </tr>\n",
              "    <tr>\n",
              "      <th>3</th>\n",
              "      <td>인천</td>\n",
              "      <td>간호대학</td>\n",
              "      <td>여성</td>\n",
              "    </tr>\n",
              "    <tr>\n",
              "      <th>4</th>\n",
              "      <td>광주</td>\n",
              "      <td>경영대학</td>\n",
              "      <td>남성</td>\n",
              "    </tr>\n",
              "    <tr>\n",
              "      <th>5</th>\n",
              "      <td>대전</td>\n",
              "      <td>공과대학</td>\n",
              "      <td>여성</td>\n",
              "    </tr>\n",
              "    <tr>\n",
              "      <th>6</th>\n",
              "      <td>울산</td>\n",
              "      <td>미술대학</td>\n",
              "      <td>남성</td>\n",
              "    </tr>\n",
              "    <tr>\n",
              "      <th>7</th>\n",
              "      <td>세종</td>\n",
              "      <td>인문대학</td>\n",
              "      <td>여성</td>\n",
              "    </tr>\n",
              "    <tr>\n",
              "      <th>8</th>\n",
              "      <td>경기</td>\n",
              "      <td>사회과학대학</td>\n",
              "      <td>남성</td>\n",
              "    </tr>\n",
              "    <tr>\n",
              "      <th>9</th>\n",
              "      <td>강원</td>\n",
              "      <td>자연과학대학</td>\n",
              "      <td>여성</td>\n",
              "    </tr>\n",
              "  </tbody>\n",
              "</table>\n",
              "</div>\n",
              "      <button class=\"colab-df-convert\" onclick=\"convertToInteractive('df-79a0d5c9-5cb1-4bb0-8975-7279f4053551')\"\n",
              "              title=\"Convert this dataframe to an interactive table.\"\n",
              "              style=\"display:none;\">\n",
              "        \n",
              "  <svg xmlns=\"http://www.w3.org/2000/svg\" height=\"24px\"viewBox=\"0 0 24 24\"\n",
              "       width=\"24px\">\n",
              "    <path d=\"M0 0h24v24H0V0z\" fill=\"none\"/>\n",
              "    <path d=\"M18.56 5.44l.94 2.06.94-2.06 2.06-.94-2.06-.94-.94-2.06-.94 2.06-2.06.94zm-11 1L8.5 8.5l.94-2.06 2.06-.94-2.06-.94L8.5 2.5l-.94 2.06-2.06.94zm10 10l.94 2.06.94-2.06 2.06-.94-2.06-.94-.94-2.06-.94 2.06-2.06.94z\"/><path d=\"M17.41 7.96l-1.37-1.37c-.4-.4-.92-.59-1.43-.59-.52 0-1.04.2-1.43.59L10.3 9.45l-7.72 7.72c-.78.78-.78 2.05 0 2.83L4 21.41c.39.39.9.59 1.41.59.51 0 1.02-.2 1.41-.59l7.78-7.78 2.81-2.81c.8-.78.8-2.07 0-2.86zM5.41 20L4 18.59l7.72-7.72 1.47 1.35L5.41 20z\"/>\n",
              "  </svg>\n",
              "      </button>\n",
              "      \n",
              "  <style>\n",
              "    .colab-df-container {\n",
              "      display:flex;\n",
              "      flex-wrap:wrap;\n",
              "      gap: 12px;\n",
              "    }\n",
              "\n",
              "    .colab-df-convert {\n",
              "      background-color: #E8F0FE;\n",
              "      border: none;\n",
              "      border-radius: 50%;\n",
              "      cursor: pointer;\n",
              "      display: none;\n",
              "      fill: #1967D2;\n",
              "      height: 32px;\n",
              "      padding: 0 0 0 0;\n",
              "      width: 32px;\n",
              "    }\n",
              "\n",
              "    .colab-df-convert:hover {\n",
              "      background-color: #E2EBFA;\n",
              "      box-shadow: 0px 1px 2px rgba(60, 64, 67, 0.3), 0px 1px 3px 1px rgba(60, 64, 67, 0.15);\n",
              "      fill: #174EA6;\n",
              "    }\n",
              "\n",
              "    [theme=dark] .colab-df-convert {\n",
              "      background-color: #3B4455;\n",
              "      fill: #D2E3FC;\n",
              "    }\n",
              "\n",
              "    [theme=dark] .colab-df-convert:hover {\n",
              "      background-color: #434B5C;\n",
              "      box-shadow: 0px 1px 3px 1px rgba(0, 0, 0, 0.15);\n",
              "      filter: drop-shadow(0px 1px 2px rgba(0, 0, 0, 0.3));\n",
              "      fill: #FFFFFF;\n",
              "    }\n",
              "  </style>\n",
              "\n",
              "      <script>\n",
              "        const buttonEl =\n",
              "          document.querySelector('#df-79a0d5c9-5cb1-4bb0-8975-7279f4053551 button.colab-df-convert');\n",
              "        buttonEl.style.display =\n",
              "          google.colab.kernel.accessAllowed ? 'block' : 'none';\n",
              "\n",
              "        async function convertToInteractive(key) {\n",
              "          const element = document.querySelector('#df-79a0d5c9-5cb1-4bb0-8975-7279f4053551');\n",
              "          const dataTable =\n",
              "            await google.colab.kernel.invokeFunction('convertToInteractive',\n",
              "                                                     [key], {});\n",
              "          if (!dataTable) return;\n",
              "\n",
              "          const docLinkHtml = 'Like what you see? Visit the ' +\n",
              "            '<a target=\"_blank\" href=https://colab.research.google.com/notebooks/data_table.ipynb>data table notebook</a>'\n",
              "            + ' to learn more about interactive tables.';\n",
              "          element.innerHTML = '';\n",
              "          dataTable['output_type'] = 'display_data';\n",
              "          await google.colab.output.renderOutput(dataTable, element);\n",
              "          const docLink = document.createElement('div');\n",
              "          docLink.innerHTML = docLinkHtml;\n",
              "          element.appendChild(docLink);\n",
              "        }\n",
              "      </script>\n",
              "    </div>\n",
              "  </div>\n",
              "  "
            ]
          },
          "metadata": {},
          "execution_count": 135
        }
      ]
    },
    {
      "cell_type": "code",
      "source": [
        "# 범주형 데이터 7개의 범주 -> 7개의 변수로 변환\n",
        "college_one_hot_encoded = pd.get_dummies(hundred_students.단과대)  # get_dummies() : 단과대 정보를 원-핫 인코딩\n",
        "college_one_hot_encoded"
      ],
      "metadata": {
        "colab": {
          "base_uri": "https://localhost:8080/",
          "height": 424
        },
        "id": "ifJzUfZQMcOG",
        "outputId": "837d31ef-ee05-465e-dd04-2d3570500ab5"
      },
      "execution_count": null,
      "outputs": [
        {
          "output_type": "execute_result",
          "data": {
            "text/plain": [
              "    간호대학  경영대학  공과대학  미술대학  사회과학대학  인문대학  자연과학대학\n",
              "0      0     0     0     0       0     1       0\n",
              "1      0     0     0     0       1     0       0\n",
              "2      0     0     0     0       0     0       1\n",
              "3      1     0     0     0       0     0       0\n",
              "4      0     1     0     0       0     0       0\n",
              "..   ...   ...   ...   ...     ...   ...     ...\n",
              "95     0     1     0     0       0     0       0\n",
              "96     0     0     1     0       0     0       0\n",
              "97     0     0     0     1       0     0       0\n",
              "98     0     0     0     0       0     1       0\n",
              "99     0     0     0     0       1     0       0\n",
              "\n",
              "[100 rows x 7 columns]"
            ],
            "text/html": [
              "\n",
              "  <div id=\"df-a5944d34-0f61-40a3-ac2c-b1b409f8084b\">\n",
              "    <div class=\"colab-df-container\">\n",
              "      <div>\n",
              "<style scoped>\n",
              "    .dataframe tbody tr th:only-of-type {\n",
              "        vertical-align: middle;\n",
              "    }\n",
              "\n",
              "    .dataframe tbody tr th {\n",
              "        vertical-align: top;\n",
              "    }\n",
              "\n",
              "    .dataframe thead th {\n",
              "        text-align: right;\n",
              "    }\n",
              "</style>\n",
              "<table border=\"1\" class=\"dataframe\">\n",
              "  <thead>\n",
              "    <tr style=\"text-align: right;\">\n",
              "      <th></th>\n",
              "      <th>간호대학</th>\n",
              "      <th>경영대학</th>\n",
              "      <th>공과대학</th>\n",
              "      <th>미술대학</th>\n",
              "      <th>사회과학대학</th>\n",
              "      <th>인문대학</th>\n",
              "      <th>자연과학대학</th>\n",
              "    </tr>\n",
              "  </thead>\n",
              "  <tbody>\n",
              "    <tr>\n",
              "      <th>0</th>\n",
              "      <td>0</td>\n",
              "      <td>0</td>\n",
              "      <td>0</td>\n",
              "      <td>0</td>\n",
              "      <td>0</td>\n",
              "      <td>1</td>\n",
              "      <td>0</td>\n",
              "    </tr>\n",
              "    <tr>\n",
              "      <th>1</th>\n",
              "      <td>0</td>\n",
              "      <td>0</td>\n",
              "      <td>0</td>\n",
              "      <td>0</td>\n",
              "      <td>1</td>\n",
              "      <td>0</td>\n",
              "      <td>0</td>\n",
              "    </tr>\n",
              "    <tr>\n",
              "      <th>2</th>\n",
              "      <td>0</td>\n",
              "      <td>0</td>\n",
              "      <td>0</td>\n",
              "      <td>0</td>\n",
              "      <td>0</td>\n",
              "      <td>0</td>\n",
              "      <td>1</td>\n",
              "    </tr>\n",
              "    <tr>\n",
              "      <th>3</th>\n",
              "      <td>1</td>\n",
              "      <td>0</td>\n",
              "      <td>0</td>\n",
              "      <td>0</td>\n",
              "      <td>0</td>\n",
              "      <td>0</td>\n",
              "      <td>0</td>\n",
              "    </tr>\n",
              "    <tr>\n",
              "      <th>4</th>\n",
              "      <td>0</td>\n",
              "      <td>1</td>\n",
              "      <td>0</td>\n",
              "      <td>0</td>\n",
              "      <td>0</td>\n",
              "      <td>0</td>\n",
              "      <td>0</td>\n",
              "    </tr>\n",
              "    <tr>\n",
              "      <th>...</th>\n",
              "      <td>...</td>\n",
              "      <td>...</td>\n",
              "      <td>...</td>\n",
              "      <td>...</td>\n",
              "      <td>...</td>\n",
              "      <td>...</td>\n",
              "      <td>...</td>\n",
              "    </tr>\n",
              "    <tr>\n",
              "      <th>95</th>\n",
              "      <td>0</td>\n",
              "      <td>1</td>\n",
              "      <td>0</td>\n",
              "      <td>0</td>\n",
              "      <td>0</td>\n",
              "      <td>0</td>\n",
              "      <td>0</td>\n",
              "    </tr>\n",
              "    <tr>\n",
              "      <th>96</th>\n",
              "      <td>0</td>\n",
              "      <td>0</td>\n",
              "      <td>1</td>\n",
              "      <td>0</td>\n",
              "      <td>0</td>\n",
              "      <td>0</td>\n",
              "      <td>0</td>\n",
              "    </tr>\n",
              "    <tr>\n",
              "      <th>97</th>\n",
              "      <td>0</td>\n",
              "      <td>0</td>\n",
              "      <td>0</td>\n",
              "      <td>1</td>\n",
              "      <td>0</td>\n",
              "      <td>0</td>\n",
              "      <td>0</td>\n",
              "    </tr>\n",
              "    <tr>\n",
              "      <th>98</th>\n",
              "      <td>0</td>\n",
              "      <td>0</td>\n",
              "      <td>0</td>\n",
              "      <td>0</td>\n",
              "      <td>0</td>\n",
              "      <td>1</td>\n",
              "      <td>0</td>\n",
              "    </tr>\n",
              "    <tr>\n",
              "      <th>99</th>\n",
              "      <td>0</td>\n",
              "      <td>0</td>\n",
              "      <td>0</td>\n",
              "      <td>0</td>\n",
              "      <td>1</td>\n",
              "      <td>0</td>\n",
              "      <td>0</td>\n",
              "    </tr>\n",
              "  </tbody>\n",
              "</table>\n",
              "<p>100 rows × 7 columns</p>\n",
              "</div>\n",
              "      <button class=\"colab-df-convert\" onclick=\"convertToInteractive('df-a5944d34-0f61-40a3-ac2c-b1b409f8084b')\"\n",
              "              title=\"Convert this dataframe to an interactive table.\"\n",
              "              style=\"display:none;\">\n",
              "        \n",
              "  <svg xmlns=\"http://www.w3.org/2000/svg\" height=\"24px\"viewBox=\"0 0 24 24\"\n",
              "       width=\"24px\">\n",
              "    <path d=\"M0 0h24v24H0V0z\" fill=\"none\"/>\n",
              "    <path d=\"M18.56 5.44l.94 2.06.94-2.06 2.06-.94-2.06-.94-.94-2.06-.94 2.06-2.06.94zm-11 1L8.5 8.5l.94-2.06 2.06-.94-2.06-.94L8.5 2.5l-.94 2.06-2.06.94zm10 10l.94 2.06.94-2.06 2.06-.94-2.06-.94-.94-2.06-.94 2.06-2.06.94z\"/><path d=\"M17.41 7.96l-1.37-1.37c-.4-.4-.92-.59-1.43-.59-.52 0-1.04.2-1.43.59L10.3 9.45l-7.72 7.72c-.78.78-.78 2.05 0 2.83L4 21.41c.39.39.9.59 1.41.59.51 0 1.02-.2 1.41-.59l7.78-7.78 2.81-2.81c.8-.78.8-2.07 0-2.86zM5.41 20L4 18.59l7.72-7.72 1.47 1.35L5.41 20z\"/>\n",
              "  </svg>\n",
              "      </button>\n",
              "      \n",
              "  <style>\n",
              "    .colab-df-container {\n",
              "      display:flex;\n",
              "      flex-wrap:wrap;\n",
              "      gap: 12px;\n",
              "    }\n",
              "\n",
              "    .colab-df-convert {\n",
              "      background-color: #E8F0FE;\n",
              "      border: none;\n",
              "      border-radius: 50%;\n",
              "      cursor: pointer;\n",
              "      display: none;\n",
              "      fill: #1967D2;\n",
              "      height: 32px;\n",
              "      padding: 0 0 0 0;\n",
              "      width: 32px;\n",
              "    }\n",
              "\n",
              "    .colab-df-convert:hover {\n",
              "      background-color: #E2EBFA;\n",
              "      box-shadow: 0px 1px 2px rgba(60, 64, 67, 0.3), 0px 1px 3px 1px rgba(60, 64, 67, 0.15);\n",
              "      fill: #174EA6;\n",
              "    }\n",
              "\n",
              "    [theme=dark] .colab-df-convert {\n",
              "      background-color: #3B4455;\n",
              "      fill: #D2E3FC;\n",
              "    }\n",
              "\n",
              "    [theme=dark] .colab-df-convert:hover {\n",
              "      background-color: #434B5C;\n",
              "      box-shadow: 0px 1px 3px 1px rgba(0, 0, 0, 0.15);\n",
              "      filter: drop-shadow(0px 1px 2px rgba(0, 0, 0, 0.3));\n",
              "      fill: #FFFFFF;\n",
              "    }\n",
              "  </style>\n",
              "\n",
              "      <script>\n",
              "        const buttonEl =\n",
              "          document.querySelector('#df-a5944d34-0f61-40a3-ac2c-b1b409f8084b button.colab-df-convert');\n",
              "        buttonEl.style.display =\n",
              "          google.colab.kernel.accessAllowed ? 'block' : 'none';\n",
              "\n",
              "        async function convertToInteractive(key) {\n",
              "          const element = document.querySelector('#df-a5944d34-0f61-40a3-ac2c-b1b409f8084b');\n",
              "          const dataTable =\n",
              "            await google.colab.kernel.invokeFunction('convertToInteractive',\n",
              "                                                     [key], {});\n",
              "          if (!dataTable) return;\n",
              "\n",
              "          const docLinkHtml = 'Like what you see? Visit the ' +\n",
              "            '<a target=\"_blank\" href=https://colab.research.google.com/notebooks/data_table.ipynb>data table notebook</a>'\n",
              "            + ' to learn more about interactive tables.';\n",
              "          element.innerHTML = '';\n",
              "          dataTable['output_type'] = 'display_data';\n",
              "          await google.colab.output.renderOutput(dataTable, element);\n",
              "          const docLink = document.createElement('div');\n",
              "          docLink.innerHTML = docLinkHtml;\n",
              "          element.appendChild(docLink);\n",
              "        }\n",
              "      </script>\n",
              "    </div>\n",
              "  </div>\n",
              "  "
            ]
          },
          "metadata": {},
          "execution_count": 136
        }
      ]
    },
    {
      "cell_type": "code",
      "source": [
        "# 17 + 7 + 2 => 26개의 변수로 변환\n",
        "# 120개의 원-핫 인코딩 => 회귀분석 : 2개 이상의 범주형 변수가 있으면 안된다.\n",
        "# pd.get_dummies() : '지역', '단과대', '성별' 열을 원-핫 인코딩\n",
        "# 신경망에서 범주형 데이터 -> one-hot-encoding\n",
        "# 신경망은 반드시 정규화해야 한다.\n",
        "# 1, 2, 6\n",
        "pd.get_dummies(hundred_students, prefix = ['지역', '단과대', '성별']).head()\n",
        "\n",
        "# 범주형 변수는 회귀분석 할 때 원-핫 인코딩을 해주어야 한다."
      ],
      "metadata": {
        "colab": {
          "base_uri": "https://localhost:8080/",
          "height": 297
        },
        "id": "_-5kTInRMcP_",
        "outputId": "11e7cf72-8cde-409a-fe25-926580f52c7b"
      },
      "execution_count": null,
      "outputs": [
        {
          "output_type": "execute_result",
          "data": {
            "text/plain": [
              "   지역_강원  지역_경기  지역_경남  지역_경북  지역_광주  지역_대구  지역_대전  지역_부산  지역_서울  지역_세종  ...  \\\n",
              "0      0      0      0      0      0      0      0      0      1      0  ...   \n",
              "1      0      0      0      0      0      0      0      1      0      0  ...   \n",
              "2      0      0      0      0      0      1      0      0      0      0  ...   \n",
              "3      0      0      0      0      0      0      0      0      0      0  ...   \n",
              "4      0      0      0      0      1      0      0      0      0      0  ...   \n",
              "\n",
              "   지역_충북  단과대_간호대학  단과대_경영대학  단과대_공과대학  단과대_미술대학  단과대_사회과학대학  단과대_인문대학  \\\n",
              "0      0         0         0         0         0           0         1   \n",
              "1      0         0         0         0         0           1         0   \n",
              "2      0         0         0         0         0           0         0   \n",
              "3      0         1         0         0         0           0         0   \n",
              "4      0         0         1         0         0           0         0   \n",
              "\n",
              "   단과대_자연과학대학  성별_남성  성별_여성  \n",
              "0           0      1      0  \n",
              "1           0      0      1  \n",
              "2           1      1      0  \n",
              "3           0      0      1  \n",
              "4           0      1      0  \n",
              "\n",
              "[5 rows x 26 columns]"
            ],
            "text/html": [
              "\n",
              "  <div id=\"df-ab50c504-8d35-4396-9a86-b0ee35959452\">\n",
              "    <div class=\"colab-df-container\">\n",
              "      <div>\n",
              "<style scoped>\n",
              "    .dataframe tbody tr th:only-of-type {\n",
              "        vertical-align: middle;\n",
              "    }\n",
              "\n",
              "    .dataframe tbody tr th {\n",
              "        vertical-align: top;\n",
              "    }\n",
              "\n",
              "    .dataframe thead th {\n",
              "        text-align: right;\n",
              "    }\n",
              "</style>\n",
              "<table border=\"1\" class=\"dataframe\">\n",
              "  <thead>\n",
              "    <tr style=\"text-align: right;\">\n",
              "      <th></th>\n",
              "      <th>지역_강원</th>\n",
              "      <th>지역_경기</th>\n",
              "      <th>지역_경남</th>\n",
              "      <th>지역_경북</th>\n",
              "      <th>지역_광주</th>\n",
              "      <th>지역_대구</th>\n",
              "      <th>지역_대전</th>\n",
              "      <th>지역_부산</th>\n",
              "      <th>지역_서울</th>\n",
              "      <th>지역_세종</th>\n",
              "      <th>...</th>\n",
              "      <th>지역_충북</th>\n",
              "      <th>단과대_간호대학</th>\n",
              "      <th>단과대_경영대학</th>\n",
              "      <th>단과대_공과대학</th>\n",
              "      <th>단과대_미술대학</th>\n",
              "      <th>단과대_사회과학대학</th>\n",
              "      <th>단과대_인문대학</th>\n",
              "      <th>단과대_자연과학대학</th>\n",
              "      <th>성별_남성</th>\n",
              "      <th>성별_여성</th>\n",
              "    </tr>\n",
              "  </thead>\n",
              "  <tbody>\n",
              "    <tr>\n",
              "      <th>0</th>\n",
              "      <td>0</td>\n",
              "      <td>0</td>\n",
              "      <td>0</td>\n",
              "      <td>0</td>\n",
              "      <td>0</td>\n",
              "      <td>0</td>\n",
              "      <td>0</td>\n",
              "      <td>0</td>\n",
              "      <td>1</td>\n",
              "      <td>0</td>\n",
              "      <td>...</td>\n",
              "      <td>0</td>\n",
              "      <td>0</td>\n",
              "      <td>0</td>\n",
              "      <td>0</td>\n",
              "      <td>0</td>\n",
              "      <td>0</td>\n",
              "      <td>1</td>\n",
              "      <td>0</td>\n",
              "      <td>1</td>\n",
              "      <td>0</td>\n",
              "    </tr>\n",
              "    <tr>\n",
              "      <th>1</th>\n",
              "      <td>0</td>\n",
              "      <td>0</td>\n",
              "      <td>0</td>\n",
              "      <td>0</td>\n",
              "      <td>0</td>\n",
              "      <td>0</td>\n",
              "      <td>0</td>\n",
              "      <td>1</td>\n",
              "      <td>0</td>\n",
              "      <td>0</td>\n",
              "      <td>...</td>\n",
              "      <td>0</td>\n",
              "      <td>0</td>\n",
              "      <td>0</td>\n",
              "      <td>0</td>\n",
              "      <td>0</td>\n",
              "      <td>1</td>\n",
              "      <td>0</td>\n",
              "      <td>0</td>\n",
              "      <td>0</td>\n",
              "      <td>1</td>\n",
              "    </tr>\n",
              "    <tr>\n",
              "      <th>2</th>\n",
              "      <td>0</td>\n",
              "      <td>0</td>\n",
              "      <td>0</td>\n",
              "      <td>0</td>\n",
              "      <td>0</td>\n",
              "      <td>1</td>\n",
              "      <td>0</td>\n",
              "      <td>0</td>\n",
              "      <td>0</td>\n",
              "      <td>0</td>\n",
              "      <td>...</td>\n",
              "      <td>0</td>\n",
              "      <td>0</td>\n",
              "      <td>0</td>\n",
              "      <td>0</td>\n",
              "      <td>0</td>\n",
              "      <td>0</td>\n",
              "      <td>0</td>\n",
              "      <td>1</td>\n",
              "      <td>1</td>\n",
              "      <td>0</td>\n",
              "    </tr>\n",
              "    <tr>\n",
              "      <th>3</th>\n",
              "      <td>0</td>\n",
              "      <td>0</td>\n",
              "      <td>0</td>\n",
              "      <td>0</td>\n",
              "      <td>0</td>\n",
              "      <td>0</td>\n",
              "      <td>0</td>\n",
              "      <td>0</td>\n",
              "      <td>0</td>\n",
              "      <td>0</td>\n",
              "      <td>...</td>\n",
              "      <td>0</td>\n",
              "      <td>1</td>\n",
              "      <td>0</td>\n",
              "      <td>0</td>\n",
              "      <td>0</td>\n",
              "      <td>0</td>\n",
              "      <td>0</td>\n",
              "      <td>0</td>\n",
              "      <td>0</td>\n",
              "      <td>1</td>\n",
              "    </tr>\n",
              "    <tr>\n",
              "      <th>4</th>\n",
              "      <td>0</td>\n",
              "      <td>0</td>\n",
              "      <td>0</td>\n",
              "      <td>0</td>\n",
              "      <td>1</td>\n",
              "      <td>0</td>\n",
              "      <td>0</td>\n",
              "      <td>0</td>\n",
              "      <td>0</td>\n",
              "      <td>0</td>\n",
              "      <td>...</td>\n",
              "      <td>0</td>\n",
              "      <td>0</td>\n",
              "      <td>1</td>\n",
              "      <td>0</td>\n",
              "      <td>0</td>\n",
              "      <td>0</td>\n",
              "      <td>0</td>\n",
              "      <td>0</td>\n",
              "      <td>1</td>\n",
              "      <td>0</td>\n",
              "    </tr>\n",
              "  </tbody>\n",
              "</table>\n",
              "<p>5 rows × 26 columns</p>\n",
              "</div>\n",
              "      <button class=\"colab-df-convert\" onclick=\"convertToInteractive('df-ab50c504-8d35-4396-9a86-b0ee35959452')\"\n",
              "              title=\"Convert this dataframe to an interactive table.\"\n",
              "              style=\"display:none;\">\n",
              "        \n",
              "  <svg xmlns=\"http://www.w3.org/2000/svg\" height=\"24px\"viewBox=\"0 0 24 24\"\n",
              "       width=\"24px\">\n",
              "    <path d=\"M0 0h24v24H0V0z\" fill=\"none\"/>\n",
              "    <path d=\"M18.56 5.44l.94 2.06.94-2.06 2.06-.94-2.06-.94-.94-2.06-.94 2.06-2.06.94zm-11 1L8.5 8.5l.94-2.06 2.06-.94-2.06-.94L8.5 2.5l-.94 2.06-2.06.94zm10 10l.94 2.06.94-2.06 2.06-.94-2.06-.94-.94-2.06-.94 2.06-2.06.94z\"/><path d=\"M17.41 7.96l-1.37-1.37c-.4-.4-.92-.59-1.43-.59-.52 0-1.04.2-1.43.59L10.3 9.45l-7.72 7.72c-.78.78-.78 2.05 0 2.83L4 21.41c.39.39.9.59 1.41.59.51 0 1.02-.2 1.41-.59l7.78-7.78 2.81-2.81c.8-.78.8-2.07 0-2.86zM5.41 20L4 18.59l7.72-7.72 1.47 1.35L5.41 20z\"/>\n",
              "  </svg>\n",
              "      </button>\n",
              "      \n",
              "  <style>\n",
              "    .colab-df-container {\n",
              "      display:flex;\n",
              "      flex-wrap:wrap;\n",
              "      gap: 12px;\n",
              "    }\n",
              "\n",
              "    .colab-df-convert {\n",
              "      background-color: #E8F0FE;\n",
              "      border: none;\n",
              "      border-radius: 50%;\n",
              "      cursor: pointer;\n",
              "      display: none;\n",
              "      fill: #1967D2;\n",
              "      height: 32px;\n",
              "      padding: 0 0 0 0;\n",
              "      width: 32px;\n",
              "    }\n",
              "\n",
              "    .colab-df-convert:hover {\n",
              "      background-color: #E2EBFA;\n",
              "      box-shadow: 0px 1px 2px rgba(60, 64, 67, 0.3), 0px 1px 3px 1px rgba(60, 64, 67, 0.15);\n",
              "      fill: #174EA6;\n",
              "    }\n",
              "\n",
              "    [theme=dark] .colab-df-convert {\n",
              "      background-color: #3B4455;\n",
              "      fill: #D2E3FC;\n",
              "    }\n",
              "\n",
              "    [theme=dark] .colab-df-convert:hover {\n",
              "      background-color: #434B5C;\n",
              "      box-shadow: 0px 1px 3px 1px rgba(0, 0, 0, 0.15);\n",
              "      filter: drop-shadow(0px 1px 2px rgba(0, 0, 0, 0.3));\n",
              "      fill: #FFFFFF;\n",
              "    }\n",
              "  </style>\n",
              "\n",
              "      <script>\n",
              "        const buttonEl =\n",
              "          document.querySelector('#df-ab50c504-8d35-4396-9a86-b0ee35959452 button.colab-df-convert');\n",
              "        buttonEl.style.display =\n",
              "          google.colab.kernel.accessAllowed ? 'block' : 'none';\n",
              "\n",
              "        async function convertToInteractive(key) {\n",
              "          const element = document.querySelector('#df-ab50c504-8d35-4396-9a86-b0ee35959452');\n",
              "          const dataTable =\n",
              "            await google.colab.kernel.invokeFunction('convertToInteractive',\n",
              "                                                     [key], {});\n",
              "          if (!dataTable) return;\n",
              "\n",
              "          const docLinkHtml = 'Like what you see? Visit the ' +\n",
              "            '<a target=\"_blank\" href=https://colab.research.google.com/notebooks/data_table.ipynb>data table notebook</a>'\n",
              "            + ' to learn more about interactive tables.';\n",
              "          element.innerHTML = '';\n",
              "          dataTable['output_type'] = 'display_data';\n",
              "          await google.colab.output.renderOutput(dataTable, element);\n",
              "          const docLink = document.createElement('div');\n",
              "          docLink.innerHTML = docLinkHtml;\n",
              "          element.appendChild(docLink);\n",
              "        }\n",
              "      </script>\n",
              "    </div>\n",
              "  </div>\n",
              "  "
            ]
          },
          "metadata": {},
          "execution_count": 138
        }
      ]
    },
    {
      "cell_type": "markdown",
      "source": [
        "# 변수 선택법\n",
        "- 모델로 하는 경우 : Tree 분석 (변수 중요도 : variable importance), 데이터 구조를 확인\n",
        "- feature_selection\n",
        "- PCA (principal component analysis) : 주성분 분석 : 상관계수행렬, 공분산(정방행렬, 대칭행렬) => 고유값 분해 (고유치, 고유벡터) -> 고유벡터는 정직교하는 행렬 (축행렬), 고유치는 축 방향으로의 분산의 크기를 의미"
      ],
      "metadata": {
        "id": "vPnvjOtSdK0n"
      }
    },
    {
      "cell_type": "code",
      "source": [
        "# feature_selection 변수 선택법\n",
        "# 변수 중요도에 따라 선택한다 -> 과적합의 위험, 노이즈 역할\n",
        "from sklearn.datasets import make_friedman1\n",
        "from sklearn.feature_selection import RFE  # recursive (재귀적) feature eliminate\n",
        "from sklearn.svm import SVR  # 강력한 모델 SVR (support vector machine)\n",
        "                      # SVC\n",
        "# 2차 서포트 벡터 (support vector)\n",
        "\n",
        "X, y = make_friedman1(n_samples = 50, n_features = 5, random_state = 0)  # 50x5\n",
        "# 리눅스에서의 핵심 OS : 커널(kernel)\n",
        "estimator = SVR(kernel = 'linear')  # SVR 설정 (선형 커널) / 데이터를 분리하는 함수\n",
        "\n",
        "selector = RFE(estimator)  # RFE : 재귀적으로 특성을 제거\n",
        "selector = selector.fit(X, y)\n",
        "selector.support_  # 선택된 특성의 마스크 리턴\n",
        "# 좋지 않은 변수 : 분산이 적은 변수 (False)"
      ],
      "metadata": {
        "colab": {
          "base_uri": "https://localhost:8080/"
        },
        "id": "tmLPwEcMMcSJ",
        "outputId": "fe4726b5-e9a9-4e52-c0cd-0bcc1ca291c2"
      },
      "execution_count": null,
      "outputs": [
        {
          "output_type": "execute_result",
          "data": {
            "text/plain": [
              "array([False, False, False,  True,  True])"
            ]
          },
          "metadata": {},
          "execution_count": 139
        }
      ]
    },
    {
      "cell_type": "code",
      "source": [
        "selector.ranking_"
      ],
      "metadata": {
        "colab": {
          "base_uri": "https://localhost:8080/"
        },
        "id": "AjbNKls9McUB",
        "outputId": "171f1025-a28d-4a70-a2b0-739b78dbb247"
      },
      "execution_count": null,
      "outputs": [
        {
          "output_type": "execute_result",
          "data": {
            "text/plain": [
              "array([3, 2, 4, 1, 1])"
            ]
          },
          "metadata": {},
          "execution_count": 140
        }
      ]
    },
    {
      "cell_type": "code",
      "source": [
        "# 변수가 많다고해서 다 좋은 변수는 아니다.\n",
        "# 분산 기반 특성 선택\n",
        "# 데이터 X에서 분산 기준으로 특성 선택을 수행, 선택된 특성을 포함하는 배열을 반환\n",
        "from sklearn.feature_selection import VarianceThreshold\n",
        "X = [[0, 0, 1], [0, 1, 0], [1, 0, 0], [0, 1, 1], [0, 1, 0], [0, 1, 1]]  # 6x3\n",
        "sel = VarianceThreshold(threshold = (0.15))  # 분산의 최소값(0.15)을 설정\n",
        "sel.fit_transform(X)  # 특성 선택을 수행, 선택된 특성을 포함하는 배열을 반환"
      ],
      "metadata": {
        "id": "GMGLyHl1dDZp",
        "colab": {
          "base_uri": "https://localhost:8080/"
        },
        "outputId": "aa25ae1e-5621-48fa-9a1b-af436f05bb25"
      },
      "execution_count": 141,
      "outputs": [
        {
          "output_type": "execute_result",
          "data": {
            "text/plain": [
              "array([[0, 1],\n",
              "       [1, 0],\n",
              "       [0, 0],\n",
              "       [1, 1],\n",
              "       [1, 0],\n",
              "       [1, 1]])"
            ]
          },
          "metadata": {},
          "execution_count": 141
        }
      ]
    },
    {
      "cell_type": "code",
      "source": [
        "# 붓꽃 데이터셋에서 카이제곱 통계량을 기반으로 한 특성 선택\n",
        "from sklearn.datasets import load_iris\n",
        "from sklearn.feature_selection import SelectKBest\n",
        "from sklearn.feature_selection import chi2  # 기준값 \n",
        "X, y = load_iris(return_X_y = True)\n",
        "print(\"원본: \", X.shape)  # 원본 데이터\n",
        "\n",
        "X_new = SelectKBest(chi2, k=2).fit_transform(X, y)  # 카이제곱값을 기준으로 2개의 특성을 선택 / 종속변수에 영향을 미치는 변수들을 추출\n",
        "X_new.shape"
      ],
      "metadata": {
        "id": "K0dqx788dDcd",
        "colab": {
          "base_uri": "https://localhost:8080/"
        },
        "outputId": "1afa5190-e12e-41aa-9110-07f92fa5e309"
      },
      "execution_count": 148,
      "outputs": [
        {
          "output_type": "stream",
          "name": "stdout",
          "text": [
            "원본:  (150, 4)\n"
          ]
        },
        {
          "output_type": "execute_result",
          "data": {
            "text/plain": [
              "(150, 2)"
            ]
          },
          "metadata": {},
          "execution_count": 148
        }
      ]
    }
  ]
}